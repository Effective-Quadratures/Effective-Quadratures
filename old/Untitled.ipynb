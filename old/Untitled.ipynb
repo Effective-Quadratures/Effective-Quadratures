{
 "cells": [
  {
   "cell_type": "markdown",
   "metadata": {},
   "source": [
    "<h1> Gradient Enhanced Effective Quadrature Subsampling"
   ]
  },
  {
   "cell_type": "code",
   "execution_count": 2,
   "metadata": {
    "collapsed": true
   },
   "outputs": [],
   "source": [
    "import effective_quadratures.qr as qr\n",
    "import numpy as np"
   ]
  },
  {
   "cell_type": "code",
   "execution_count": null,
   "metadata": {
    "collapsed": true
   },
   "outputs": [],
   "source": [
    "# Set the parameters\n",
    "x1 = Parameter(lower=38.2, upper=250.4, points=3)\n",
    "x2 = Parameter(lower=0.157, upper=0.313, points=3)\n",
    "parameters = [x1, x2, x3, x4]\n",
    "\n",
    "# Set the polynomial basis\n",
    "orders = [2, 2, 2, 2]\n",
    "polybasis = IndexSet(\"Total order\", orders)\n",
    "print polybasis.getIndexSet()\n",
    "maximum_number_of_evals = polybasis.getCardinality()\n",
    "\n",
    "        # Set up effective quadrature subsampling\n",
    "        esq = EffectiveSubsampling(parameters, polybasis)\n",
    "        points = esq.getEffectivelySubsampledPoints(maximum_number_of_evals)\n",
    "        print points\n",
    "\n",
    "        # Use the output from simulation data\n",
    "        #Output = [15.9881,16.5091,16.0162,15.9950,16.0310,16.4592,16.0958,15.8507,16.0757,15.9252,16.4301,16.1259,16.4682,16.0501,16.2200]\n",
    "        Output = [0.0906050857157,0.0776969827712,0.0864368518814,0.0932615157217,0.0892242211848,0.0767011023127,0.0866207387298, 0.0977708660066,0.0861118221655,0.0963280722499,0.0774124991149,0.087565776892,0.0768618592992,0.0870198933408,0.0866443598643]\n",
    "        #Output = [24.8170119614, 23.7770471604, 24.6131673073, 24.9723698096, 24.6920894782, 23.7015914415, 24.6180488646, 25.2502586048, 24.5767649971, 25.1656386185, 23.7951837649, 24.5402057883, 23.7204920408, 24.5140496633, 24.4823906956]\n",
    "        #Output = [9.28511113565, 8.59116120376, 9.20725286751, 9.22159875619, 9.19565064461, 8.51969919061, 9.15223514391, 9.38391902559, 9.15666537065\t, 9.31338865761\t, 8.57543965821\t, 9.0772799181, 8.53049860903, 9.17308676441, 8.98211942423]\n",
    "        Output = np.mat(Output)\n",
    "\n",
    "        # Solve the least squares problem\n",
    "        x = esq.solveLeastSquares(maximum_number_of_evals, Output.T)\n",
    "        \n",
    "solveLeastSquaresWithGradients(self, maximum_number_of_evals, function_values, gradient_values)"
   ]
  }
 ],
 "metadata": {
  "kernelspec": {
   "display_name": "Python [conda root]",
   "language": "python",
   "name": "conda-root-py"
  },
  "language_info": {
   "codemirror_mode": {
    "name": "ipython",
    "version": 2
   },
   "file_extension": ".py",
   "mimetype": "text/x-python",
   "name": "python",
   "nbconvert_exporter": "python",
   "pygments_lexer": "ipython2",
   "version": "2.7.12"
  }
 },
 "nbformat": 4,
 "nbformat_minor": 1
}
