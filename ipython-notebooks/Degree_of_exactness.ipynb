{
 "cells": [
  {
   "cell_type": "code",
   "execution_count": 1,
   "metadata": {},
   "outputs": [],
   "source": [
    "%matplotlib inline\n",
    "from equadratures import *\n",
    "import numpy as np"
   ]
  },
  {
   "cell_type": "markdown",
   "metadata": {},
   "source": [
    "<h1> Understanding degree of exactness </h1>"
   ]
  },
  {
   "cell_type": "markdown",
   "metadata": {},
   "source": [
    "First consider the case of Gauss-Legendre quadrature with a degree of exactness of $2n-1$"
   ]
  },
  {
   "cell_type": "code",
   "execution_count": 2,
   "metadata": {},
   "outputs": [],
   "source": [
    "Mi = 4\n",
    "x2 = Parameter(distribution='Uniform', order=Mi, lower=-1., upper=1.)\n",
    "totalorder = Basis('Total order', [Mi+1])\n",
    "Polyobject = Polylsq(parameters=[x2], basis=totalorder, mesh='tensor', optimization='greedy-svd', oversampling=1.0)"
   ]
  },
  {
   "cell_type": "markdown",
   "metadata": {},
   "source": [
    "Now let us plot $\\mathbf{A}^T \\mathbf{A}$"
   ]
  },
  {
   "cell_type": "code",
   "execution_count": 3,
   "metadata": {},
   "outputs": [
    {
     "data": {
      "image/png": "[encoded data removed]",
      "text/plain": [
       "<matplotlib.figure.Figure at 0x10a4e8190>"
      ]
     },
     "metadata": {},
     "output_type": "display_data"
    }
   ],
   "source": [
    "M = np.dot(Polyobject.A.T , Polyobject.A)\n",
    "fig = plt.figure()\n",
    "ax = fig.add_subplot(1,1,1)\n",
    "plt.imshow(M, interpolation='nearest', cmap=cm.jet, vmin=0., vmax=2.0)\n",
    "plt.colorbar()\n",
    "frame1 = plt.gca()\n",
    "frame1.axes.xaxis.set_ticklabels([])\n",
    "frame1.axes.yaxis.set_ticklabels([])\n",
    "ticks = []\n",
    "ticks2 = []\n",
    "for i in range(0, totalorder.cardinality):\n",
    "    ticks.append(str(totalorder.elements[i,:]))\n",
    "plt.yticks(np.arange(totalorder.cardinality), ticks, fontsize=10)\n",
    "mm, nn = Polyobject.Az.shape\n",
    "titlestring = r'$\\mathbf{A}^T \\mathbf{A}$ where $\\mathbf{A}\\in \\mathbb{R}^{%s \\times %s}$'%(mm, nn)\n",
    "plt.title(titlestring,fontsize=15)\n",
    "plt.savefig('Figure_1.eps', dpi=200)\n",
    "plt.show()\n",
    "del M"
   ]
  },
  {
   "cell_type": "markdown",
   "metadata": {},
   "source": [
    "Let us repeat this, but now use Gauss-Legendre-Lobatto points that have a degree of exactness of $2n-3$"
   ]
  },
  {
   "cell_type": "code",
   "execution_count": 4,
   "metadata": {},
   "outputs": [
    {
     "data": {
      "image/png": "[encoded data removed]",
      "text/plain": [
       "<matplotlib.figure.Figure at 0x10a4d10d0>"
      ]
     },
     "metadata": {},
     "output_type": "display_data"
    }
   ],
   "source": [
    "Mi = 4\n",
    "x2 = Parameter(distribution='Uniform', order=Mi, lower=-1., upper=1., endpoints=True)\n",
    "totalorder = Basis('Total order', [Mi+1])\n",
    "Polyobject = Polylsq(parameters=[x2], basis=totalorder, mesh='tensor', optimization='greedy-svd', oversampling=1.0)\n",
    "M = np.dot(Polyobject.A.T , Polyobject.A)\n",
    "fig = plt.figure()\n",
    "ax = fig.add_subplot(1,1,1)\n",
    "plt.imshow(M, interpolation='nearest', cmap=cm.jet, vmin=0., vmax=2.0)\n",
    "plt.colorbar()\n",
    "frame1 = plt.gca()\n",
    "frame1.axes.xaxis.set_ticklabels([])\n",
    "frame1.axes.yaxis.set_ticklabels([])\n",
    "ticks = []\n",
    "ticks2 = []\n",
    "for i in range(0, totalorder.cardinality):\n",
    "    ticks.append(str(totalorder.elements[i,:]))\n",
    "plt.yticks(np.arange(totalorder.cardinality), ticks, fontsize=10)\n",
    "mm, nn = Polyobject.Az.shape\n",
    "titlestring = r'$\\mathbf{A}^T \\mathbf{A}$ where $\\mathbf{A}\\in \\mathbb{R}^{%s \\times %s}$'%(mm, nn)\n",
    "plt.title(titlestring,fontsize=15)\n",
    "plt.savefig('Figure_2.eps', dpi=200)\n",
    "plt.show()"
   ]
  },
  {
   "cell_type": "code",
   "execution_count": 5,
   "metadata": {},
   "outputs": [
    {
     "name": "stdout",
     "output_type": "stream",
     "text": [
      "(array([[-1.00000000e+00],\n",
      "       [-6.54653671e-01],\n",
      "       [-7.40639607e-17],\n",
      "       [ 6.54653671e-01],\n",
      "       [ 1.00000000e+00]]), array([0.05      , 0.27222222, 0.35555556, 0.27222222, 0.05      ]))\n"
     ]
    }
   ],
   "source": [
    "print Polyobject.getTensorQuadratureRule()"
   ]
  },
  {
   "cell_type": "code",
   "execution_count": 6,
   "metadata": {},
   "outputs": [
    {
     "data": {
      "image/png": "[encoded data removed]",
      "text/plain": [
       "<matplotlib.figure.Figure at 0x10a498e50>"
      ]
     },
     "metadata": {},
     "output_type": "display_data"
    }
   ],
   "source": [
    "Mi = 4\n",
    "x2 = Parameter(distribution='Chebyshev', order=Mi, lower=-1., upper=1., endpoints=True)\n",
    "totalorder = Basis('Total order', [Mi+1])\n",
    "Polyobject = Polylsq(parameters=[x2], basis=totalorder, mesh='tensor', optimization='greedy-svd', oversampling=1.0)\n",
    "M = np.dot(Polyobject.A.T , Polyobject.A)\n",
    "fig = plt.figure()\n",
    "ax = fig.add_subplot(1,1,1)\n",
    "plt.imshow(M, interpolation='nearest', cmap=cm.jet, vmin=0., vmax=2.0)\n",
    "plt.colorbar()\n",
    "frame1 = plt.gca()\n",
    "frame1.axes.xaxis.set_ticklabels([])\n",
    "frame1.axes.yaxis.set_ticklabels([])\n",
    "ticks = []\n",
    "ticks2 = []\n",
    "for i in range(0, totalorder.cardinality):\n",
    "    ticks.append(str(totalorder.elements[i,:]))\n",
    "plt.yticks(np.arange(totalorder.cardinality), ticks, fontsize=10)\n",
    "mm, nn = Polyobject.Az.shape\n",
    "titlestring = r'$\\mathbf{A}^T \\mathbf{A}$ where $\\mathbf{A}\\in \\mathbb{R}^{%s \\times %s}$'%(mm, nn)\n",
    "plt.title(titlestring,fontsize=15)\n",
    "plt.savefig('Figure_3.eps', dpi=200)\n",
    "plt.show()"
   ]
  },
  {
   "cell_type": "code",
   "execution_count": 7,
   "metadata": {},
   "outputs": [
    {
     "name": "stdout",
     "output_type": "stream",
     "text": [
      "(array([[-1.00000000e+00],\n",
      "       [-7.07106781e-01],\n",
      "       [-1.51226430e-16],\n",
      "       [ 7.07106781e-01],\n",
      "       [ 1.00000000e+00]]), array([0.125, 0.25 , 0.25 , 0.25 , 0.125]))\n"
     ]
    }
   ],
   "source": [
    "print Polyobject.getTensorQuadratureRule()"
   ]
  },
  {
   "cell_type": "code",
   "execution_count": null,
   "metadata": {},
   "outputs": [],
   "source": []
  }
 ],
 "metadata": {
  "kernelspec": {
   "display_name": "Python 2",
   "language": "python",
   "name": "python2"
  },
  "language_info": {
   "codemirror_mode": {
    "name": "ipython",
    "version": 2
   },
   "file_extension": ".py",
   "mimetype": "text/x-python",
   "name": "python",
   "nbconvert_exporter": "python",
   "pygments_lexer": "ipython2",
   "version": "2.7.14"
  }
 },
 "nbformat": 4,
 "nbformat_minor": 2
}
