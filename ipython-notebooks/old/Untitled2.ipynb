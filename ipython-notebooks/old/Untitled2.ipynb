{
 "cells": [
  {
   "cell_type": "code",
   "execution_count": 1,
   "metadata": {},
   "outputs": [],
   "source": [
    "%matplotlib inline\n",
    "from equadratures import *\n",
    "import numpy as np"
   ]
  },
  {
   "cell_type": "markdown",
   "metadata": {},
   "source": [
    "<h1>Understanding the differences in weights </h1>"
   ]
  },
  {
   "cell_type": "code",
   "execution_count": 2,
   "metadata": {},
   "outputs": [],
   "source": [
    "basis = Basis('Tensor')\n",
    "x1 = Parameter(distribution='uniform', lower=-2., upper=13., order=3)\n",
    "x2 = Parameter(distribution='uniform', lower=-8., upper=8., order=4)\n",
    "Pintegration = Polyint([x1,x2], basis)"
   ]
  },
  {
   "cell_type": "code",
   "execution_count": 3,
   "metadata": {},
   "outputs": [],
   "source": [
    "basis2 = Basis('Total order', [3, 3])\n",
    "Pleastsquares = Polylsq([x1,x2], basis2, mesh='tensor', optimization='greedy-qr', oversampling=1.0)"
   ]
  },
  {
   "cell_type": "code",
   "execution_count": 4,
   "metadata": {},
   "outputs": [],
   "source": [
    "def fun(x):\n",
    "    return 2.*x[0] + np.exp(0.1 * x[1]) + x[0]*x[1]**2 - 3.2"
   ]
  },
  {
   "cell_type": "code",
   "execution_count": 5,
   "metadata": {},
   "outputs": [],
   "source": [
    "Pintegration.computeCoefficients(fun)\n",
    "Pleastsquares.computeCoefficients(fun)"
   ]
  },
  {
   "cell_type": "code",
   "execution_count": 6,
   "metadata": {},
   "outputs": [
    {
     "name": "stdout",
     "output_type": "stream",
     "text": [
      "[[ 1.26243466e+02]\n",
      " [ 4.92124279e-01]\n",
      " [ 1.05045969e+02]\n",
      " [ 1.33662123e-02]\n",
      " [ 1.33145762e-03]\n",
      " [ 1.01036297e+02]\n",
      " [ 1.71338699e-13]\n",
      " [ 8.26236447e+01]\n",
      " [-6.88839624e-14]\n",
      " [-4.90943195e-14]\n",
      " [ 2.83164433e-14]\n",
      " [-1.44819415e-15]\n",
      " [ 1.70210652e-14]\n",
      " [-5.05651196e-15]\n",
      " [ 2.79073082e-16]\n",
      " [ 1.23285161e-14]\n",
      " [ 3.63462852e-15]\n",
      " [ 1.17454855e-14]\n",
      " [-4.20391270e-15]\n",
      " [ 1.84838908e-15]] [[ 1.26243876e+02]\n",
      " [ 4.92124279e-01]\n",
      " [ 1.01036814e+02]\n",
      " [-1.16041608e-13]\n",
      " [ 1.05045782e+02]\n",
      " [ 6.41000254e-04]\n",
      " [ 8.26236447e+01]\n",
      " [-1.57746801e-13]\n",
      " [ 1.33662123e-02]\n",
      " [-9.56072291e-04]]\n"
     ]
    }
   ],
   "source": [
    "print Pintegration.coefficients, Pleastsquares.coefficients"
   ]
  },
  {
   "cell_type": "code",
   "execution_count": 7,
   "metadata": {},
   "outputs": [],
   "source": [
    "Sintegration = Pintegration.getStatistics()\n",
    "Sleastsquares = Pleastsquares.getStatistics()"
   ]
  },
  {
   "cell_type": "code",
   "execution_count": 8,
   "metadata": {},
   "outputs": [
    {
     "data": {
      "text/plain": [
       "(126.24346581102392,\n",
       " 28069.897965689055,\n",
       " {(0,): array([0.36367547]),\n",
       "  (0, 1): array([0.2432024]),\n",
       "  (1,): array([0.39312213])})"
      ]
     },
     "execution_count": 8,
     "metadata": {},
     "output_type": "execute_result"
    }
   ],
   "source": [
    "Sintegration.mean, Sintegration.variance, Sintegration.sobol"
   ]
  },
  {
   "cell_type": "code",
   "execution_count": 9,
   "metadata": {},
   "outputs": [
    {
     "data": {
      "text/plain": [
       "(126.24387643716224,\n",
       " 28069.963017328668,\n",
       " {(0,): matrix([[0.36367835]]),\n",
       "  (0, 1): matrix([[0.24320184]]),\n",
       "  (1,): matrix([[0.39311981]])})"
      ]
     },
     "execution_count": 9,
     "metadata": {},
     "output_type": "execute_result"
    }
   ],
   "source": [
    "Sleastsquares.mean, Sleastsquares.variance, Sleastsquares.sobol"
   ]
  },
  {
   "cell_type": "code",
   "execution_count": null,
   "metadata": {},
   "outputs": [],
   "source": []
  }
 ],
 "metadata": {
  "kernelspec": {
   "display_name": "Python 2",
   "language": "python",
   "name": "python2"
  },
  "language_info": {
   "codemirror_mode": {
    "name": "ipython",
    "version": 2
   },
   "file_extension": ".py",
   "mimetype": "text/x-python",
   "name": "python",
   "nbconvert_exporter": "python",
   "pygments_lexer": "ipython2",
   "version": "2.7.14"
  }
 },
 "nbformat": 4,
 "nbformat_minor": 2
}
