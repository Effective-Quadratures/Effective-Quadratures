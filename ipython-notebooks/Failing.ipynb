{
 "cells": [
  {
   "cell_type": "markdown",
   "metadata": {},
   "source": [
    "<h1> Where effective subsampling can fail"
   ]
  },
  {
   "cell_type": "code",
   "execution_count": 1,
   "metadata": {
    "collapsed": true
   },
   "outputs": [],
   "source": [
    "%matplotlib inline\n",
    "from effective_quadratures.parameter import Parameter\n",
    "from effective_quadratures.polynomial import Polynomial\n",
    "from effective_quadratures.indexset import IndexSet\n",
    "from effective_quadratures.effectivequads import EffectiveSubsampling\n",
    "from effective_quadratures.utils import compute_errors, evalfunction, column\n",
    "import matplotlib.pyplot as plt\n",
    "import numpy as np"
   ]
  },
  {
   "cell_type": "markdown",
   "metadata": {},
   "source": [
    "In this notebook, we present a simple 2D example where the effectively subsampled quadrature technique may fail. Consider the following 2D function"
   ]
  },
  {
   "cell_type": "code",
   "execution_count": 2,
   "metadata": {
    "collapsed": true
   },
   "outputs": [],
   "source": [
    "def fun(x):\n",
    "        return 1.0/(1 + 50*(x[0]- 0.9)**2 + 50*(x[1] + 0.9)**2 )\n"
   ]
  },
  {
   "cell_type": "markdown",
   "metadata": {},
   "source": [
    "We may approximate it with a 2D tensor grid with 10 points in each direction:"
   ]
  },
  {
   "cell_type": "code",
   "execution_count": 3,
   "metadata": {
    "collapsed": true
   },
   "outputs": [],
   "source": [
    "###############################################################################################\n",
    "# Tensor grid \n",
    "################################################################################################\n",
    "value_large = 10\n",
    "x1 = Parameter(param_type=\"Uniform\", lower=-1, upper=1, points=value_large)\n",
    "x2 = Parameter(param_type=\"Uniform\", lower=-1, upper=1, points=value_large)\n",
    "uq = Polynomial([x1,x2])\n",
    "p, w = uq.getPointsAndWeights()"
   ]
  },
  {
   "cell_type": "markdown",
   "metadata": {},
   "source": [
    "Or we may use the effective subsampling technique with a hyperbolic basis with a q parameter of 0.3:"
   ]
  },
  {
   "cell_type": "code",
   "execution_count": 4,
   "metadata": {
    "collapsed": false
   },
   "outputs": [],
   "source": [
    "################################################################################\n",
    "# Using effective quadratures\n",
    "################################################################################\n",
    "no_of_subsamples = 10\n",
    "x1 = Parameter(param_type=\"Uniform\", lower=-1, upper=1, points=no_of_subsamples)\n",
    "x2 = Parameter(param_type=\"Uniform\", lower=-1, upper=1, points=no_of_subsamples)\n",
    "parameters = [x1, x2]\n",
    "Hyperbolic = IndexSet(\"Hyperbolic basis\", orders=[no_of_subsamples-1,no_of_subsamples-1], q=0.3)\n",
    "esq = EffectiveSubsampling(parameters, Hyperbolic)\n",
    "minimum_subsamples = esq.least_no_of_subsamples_reqd() \n",
    "esq.set_no_of_evals(minimum_subsamples)"
   ]
  },
  {
   "cell_type": "markdown",
   "metadata": {},
   "source": [
    "Now let's have a look at where exactly these subsamples lie"
   ]
  },
  {
   "cell_type": "code",
   "execution_count": 5,
   "metadata": {
    "collapsed": false
   },
   "outputs": [
    {
     "name": "stderr",
     "output_type": "stream",
     "text": [
      "/Library/Frameworks/Python.framework/Versions/2.7/lib/python2.7/site-packages/matplotlib/collections.py:548: FutureWarning: elementwise comparison failed; returning scalar instead, but in the future will perform elementwise comparison\n",
      "  if self._edgecolors == 'face':\n"
     ]
    },
    {
     "data": {
      "image/png": "[encoded data removed]",
      "text/plain": [
       "<matplotlib.figure.Figure at 0x10678a950>"
      ]
     },
     "metadata": {},
     "output_type": "display_data"
    }
   ],
   "source": [
    "################################################################################\n",
    "# Plots of sample locations\n",
    "################################################################################\n",
    "xvec = np.linspace(-1.,1.,100)                               \n",
    "x,y = np.meshgrid(xvec, xvec)\n",
    "z =  1.0/(1 + 50*(x - 0.9)**2 + 50*(y + 0.9)**2 )                     \n",
    "plt.contourf(x, y, z, 100, rasterized=False)      \n",
    "plt.plot(p[0:5,0], p[0:5,1], 'go',  markersize=11, alpha=0.6)  \n",
    "plt.plot(esq.subsampled_quadrature_points[:,0], esq.subsampled_quadrature_points[:,1], 'ro',  markersize=8)                       \n",
    "plt.colorbar()\n",
    "plt.xlabel(r'$\\zeta_1$', fontsize=16)\n",
    "plt.ylabel(r'$\\zeta_2$', fontsize=16)\n",
    "plt.show()"
   ]
  },
  {
   "cell_type": "markdown",
   "metadata": {},
   "source": [
    "In the figure above, the green points are from the tensor grid, while the red points are a few subsamples of that grid. It is readily apparent that the subsampled points fail to capture the jump in the function around (0.9, -0.9). The point to note here is that the subsampling procedure is invariant to the response of the function. For completeness, we include a plot of the basis terms used when determining the subsamples, below:"
   ]
  },
  {
   "cell_type": "code",
   "execution_count": 6,
   "metadata": {
    "collapsed": false
   },
   "outputs": [
    {
     "data": {
      "image/png": "[encoded data removed]",
      "text/plain": [
       "<matplotlib.figure.Figure at 0x106767d10>"
      ]
     },
     "metadata": {},
     "output_type": "display_data"
    }
   ],
   "source": [
    "Hyperbolic.plot()"
   ]
  }
 ],
 "metadata": {
  "anaconda-cloud": {},
  "kernelspec": {
   "display_name": "Python 2",
   "language": "python",
   "name": "python2"
  },
  "language_info": {
   "codemirror_mode": {
    "name": "ipython",
    "version": 2
   },
   "file_extension": ".py",
   "mimetype": "text/x-python",
   "name": "python",
   "nbconvert_exporter": "python",
   "pygments_lexer": "ipython2",
   "version": "2.7.4"
  }
 },
 "nbformat": 4,
 "nbformat_minor": 1
}
