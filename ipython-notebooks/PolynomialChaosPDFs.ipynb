{
 "cells": [
  {
   "cell_type": "markdown",
   "metadata": {},
   "source": [
    "<h1> Plotting PDFs using Polynomial Chaos"
   ]
  },
  {
   "cell_type": "markdown",
   "metadata": {},
   "source": [
    "Recall, in one of the earlier notebooks we learnt that we can plot \"input\" PDFs. We also learnt that we can approximate our model's quantity of interest (output of the computational model) using a polynomial expansion; approximate its mean, variance and even Sobol' indices using the polynomial coefficients. In this notebook, we demonstrate how to compute a PDF of the quantity of interest. Let's assume that our model is the following analytical function"
   ]
  },
  {
   "cell_type": "markdown",
   "metadata": {},
   "source": [
    "$$f(x_1, x_2) = exp(x_1 + x_2) - 0.5 cos(2 \\pi x_1),$$"
   ]
  },
  {
   "cell_type": "markdown",
   "metadata": {},
   "source": [
    "defined over $\\mathcal{X} \\in [-1,1]^2$. Here both variables have truncated Gaussian distributions with $mu=0.1$ and $\\sigma^2=0.05$. "
   ]
  },
  {
   "cell_type": "code",
   "execution_count": 1,
   "metadata": {
    "collapsed": false
   },
   "outputs": [],
   "source": [
    "%matplotlib inline\n",
    "from effective_quadratures.parameter import Parameter\n",
    "from effective_quadratures.indexset import IndexSet\n",
    "from effective_quadratures.polynomial import Polynomial\n",
    "import numpy as np"
   ]
  },
  {
   "cell_type": "markdown",
   "metadata": {},
   "source": [
    "Writing out the parameters"
   ]
  },
  {
   "cell_type": "code",
   "execution_count": 2,
   "metadata": {
    "collapsed": false
   },
   "outputs": [],
   "source": [
    "x1 = Parameter(lower=-1, upper=1, points=6, shape_parameter_A=0.0, shape_parameter_B=0.05, param_type='TruncatedGaussian')\n",
    "x2 = Parameter(lower=-1, upper=1, points=6, shape_parameter_A=0.1, shape_parameter_B=0.05, param_type='TruncatedGaussian')"
   ]
  },
  {
   "cell_type": "markdown",
   "metadata": {},
   "source": [
    "Writing out the function"
   ]
  },
  {
   "cell_type": "code",
   "execution_count": 3,
   "metadata": {
    "collapsed": true
   },
   "outputs": [],
   "source": [
    "def expfun(x):\n",
    "    return np.exp(x[0] + x[1] ) - 0.5*np.cos(x[0]*2*np.pi)"
   ]
  },
  {
   "cell_type": "markdown",
   "metadata": {},
   "source": [
    "We will use a tensor grid with a maximum univariate order of 5 in each direction to propagate the uncertainties"
   ]
  },
  {
   "cell_type": "code",
   "execution_count": 4,
   "metadata": {
    "collapsed": false
   },
   "outputs": [
    {
     "data": {
      "image/png": "[encoded data removed]",
      "text/plain": [
       "<matplotlib.figure.Figure at 0x103e59710>"
      ]
     },
     "metadata": {},
     "output_type": "display_data"
    }
   ],
   "source": [
    "T = IndexSet('Tensor grid', [5,5])\n",
    "uq = Polynomial([x1,x2], T)\n",
    "output = uq.getPDF(expfun, graph=1)"
   ]
  },
  {
   "cell_type": "markdown",
   "metadata": {},
   "source": [
    "Voila!"
   ]
  }
 ],
 "metadata": {
  "anaconda-cloud": {},
  "kernelspec": {
   "display_name": "Python [conda root]",
   "language": "python",
   "name": "conda-root-py"
  },
  "language_info": {
   "codemirror_mode": {
    "name": "ipython",
    "version": 2
   },
   "file_extension": ".py",
   "mimetype": "text/x-python",
   "name": "python",
   "nbconvert_exporter": "python",
   "pygments_lexer": "ipython2",
   "version": "2.7.12"
  }
 },
 "nbformat": 4,
 "nbformat_minor": 0
}
