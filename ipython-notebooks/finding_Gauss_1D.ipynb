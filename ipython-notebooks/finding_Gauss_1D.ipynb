{
 "cells": [
  {
   "cell_type": "code",
   "execution_count": 1,
   "metadata": {},
   "outputs": [],
   "source": [
    "%matplotlib inline\n",
    "from equadratures import *\n",
    "import numpy as np"
   ]
  },
  {
   "cell_type": "markdown",
   "metadata": {},
   "source": [
    "<h1> Computing 1D Gauss points </h1>"
   ]
  },
  {
   "cell_type": "markdown",
   "metadata": {},
   "source": [
    "The objective of this note is to demonstrate how various linear algebra (and convex optimization) heuristics can be used for finding the Gauss quadrature points!"
   ]
  },
  {
   "cell_type": "code",
   "execution_count": 2,
   "metadata": {},
   "outputs": [],
   "source": [
    "K , M = 6 , 100\n",
    "x1 = Parameter(param_type='Uniform', order=M, lower=-1., upper=1.)\n",
    "x2 = Parameter(param_type='Uniform', order=K, lower=-1., upper=1.)\n",
    "totalorder = Basis('Total order', [K])"
   ]
  },
  {
   "cell_type": "code",
   "execution_count": 3,
   "metadata": {},
   "outputs": [
    {
     "name": "stderr",
     "output_type": "stream",
     "text": [
      "/Users/matrix/Library/Python/2.7/lib/python/site-packages/scipy/linalg/basic.py:1226: RuntimeWarning: internal gelsd driver lwork query error, required iwork dimension not returned. This is likely the result of LAPACK bug 0038, fixed in LAPACK 3.2.2 (released July 21, 2010). Falling back to 'gelss' driver.\n",
      "  warnings.warn(mesg, RuntimeWarning)\n"
     ]
    }
   ],
   "source": [
    "Newton = Polylsq(parameters=[x1], basis=totalorder, mesh='tensor', optimization='newton', oversampling=1.0)\n",
    "SVD = Polylsq(parameters=[x1], basis=totalorder, mesh='tensor', optimization='greedy-svd', oversampling=1.0)\n",
    "QR = Polylsq(parameters=[x1], basis=totalorder, mesh='tensor', optimization='greedy-qr', oversampling=1.0)"
   ]
  },
  {
   "cell_type": "code",
   "execution_count": 4,
   "metadata": {},
   "outputs": [],
   "source": [
    "gauss_pts, __ = x2._getLocalQuadrature()\n",
    "grid_pts, __ = x1._getLocalQuadrature()"
   ]
  },
  {
   "cell_type": "code",
   "execution_count": 7,
   "metadata": {},
   "outputs": [
    {
     "data": {
      "image/png": "[encoded data removed]",
      "text/plain": [
       "<matplotlib.figure.Figure at 0x10a50ee90>"
      ]
     },
     "metadata": {},
     "output_type": "display_data"
    }
   ],
   "source": [
    "fig = plt.figure()\n",
    "ax = fig.add_subplot(1,1,1)\n",
    "plt.scatter(grid_pts[:,0], np.zeros((M+1, 1)), marker='o', s=80, alpha=0.2, color='gray',linewidth=1.5, label='Grid')\n",
    "plt.scatter(gauss_pts[:,0], 0.1+np.zeros((K+1, 1)), marker='o', s=100, alpha=0.6, color='red',linewidth=1.5, label='Gauss')\n",
    "plt.scatter(Newton.pts, np.zeros((K+1, 1))-0.1, marker='o', s=100, alpha=0.7, color='limegreen',linewidth=1.5, label='Convex')\n",
    "plt.scatter(SVD.pts, 0.05+np.zeros((K+1, 1)), marker='d', s=100, alpha=0.7, color='navy',linewidth=1.5, label='SVD')\n",
    "plt.scatter(QR.pts, np.zeros((K+1, 1))-0.05, marker='s', s=100, alpha=0.7, color='gold',linewidth=1.5, label='QR')\n",
    "adjust_spines(ax, ['left', 'bottom'])\n",
    "plt.grid(b=True, which='major', color='gray', linestyle='-', linewidth=0.2)\n",
    "plt.legend(bbox_to_anchor=(0., 1.02, 1., .102), loc=3,ncol=5, mode=\"expand\", borderaxespad=0., fontsize=11)\n",
    "frame1 = plt.gca()\n",
    "frame1.axes.yaxis.set_ticklabels([])\n",
    "plt.xlabel('$\\zeta_1$')\n",
    "plt.show()"
   ]
  },
  {
   "cell_type": "code",
   "execution_count": null,
   "metadata": {},
   "outputs": [],
   "source": []
  }
 ],
 "metadata": {
  "kernelspec": {
   "display_name": "Python 2",
   "language": "python",
   "name": "python2"
  },
  "language_info": {
   "codemirror_mode": {
    "name": "ipython",
    "version": 2
   },
   "file_extension": ".py",
   "mimetype": "text/x-python",
   "name": "python",
   "nbconvert_exporter": "python",
   "pygments_lexer": "ipython2",
   "version": "2.7.14"
  }
 },
 "nbformat": 4,
 "nbformat_minor": 2
}
