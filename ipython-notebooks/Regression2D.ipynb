{
 "cells": [
  {
   "cell_type": "markdown",
   "metadata": {},
   "source": [
    "<h1> Polynomial regression in 2D"
   ]
  },
  {
   "cell_type": "markdown",
   "metadata": {},
   "source": [
    "So you have some data, and you'd like to get a \"best-fit\" curve through the data. No problem. That's pretty much what this guide seeks to do. So let's get started; consider the data set below."
   ]
  },
  {
   "cell_type": "markdown",
   "metadata": {},
   "source": [
    "$$\\begin{array}{ccc} \\hline\n",
    "  & X_1 & X_2 &  Y  \\\\ \\hline\n",
    "         0  & 0.32 &  6.8053 \\\\\n",
    "    0.0714  & -1.5184 \\\\\n",
    "    0.1429  &  1.6416 \\\\\n",
    "    0.2857  &  6.3543 \\\\\n",
    "    0.3571  &  14.3442 \\\\\n",
    "    0.4286  & 16.4426 \\\\\n",
    "    0.5714  &  18.1953 \\\\\n",
    "    0.6429  &  28.9913 \\\\\n",
    "    0.7143  &  27.2246 \\\\\n",
    "    0.7857  &  40.3759 \\\\\n",
    "    0.9286  &  55.3726 \\\\\n",
    "    1.0000  &  72.0 \\\\ \\hline\n",
    "\\end{array}$$"
   ]
  }
 ],
 "metadata": {
  "kernelspec": {
   "display_name": "Python [conda root]",
   "language": "python",
   "name": "conda-root-py"
  },
  "language_info": {
   "codemirror_mode": {
    "name": "ipython",
    "version": 2
   },
   "file_extension": ".py",
   "mimetype": "text/x-python",
   "name": "python",
   "nbconvert_exporter": "python",
   "pygments_lexer": "ipython2",
   "version": "2.7.12"
  }
 },
 "nbformat": 4,
 "nbformat_minor": 1
}
