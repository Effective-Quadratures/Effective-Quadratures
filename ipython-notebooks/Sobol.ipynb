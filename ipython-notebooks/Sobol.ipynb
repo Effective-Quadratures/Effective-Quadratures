{
 "cells": [
  {
   "cell_type": "markdown",
   "metadata": {},
   "source": [
    "<h1> Computing Sensitivity (Sobol) Indices"
   ]
  },
  {
   "cell_type": "markdown",
   "metadata": {},
   "source": [
    "In many computational problems there are a few key inputs that actually dictate the state of the output. Computing the Sobol indices of the inputs is one approach to determine which inputs are the $\\textit{drivers}$. Typically computation of the Sobol indices involves a large number of samples -- significantly more than required to get the variance in the data. However as shown in Blatman et al. [1], using orthogonal polynomials these can be computed with relative ease. In this notebook we demonstrate how we can compute these indices using effective quadratures. "
   ]
  },
  {
   "cell_type": "markdown",
   "metadata": {},
   "source": [
    "We consider the well-known piston problem from Kenett et al. [2] that is a non-linear, seven-dimensional problem that outputs the piston cycle time given various piston parameters. These parameters and their bounds are shown in the table below."
   ]
  },
  {
   "cell_type": "markdown",
   "metadata": {
    "collapsed": true
   },
   "source": [
    "$$\\begin{array}{lll} \\hline\n",
    "Variable & Range & Description \\\\ \\hline\n",
    "M & [30, 60] & Piston \\; weight \\; (kg)\\\\ \n",
    "S & [0.005, 0.0020] & Piston \\; surface \\; area \\; (m^2)\\\\ \n",
    "V_0 & [0.002, 0.010] & Initial \\; gas \\; volume \\; (m^3)\\\\ \n",
    "k & [1000,5000] & Spring \\; coefficient \\; (N/m)\\\\ \n",
    "P_0 & [90000, 110000] & Atmospheric \\; pressure \\; (N/m^2)\\\\ \n",
    "T_a & [290, 296] & Ambient \\; temperature \\; (K)\\\\ \n",
    "T_0 & [340, 360] & Filling \\; gas \\; temperature \\; (K)\\\\ \\hline\n",
    "\\end{array}$$"
   ]
  },
  {
   "cell_type": "markdown",
   "metadata": {},
   "source": [
    "The cycle time for the piston is given by\n",
    "$$C=2\\pi\\sqrt{\\frac{M}{k+S^{2}\\frac{P_{0}V_{0}T_{a}}{T_{0}V^{2}}}},$$\n",
    "where\n",
    "$$V=\\frac{S}{2k}\\left(\\sqrt{A^{2}+4k\\frac{P_{0}V_{0}}{T_{0}}T_{a}}-A\\right),$$\n",
    "and\n",
    "$$A=P_{0}S+19.62M-\\frac{kV_{0}}{S}.$$\n",
    "The estimated $\\textit{normalized}$ Sobol indices from Owen et al. [3] are given to be:"
   ]
  },
  {
   "cell_type": "markdown",
   "metadata": {},
   "source": [
    "$$\\begin{array}{lllllll} \\hline\n",
    "  & M &  S & V_0 & k & P_0 & T_a & T_0  \\\\ \\hline\n",
    "10^2 \\underline{\\tau^{(2)}} \\; indices & 0.073 & 1.088 & 0.626 & 0.040 & 0.001 & -0.002 & -0.002 \\\\ \\hline\n",
    "\\end{array}$$\n",
    "\n",
    "Note that these values are effectively the Sobol index multiplied by the variance. See [3] for further details."
   ]
  },
  {
   "cell_type": "code",
   "execution_count": 1,
   "metadata": {
    "collapsed": false
   },
   "outputs": [],
   "source": [
    "%matplotlib inline\n",
    "from effective_quadratures.parameter import Parameter\n",
    "from effective_quadratures.polynomial import Polynomial\n",
    "from effective_quadratures.indexset import IndexSet\n",
    "from effective_quadratures.effectivequads import EffectiveSubsampling\n",
    "from effective_quadratures.computestats import Statistics\n",
    "import numpy as np"
   ]
  },
  {
   "cell_type": "markdown",
   "metadata": {},
   "source": [
    "As before, we begin by defining each parameter and its range using four points for each variable."
   ]
  },
  {
   "cell_type": "code",
   "execution_count": 2,
   "metadata": {
    "collapsed": false
   },
   "outputs": [],
   "source": [
    "mass = Parameter(lower=30, upper=60, points=5)\n",
    "area = Parameter(lower=0.005, upper=0.020, points=5)\n",
    "volume = Parameter(lower=0.002, upper=0.010, points=5)\n",
    "spring = Parameter(lower=1000, upper=5000, points=5)\n",
    "pressure = Parameter(lower=90000, upper=110000, points=5)\n",
    "ambtemp = Parameter(lower=290, upper=296, points=5)\n",
    "gastemp = Parameter(lower=340, upper=360, points=5)\n",
    "parameters = [mass, area, volume, spring, pressure, ambtemp, gastemp]\n",
    "\n",
    "def piston(x):\n",
    "    mass, area, volume, spring, pressure, ambtemp, gastemp = x[0], x[1], x[2], x[3], x[4], x[5], x[6]\n",
    "    A = pressure * area + 19.62*mass - (spring * volume)/(1.0 * area)\n",
    "    V = (area/(2*spring)) * ( np.sqrt(A**2 + 4*spring * pressure * volume * ambtemp/gastemp) - A)\n",
    "    C = 2 * np.pi * np.sqrt(mass/(spring + area**2 * pressure * volume * ambtemp/(gastemp * V**2)))\n",
    "    return C\n",
    "    "
   ]
  },
  {
   "cell_type": "markdown",
   "metadata": {},
   "source": [
    "We will opt for a total order basis set with effective quadrature subsampling"
   ]
  },
  {
   "cell_type": "code",
   "execution_count": null,
   "metadata": {
    "collapsed": false
   },
   "outputs": [
    {
     "name": "stdout",
     "output_type": "stream",
     "text": [
      "320\n"
     ]
    }
   ],
   "source": [
    "orders = [4,4,3,4,3,4,2]\n",
    "polybasis = IndexSet(\"total order\", orders)\n",
    "maximum_number_of_evals = polybasis.getCardinality()\n",
    "print maximum_number_of_evals"
   ]
  },
  {
   "cell_type": "markdown",
   "metadata": {},
   "source": [
    "Now with these preliminaries out of the way, lets solve the least squares problem and use the coefficients to estimate the Sobol indices. Since the piston cycle time need not be a polynomial, we will use more quadrature subsamples than basis terms. We will use 200 in this case."
   ]
  },
  {
   "cell_type": "code",
   "execution_count": null,
   "metadata": {
    "collapsed": false
   },
   "outputs": [],
   "source": [
    "esq = EffectiveSubsampling(parameters, polybasis)\n",
    "points = esq.getPointsToEvaluate(maximum_number_of_evals)\n",
    "x = esq.solveLeastSquares(maximum_number_of_evals, piston)"
   ]
  },
  {
   "cell_type": "markdown",
   "metadata": {},
   "source": [
    "Printing the output to the screen:"
   ]
  },
  {
   "cell_type": "code",
   "execution_count": null,
   "metadata": {
    "collapsed": false
   },
   "outputs": [],
   "source": [
    "pistonUQ = Statistics(x, polybasis)\n",
    "mean = pistonUQ.getMean()\n",
    "variance = pistonUQ.getVariance()\n",
    "sobol = pistonUQ.getFirstOrderSobol()\n",
    "\n",
    "print 'VARIANCE'\n",
    "print variance\n",
    "print '\\n'\n",
    "print 'FIRST ORDER SOBOL INDICES:'\n",
    "print sobol\n",
    "print '\\n'\n",
    "print 'NORMALIZED INDICES'\n",
    "print sobol * variance * 10**2"
   ]
  },
  {
   "cell_type": "code",
   "execution_count": null,
   "metadata": {
    "collapsed": true
   },
   "outputs": [],
   "source": []
  },
  {
   "cell_type": "markdown",
   "metadata": {},
   "source": [
    "These values closely match those in Owen et al. [3]. "
   ]
  },
  {
   "cell_type": "markdown",
   "metadata": {},
   "source": [
    "<h3> References"
   ]
  },
  {
   "cell_type": "markdown",
   "metadata": {},
   "source": [
    "1. Blatman, Géraud, and Bruno Sudret. \"Adaptive sparse polynomial chaos expansion based on least angle regression.\" Journal of Computational Physics 230.6 (2011): 2345-2367.\n",
    "2. Kenett, Ron, Shelemyahu Zacks, and Daniele Amberti. Modern Industrial Statistics: with applications in R, MINITAB and JMP. John Wiley & Sons, 2013.\n",
    "3. Owen, Art B., Josef Dick, and Su Chen. \"Higher order Sobol'indices.\" Information and Inference 3.1 (2014): 59-81."
   ]
  }
 ],
 "metadata": {
  "kernelspec": {
   "display_name": "Python 2",
   "language": "python",
   "name": "python2"
  },
  "language_info": {
   "codemirror_mode": {
    "name": "ipython",
    "version": 2
   },
   "file_extension": ".py",
   "mimetype": "text/x-python",
   "name": "python",
   "nbconvert_exporter": "python",
   "pygments_lexer": "ipython2",
   "version": "2.7.10"
  }
 },
 "nbformat": 4,
 "nbformat_minor": 0
}
