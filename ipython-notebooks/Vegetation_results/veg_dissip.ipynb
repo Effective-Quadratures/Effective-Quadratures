{
 "cells": [
  {
   "cell_type": "code",
   "execution_count": 11,
   "metadata": {
    "collapsed": false
   },
   "outputs": [],
   "source": [
    "import matplotlib.pyplot as plt\n",
    "import netCDF4\n",
    "import numpy as np "
   ]
  },
  {
   "cell_type": "code",
   "execution_count": 12,
   "metadata": {
    "collapsed": false
   },
   "outputs": [],
   "source": [
    "def read(his_file,sim_num,fname): \n",
    "#def read(his_file,sim_num): \n",
    "    \n",
    "# Middle of the vegetation patch  \n",
    "    jmid=50; imid=45; \n",
    "# detect the presence of vegetation patch to know its extents (Currently hardwired\n",
    "    imin_plant=41 ; imax_plant=50 ; jmin_plant=45 ; jmax_plant=54   \n",
    "    \n",
    "    nc = netCDF4.Dataset(his_file)\n",
    "    mask = nc.variables['mask_rho'][:]\n",
    "\n",
    "# read x,y\n",
    "    x = nc.variables['x_rho'][:,:]\n",
    "    y = nc.variables['y_rho'][:,:] \n",
    "    tot_time = nc.variables['ocean_time'] \n",
    "\n",
    "# Remember all arrays are (time,kmax,jmax,imax) contrary to Matlab     \n",
    "    imax=len(x[1,:])\n",
    "    jmax=len(y[:,1])\n",
    "    \n",
    "# read water depth\n",
    "    depth = nc.variables['h'][:,:] \n",
    "       \n",
    "# read 3D water level at all time steps\n",
    "    eta = nc.variables['zeta']  \n",
    "    \n",
    "# Extract the time frame for the last tidal cycle\n",
    "    t_tidal=[]\n",
    "    for t in range(1,len(tot_time)):\n",
    "        if(eta[t,jmid,imid]<0.0 and eta[t+1,jmid,imid]>0.0):\n",
    "            t_tidal.append(t)\n",
    "\n",
    "    t_tidal_srt=t_tidal[-2]\n",
    "    t_tidal_end=t_tidal[-1]\n",
    "    print \"Last tidal cycle starts and ends at this instance\" \n",
    "    print t_tidal_srt,t_tidal_end   \n",
    "    t_slice=t_tidal_end-t_tidal_srt+1\n",
    "   \n",
    " #    for t in range(t_tidal_srt,t_tidal_end+1): \n",
    "#        eta = nc.variables['zeta'][t,:,:] \n",
    "# Calculate mean wave dissipation from last tidal cycle due to vegetation just behind the patch \n",
    "# calculate it along a cross section at integrate along depth \n",
    "# Take 5 points on both sides of the edges \n",
    "# Note the values asymptote above 1 point on both sides of the edge \n",
    "\n",
    "    tidalsum_dissip_veg=0.0 \n",
    "    for t in range (t_tidal_srt,t_tidal_end+1): \n",
    "        dissip_veg =nc.variables['Dissip_veg'][t,:,:] \n",
    "        for j in range(jmin_plant-5,jmax_plant+6):\n",
    "            for i in range(imin_plant-5,imax_plant+6):\n",
    "                tidalsum_dissip_veg = dissip_veg[j,i]+tidalsum_dissip_veg \n",
    "    \n",
    "    mean_dissip_veg=tidalsum_dissip_veg/t_slice\n",
    "\n",
    "    print \"mean_dissip_veg\"\n",
    "    print mean_dissip_veg \n",
    "    \n",
    "    f.write(\"%s\\t, %s\\t \\n\" % (sim_num, mean_dissip_veg))\n"
   ]
  },
  {
   "cell_type": "code",
   "execution_count": 13,
   "metadata": {
    "collapsed": false
   },
   "outputs": [
    {
     "name": "stdout",
     "output_type": "stream",
     "text": [
      "Last tidal cycle starts and ends at this instance\n",
      "180 252\n",
      "mean_dissip_veg\n",
      "0.00288641956093\n",
      "Last tidal cycle starts and ends at this instance\n",
      "180 252\n",
      "mean_dissip_veg\n",
      "0.000588094010481\n",
      "Last tidal cycle starts and ends at this instance\n",
      "180 252\n",
      "mean_dissip_veg\n",
      "0.00406629056334\n",
      "Last tidal cycle starts and ends at this instance\n",
      "180 252\n",
      "mean_dissip_veg\n",
      "0.0030033701336\n",
      "Last tidal cycle starts and ends at this instance\n",
      "180 252\n",
      "mean_dissip_veg\n",
      "0.00238950553151\n",
      "Last tidal cycle starts and ends at this instance\n",
      "180 252\n",
      "mean_dissip_veg\n",
      "0.00147861895071\n",
      "Last tidal cycle starts and ends at this instance\n",
      "180 252\n",
      "mean_dissip_veg\n",
      "0.00351944094428\n",
      "Last tidal cycle starts and ends at this instance\n",
      "180 252\n",
      "mean_dissip_veg\n",
      "0.0035562196531\n",
      "Last tidal cycle starts and ends at this instance\n",
      "180 252\n",
      "mean_dissip_veg\n",
      "0.00332515724102\n",
      "Last tidal cycle starts and ends at this instance\n",
      "180 252\n",
      "mean_dissip_veg\n",
      "0.00382217771319\n",
      "Last tidal cycle starts and ends at this instance\n",
      "180 252\n",
      "mean_dissip_veg\n",
      "0.00217241293763\n",
      "Last tidal cycle starts and ends at this instance\n",
      "180 252\n",
      "mean_dissip_veg\n",
      "0.00125030030237\n",
      "Last tidal cycle starts and ends at this instance\n",
      "180 252\n",
      "mean_dissip_veg\n",
      "0.00102605317042\n",
      "Last tidal cycle starts and ends at this instance\n",
      "180 252\n",
      "mean_dissip_veg\n",
      "0.00160467600591\n",
      "Last tidal cycle starts and ends at this instance\n",
      "180 252\n",
      "mean_dissip_veg\n",
      "0.0018514665637\n"
     ]
    }
   ],
   "source": [
    "'''Output from vegetation module COAWST\n",
    "Mean wave dissipation around vegetation patch-last tidal cycle [(Watt/mt2)/time = Watt/mts2-second '''\n",
    " \n",
    "\n",
    "fname='dissip_output.txt'\n",
    "f = open(fname, 'w')\n",
    "total_sim_list=16\n",
    "f.write(\"Case_no, Mean wave dissipation: \\n\")\n",
    "\n",
    "for sim_num in range(1,total_sim_list):\n",
    "#path='/media/gadar/DATADRIVE1/sensitivity_history/run_ext_new/veg_test_his_3_ext.nc'\n",
    "    path1='/media/gadar/DATADRIVE1/sensitivity_history/run_ext_new/'\n",
    "    path2='veg_test_his_'+ str(sim_num)+'_ext' + '.nc'\n",
    "    url=path1+path2\n",
    "\n",
    "    read(url,sim_num,fname)\n",
    "#read(url,sim_num)   \n",
    "f.close()"
   ]
  },
  {
   "cell_type": "markdown",
   "metadata": {
    "collapsed": true
   },
   "source": [
    " "
   ]
  },
  {
   "cell_type": "code",
   "execution_count": null,
   "metadata": {
    "collapsed": true
   },
   "outputs": [],
   "source": []
  }
 ],
 "metadata": {
  "kernelspec": {
   "display_name": "Python 2",
   "language": "python",
   "name": "python2"
  },
  "language_info": {
   "codemirror_mode": {
    "name": "ipython",
    "version": 2
   },
   "file_extension": ".py",
   "mimetype": "text/x-python",
   "name": "python",
   "nbconvert_exporter": "python",
   "pygments_lexer": "ipython2",
   "version": "2.7.12"
  }
 },
 "nbformat": 4,
 "nbformat_minor": 0
}
