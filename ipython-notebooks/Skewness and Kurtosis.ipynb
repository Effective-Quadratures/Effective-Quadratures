{
 "cells": [
  {
   "cell_type": "markdown",
   "metadata": {},
   "source": [
    "# Higher order Sobol' indices, skewness and kurtosis indices"
   ]
  },
  {
   "cell_type": "markdown",
   "metadata": {
    "collapsed": true
   },
   "source": [
    "<h3> Nicholas Wong </h3>\n",
    "<h4> University of Cambridge</h4>"
   ]
  },
  {
   "cell_type": "code",
   "execution_count": 1,
   "metadata": {
    "collapsed": true
   },
   "outputs": [],
   "source": [
    "%matplotlib inline\n",
    "from equadratures import *\n",
    "import numpy as np\n",
    "import scipy.stats as s"
   ]
  },
  {
   "cell_type": "markdown",
   "metadata": {},
   "source": [
    "In certain cases, higher order output statistical indices may need to be estimated given input PDF. While first order statistics give the fractional variance conditioned on one variable at a time, the interactions between subsets of variables are neglected. Higher order Sobol' indices address this particular issue.\n",
    "\n",
    "Variances give the spread of the data away from the mean, but does not account for the direction of the spread and the relative weight of the tail of the distribution (the \"peakiness\"). The skewness and kurtosis address precisely these concerns. These measures can also be decomposed in a similar fashion to Sobol' indices, giving rise to conditional skewness and kurtosis. Individual components to the skewness and kurtosis with respect to each input variable or groups of such may be computed using the new methods in the Statistics class. "
   ]
  },
  {
   "cell_type": "markdown",
   "metadata": {},
   "source": [
    "<h2> Methodology </h2>\n",
    "\n",
    "The computation of Sobol' indices is intuitive when conidering the computation of the global variance using PC. Due to orthogonality of the basis polynomials, the global variance is computed as:\n",
    "\n",
    "$$ \\textrm{Var}[f(x)] = \\sum_{i=1}^{P} \\beta_i^2, $$\n",
    "\n",
    "where $\\beta_i$'s are PC expansion coefficients, associated with a certain polynomial. A Sobol' index simply sums up the squares of cofficients corresponding to contributing polynomials (i.e. polynomials with a non-zero order in the variables concerned. Conditional skewness/kurtosis indices follow the same principle.\n",
    "\n",
    "Skewness and kurtosis are defined as the third and fourth central standardized moment. For instance, the skewness is:\n",
    "\n",
    "$$\\mu^{3} = \\int_S (f(x) - \\mu)^{3} \\rho ds = \\int_S \\left(\\sum_{i=1}^P \\beta_i \\pi_i(x)\\right)^{3} \\rho ds,$$\n",
    "\n",
    "where $\\rho$ is the input PDF, defined over $S$, the support. In practice, Gauss quadrature is used to evaluate the integral numerically, and two approaches can be taken. Firstly, one can sum the polynomial evaluations, each weighted by the corresponding coefficient, at the quadrature points, resulting in a \"total evaluation\" at each quadrature point. Then, cube/fourth the results and compute the integral by forming the inner product with a quadrature weight vector. (effectively sum-before-integral) This approach is $O(Pd)$ where $P$ is the number of basis terms and $d$ is the input dimension. This is satisfactory for computing the global skewness/kurtosis.\n",
    "\n",
    "However, to compute conditional indices, it is necessary to expand the inner sum using the multinomial theorem first, as only by doing so will the result be interpretable as a sum of contributions from each  (group of) basis term(s) (effectively integral-before-sum). The details of such expansion is given in Geraci et al [1]. With computing the variance-based Sobol' indices, the cross term conveniently cancels with orthogonality. However, with skewness and kurtosis the cross terms do not necessarily cancel. This necessitates an $O(P^3d)$ operation for skewness and $O(P^4d)$ operation for kurtosis, resulting in forbiddingly long computational times. \n",
    "\n",
    "However, all is not lost, and some saving may be achieved with low order conditional skewness/kurtosis terms. Firstly, Geraci et al.[reference!] details some conditions where the integral in the sum need not be computed as they are zero. Secondly, as only cross term integrals that result in the variables we are interested in need to be computed, some basis terms can be eliminated a priori. For instance, when computing first order indices, it is not necessary to consider any basis term that has total order larger than 1, since any integral with such a basis term will only increase the number of participating variables, and certainly will not contribute to the first order index at the end. This reduces the complexity to $O(n^3d)$ for skewness, for example, where $n << P$ is the highest order of the polynomial in any dimension."
   ]
  },
  {
   "cell_type": "markdown",
   "metadata": {},
   "source": [
    "<h2> Usage Example </h2>\n",
    "\n",
    "Let's see the methods in action. First we define a test function. Taking the quadratic G-function [reference!] as an example: \n",
    "\n",
    "$$ f(x_0, x_1, x_2, x_3) = \\prod_{i=1}^4 \\frac{|4x_i - 2| + i^2}{1+i^2}. $$"
   ]
  },
  {
   "cell_type": "code",
   "execution_count": 2,
   "metadata": {
    "collapsed": true
   },
   "outputs": [],
   "source": [
    "def G_fun(x):\n",
    "    f = 1.0\n",
    "    for i in range(4):\n",
    "        t = (np.abs(4*x[i] - 2) + i**2.0) * 1.0/(1 + i**2.0)\n",
    "        f = f * t\n",
    "    return f"
   ]
  },
  {
   "cell_type": "markdown",
   "metadata": {},
   "source": [
    "Let's use a degree 5 tensor grid as the index set and the following input PDF:\n",
    "\n",
    "$$ x_0, x_1, x_2, x_3 \\sim \\mathcal{U}(0,1)^4. $$"
   ]
  },
  {
   "cell_type": "code",
   "execution_count": 3,
   "metadata": {
    "collapsed": true
   },
   "outputs": [],
   "source": [
    "degree = 5\n",
    "points_used = degree + 1\n",
    "x0 = Parameter(param_type=\"Uniform\", lower=0.0, upper=1.0, points=points_used)\n",
    "x1 = Parameter(param_type=\"Uniform\", lower=0.0, upper=1.0, points=points_used)\n",
    "x2 = Parameter(param_type=\"Uniform\", lower=0.0, upper=1.0, points=points_used)\n",
    "x3 = Parameter(param_type=\"Uniform\", lower=0.0, upper=1.0, points=points_used)\n",
    "parameters = [x0,x1,x2,x3]"
   ]
  },
  {
   "cell_type": "markdown",
   "metadata": {},
   "source": [
    "Calculate the polynomial coefficients and initiate Statistics class:"
   ]
  },
  {
   "cell_type": "code",
   "execution_count": 4,
   "metadata": {
    "collapsed": true
   },
   "outputs": [],
   "source": [
    "basis = IndexSet('Tensor grid',[degree,degree,degree,degree])\n",
    "uqProblem = Polyint(parameters,basis)\n",
    "coefficients, indices, pts = uqProblem.getPolynomialCoefficients(G_fun)\n",
    "stats = Statistics(coefficients, basis, parameters)"
   ]
  },
  {
   "cell_type": "markdown",
   "metadata": {},
   "source": [
    "By default, global indices (mean, variance, skewness and kurtosis) are already computed at initialization. They can be viewed through printing the corresponding class variables"
   ]
  },
  {
   "cell_type": "code",
   "execution_count": 5,
   "metadata": {
    "collapsed": false
   },
   "outputs": [
    {
     "name": "stdout",
     "output_type": "stream",
     "text": [
      "1.03619468893\n",
      "0.423001291441\n",
      "0.874198787521\n",
      "3.03775388049\n"
     ]
    }
   ],
   "source": [
    "print stats.mean\n",
    "print stats.variance\n",
    "print stats.skewness\n",
    "print stats.kurtosis"
   ]
  },
  {
   "cell_type": "markdown",
   "metadata": {},
   "source": [
    "Now sample the output distribution with Monte Carlo and compute the statistics:"
   ]
  },
  {
   "cell_type": "code",
   "execution_count": 6,
   "metadata": {
    "collapsed": false
   },
   "outputs": [
    {
     "name": "stdout",
     "output_type": "stream",
     "text": [
      "1.0003033832\n",
      "0.471885570482\n",
      "0.688292325516\n",
      "2.92393148972\n"
     ]
    }
   ],
   "source": [
    "x0_samples = x0.getSamples(100000)\n",
    "x1_samples = x1.getSamples(100000)\n",
    "x2_samples = x2.getSamples(100000)\n",
    "x3_samples = x3.getSamples(100000)\n",
    "f = np.zeros((100000,1))\n",
    "\n",
    "for i in range(100000):\n",
    "    f[i,0] = G_fun([x0_samples[i,0], x1_samples[i,0], x2_samples[i,0], x3_samples[i,0]])\n",
    "\n",
    "print np.mean(f)\n",
    "print np.var(f)\n",
    "print float(s.skew(f))\n",
    "print float(s.kurtosis(f, fisher = False))"
   ]
  },
  {
   "cell_type": "markdown",
   "metadata": {},
   "source": [
    "As seen, the agreement is not bad. Now, let's calculate the first two orders of conditional indices."
   ]
  },
  {
   "cell_type": "code",
   "execution_count": 7,
   "metadata": {
    "collapsed": false
   },
   "outputs": [],
   "source": [
    "v1 = stats.getSobol(1)\n",
    "v2 = stats.getSobol(2)\n",
    "s1 = stats.getCondSkewness(1)\n",
    "s2 = stats.getCondSkewness(2)\n",
    "k1 = stats.getCondKurtosis(1)\n",
    "k2 = stats.getCondKurtosis(2)"
   ]
  },
  {
   "cell_type": "markdown",
   "metadata": {},
   "source": [
    "Here, the keys of each dict signify the dimensions involved in the index. Let's examine the sum of the indices in these two orders:"
   ]
  },
  {
   "cell_type": "code",
   "execution_count": 8,
   "metadata": {
    "collapsed": false
   },
   "outputs": [
    {
     "name": "stdout",
     "output_type": "stream",
     "text": [
      "0.999175600763\n",
      "0.962874587829\n",
      "0.89419000212\n"
     ]
    }
   ],
   "source": [
    "print sum(v1.values()) + sum(v2.values())\n",
    "print sum(s1.values()) + sum(s2.values())\n",
    "print sum(k1.values()) + sum(k2.values())"
   ]
  },
  {
   "cell_type": "markdown",
   "metadata": {},
   "source": [
    "As seen, the sums are close to one, so we don't miss much by not evaluating the rest of the indices (which could take a long time)."
   ]
  },
  {
   "cell_type": "markdown",
   "metadata": {},
   "source": [
    "We may put these values in more context by calculating the Total Sensitivity Index [1] of each dimension:\n",
    "\n",
    "$$ \\textrm{TSI}^a_j = \\sum_{\\textbf{m}\\in V_j} s^{SI}_\\textbf{m}, $$\n",
    "\n",
    "where $V_j$ denotes the set of multi-indices $\\textbf{m}$ that contains the dimension concerned, $j$. This can be applied to variance ($a = v$), skewness ($a = s$) and kurtosis ($a = k$). In our case, for example, we approximate:\n",
    "\n",
    "$$ \\textrm{TSI}^v_0 = \\texttt{v1[(0)] + v2[(0,1)] + v2[(0,2)] + v2[(0,3)] } $$"
   ]
  },
  {
   "cell_type": "code",
   "execution_count": 9,
   "metadata": {
    "collapsed": false
   },
   "outputs": [
    {
     "name": "stdout",
     "output_type": "stream",
     "text": [
      "[ 0.77715308  0.23639978  0.04004516  0.01008302]\n",
      "[ 0.90833698  0.66941268  0.12475714  0.03166169]\n",
      "[ 0.85915885  0.54439872  0.08897176  0.02198146]\n"
     ]
    }
   ],
   "source": [
    "print stats.calc_TSI([v1,v2])\n",
    "print stats.calc_TSI([s1,s2])\n",
    "print stats.calc_TSI([k1,k2])"
   ]
  },
  {
   "cell_type": "markdown",
   "metadata": {},
   "source": [
    "The results agree with the fact about the G-function, that the larger $i$ is the lower the conditional index will be, and offers a quantitative measure of how important the variable is: the higher the index, the more important it is. This type of analysis can be applied to dimensional reduction applications to prune unnecessary variables. They also agree somewhat with Geraci et al.[1], but with some discrepancies (possibly due to the index set used).\n",
    "\n",
    "Finally, we can visualize the results with a bar plot:"
   ]
  },
  {
   "cell_type": "code",
   "execution_count": 10,
   "metadata": {
    "collapsed": false
   },
   "outputs": [
    {
     "data": {
      "image/png": "[encoded data removed]",
      "text/plain": [
       "<matplotlib.figure.Figure at 0x10c677f50>"
      ]
     },
     "metadata": {},
     "output_type": "display_data"
    }
   ],
   "source": [
    "v = v1.copy()\n",
    "s = s1.copy()\n",
    "k = k1.copy()\n",
    "v.update(v2)\n",
    "s.update(s2)\n",
    "k.update(k2)\n",
    "\n",
    "stats.plot_all_indices([v,s,k])"
   ]
  },
  {
   "cell_type": "markdown",
   "metadata": {},
   "source": [
    "<h4>References</h4>"
   ]
  },
  {
   "cell_type": "markdown",
   "metadata": {},
   "source": [
    "Geraci, G., Congedo, P. M., Abgrall, R., & Iaccarino, G. (2016). High-order statistics in global sensitivity analysis: decomposition and model reduction. Computer Methods in Applied Mechanics and Engineering, 301, 80-115."
   ]
  }
 ],
 "metadata": {
  "anaconda-cloud": {},
  "kernelspec": {
   "display_name": "Python [default]",
   "language": "python",
   "name": "python2"
  },
  "language_info": {
   "codemirror_mode": {
    "name": "ipython",
    "version": 2
   },
   "file_extension": ".py",
   "mimetype": "text/x-python",
   "name": "python",
   "nbconvert_exporter": "python",
   "pygments_lexer": "ipython2",
   "version": "2.7.12"
  }
 },
 "nbformat": 4,
 "nbformat_minor": 2
}
