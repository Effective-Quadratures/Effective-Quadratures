{
 "cells": [
  {
   "cell_type": "markdown",
   "metadata": {},
   "source": [
    "# Higher order Sobol' indices, Skewness and Kurtosis Indices"
   ]
  },
  {
   "cell_type": "code",
   "execution_count": 19,
   "metadata": {},
   "outputs": [],
   "source": [
    "%matplotlib inline\n",
    "from equadratures import *\n",
    "import numpy as np\n",
    "import scipy.stats as s"
   ]
  },
  {
   "cell_type": "code",
   "execution_count": 4,
   "metadata": {},
   "outputs": [],
   "source": [
    "import sys\n",
    "sys.path.append(\"../\")"
   ]
  },
  {
   "cell_type": "markdown",
   "metadata": {},
   "source": [
    "In certain cases, higher order output statistical indices may need to be estimated given input PDF. While first order statistics give the fractional variance conditioned on one variable at a time, the interactions between subsets of variables are neglected. Higher order Sobol' indices address this particular issue.\n",
    "\n",
    "Variances give the spread of the data away from the mean, but does not account for the direction of the spread and the relative weight of the tail of the distribution (the \"peakiness\"). The skewness and kurtosis address precisely these concerns. These measures can also be decomposed in a similar fashion to Sobol' indices, giving rise to conditional skewness and kurtosis. Individual components to the skewness and kurtosis with respect to each input variable or groups of such may be computed using the new methods in the Statistics class. "
   ]
  },
  {
   "cell_type": "markdown",
   "metadata": {},
   "source": [
    "<h2> Methodology </h2>\n",
    "\n",
    "The computation of Sobol' indices is intuitive when conidering the computation of the global variance using PC. Due to orthogonality of the basis polynomials, the global variance is computed as:\n",
    "\n",
    "$$ \\textrm{Var}[f(x)] = \\sum_{i=1}^{P} \\beta_i^2, $$\n",
    "\n",
    "where $\\beta_i$'s are PC expansion coefficients, associated with a certain polynomial. A Sobol' index simply sums up the squares of cofficients corresponding to contributing polynomials (i.e. polynomials with a non-zero order in the variables concerned. Conditional skewness/kurtosis indices follow the same principle.\n",
    "\n",
    "Skewness and kurtosis are defined as the third and fourth central standardized moment. For instance, the skewness is:\n",
    "\n",
    "$$\\mu^{3} = \\int_S (f(x) - \\mu)^{3} \\rho ds = \\int_S \\left(\\sum_{i=1}^P \\beta_i \\pi_i(x)\\right)^{3} \\rho ds,$$\n",
    "\n",
    "where $\\rho$ is the input PDF, defined over $S$, the support. In practice, Gauss quadrature is used to evaluate the integral numerically, and two approaches can be taken. Firstly, one can sum the polynomial evaluations, each weighted by the corresponding coefficient, at the quadrature points, resulting in a \"total evaluation\" at each quadrature point. Then, cube/fourth the results and compute the integral by forming the inner product with a quadrature weight vector. (effectively sum-before-integral) This approach is $O(Pd)$ where $P$ is the number of basis terms and $d$ is the input dimension. This is satisfactory for computing the global skewness/kurtosis.\n",
    "\n",
    "However, to compute conditional indices, it is necessary to expand the inner sum using the multinomial theorem first, as only by doing so will the result be interpretable as a sum of contributions from each  (group of) basis term(s) (effectively integral-before-sum). The details of such expansion is given in Geraci et al [reference!]. With computing the variance-based Sobol' indices, the cross term conveniently cancels with orthogonality. However, with skewness and kurtosis the cross terms do not necessarily cancel. This necessitates an $O(P^3d)$ operation for skewness and $O(P^4d)$ operation for kurtosis, resulting in forbiddingly long computational times. \n",
    "\n",
    "However, all is not lost, and some saving may be achieved with low order conditional skewness/kurtosis terms. Firstly, Geraci et al.[reference!] details some conditions where the integral in the sum need not be computed as they are zero. Secondly, as only cross term integrals that result in the variables we are interested in need to be computed, some basis terms can be eliminated a priori. For instance, when computing first order indices, it is not necessary to consider any basis term that has total order larger than 1, since any integral with such a basis term will only increase the number of participating variables, and certainly will not contribute to the first order index at the end. This reduces the complexity to $O(n^3d)$ for skewness, for example, where $n << P$ is the highest order of the polynomial in any dimension."
   ]
  },
  {
   "cell_type": "markdown",
   "metadata": {},
   "source": [
    "<h2> Usage Example </h2>\n",
    "\n",
    "Let's see the methods in action. First we define a test function. Taking the quadratic G-function [reference!] as an example: \n",
    "\n",
    "$$ f(x_0, x_1, x_2, x_3) = \\prod_{i=1}^4 \\frac{|4x_i - 2| + i^2}{1+i^2}. $$"
   ]
  },
  {
   "cell_type": "code",
   "execution_count": 20,
   "metadata": {},
   "outputs": [],
   "source": [
    "def G_fun(x):\n",
    "    f = 1.0\n",
    "    for i in range(4):\n",
    "        t = (np.abs(4*x[i] - 2) + i**2.0) * 1.0/(1 + i**2.0)\n",
    "        f = f * t\n",
    "    return f"
   ]
  },
  {
   "cell_type": "markdown",
   "metadata": {},
   "source": [
    "Let's use a degree 5 tensor grid as the index set and the following input PDF:\n",
    "\n",
    "$$ x_0, x_1, x_2, x_3 \\sim \\mathcal{U}(0,1)^4. $$"
   ]
  },
  {
   "cell_type": "code",
   "execution_count": 21,
   "metadata": {},
   "outputs": [],
   "source": [
    "degree = 5\n",
    "points_used = degree + 1\n",
    "x0 = Parameter(param_type=\"Uniform\", lower=0.0, upper=1.0, points=points_used)\n",
    "x1 = Parameter(param_type=\"Uniform\", lower=0.0, upper=1.0, points=points_used)\n",
    "x2 = Parameter(param_type=\"Uniform\", lower=0.0, upper=1.0, points=points_used)\n",
    "x3 = Parameter(param_type=\"Uniform\", lower=0.0, upper=1.0, points=points_used)\n",
    "parameters = [x0,x1,x2,x3]"
   ]
  },
  {
   "cell_type": "markdown",
   "metadata": {},
   "source": [
    "Calculate the polynomial coefficients and initiate Statistics class:"
   ]
  },
  {
   "cell_type": "code",
   "execution_count": 22,
   "metadata": {},
   "outputs": [],
   "source": [
    "basis = IndexSet('Tensor grid',[degree,degree,degree,degree])\n",
    "uqProblem = Polyint(parameters,basis)\n",
    "coefficients, indices, pts = uqProblem.getPolynomialCoefficients(G_fun)\n",
    "stats = Statistics(coefficients, basis, parameters)"
   ]
  },
  {
   "cell_type": "markdown",
   "metadata": {},
   "source": [
    "By default, global indices (mean, variance, skewness and kurtosis) are already computed at initialization. They can be viewed through printing the corresponding class variables"
   ]
  },
  {
   "cell_type": "code",
   "execution_count": 23,
   "metadata": {},
   "outputs": [
    {
     "name": "stdout",
     "output_type": "stream",
     "text": [
      "1.03619468893\n",
      "0.423001291441\n",
      "0.874198787521\n",
      "3.03775388049\n"
     ]
    }
   ],
   "source": [
    "print stats.mean\n",
    "print stats.variance\n",
    "print stats.skewness\n",
    "print stats.kurtosis"
   ]
  },
  {
   "cell_type": "markdown",
   "metadata": {},
   "source": [
    "Now sample the output distribution with Monte Carlo and compute the statistics:"
   ]
  },
  {
   "cell_type": "code",
   "execution_count": 24,
   "metadata": {},
   "outputs": [
    {
     "name": "stdout",
     "output_type": "stream",
     "text": [
      "1.00248099525\n",
      "0.468273107712\n",
      "0.672684052572\n",
      "2.88086305623\n"
     ]
    }
   ],
   "source": [
    "x0_samples = x0.getSamples(100000)\n",
    "x1_samples = x1.getSamples(100000)\n",
    "x2_samples = x2.getSamples(100000)\n",
    "x3_samples = x3.getSamples(100000)\n",
    "f = np.zeros((100000,1))\n",
    "\n",
    "for i in range(100000):\n",
    "    f[i,0] = G_fun([x0_samples[i,0], x1_samples[i,0], x2_samples[i,0], x3_samples[i,0]])\n",
    "\n",
    "print np.mean(f)\n",
    "print np.var(f)\n",
    "print float(s.skew(f))\n",
    "print float(s.kurtosis(f, fisher = False))"
   ]
  },
  {
   "cell_type": "markdown",
   "metadata": {},
   "source": [
    "As seen, the agreement is not bad. Now, let's calculate the first two orders of conditional indices."
   ]
  },
  {
   "cell_type": "code",
   "execution_count": null,
   "metadata": {},
   "outputs": [],
   "source": [
    "v1 = stats.getSobol(1)\n",
    "v2 = stats.getSobol(2)\n",
    "s1 = stats.getCondSkewness(1)\n",
    "s2 = stats.getCondSkewness(2)\n",
    "k1 = stats.getCondKurtosis(1)\n",
    "k2 = stats.getCondKurtosis(2)"
   ]
  },
  {
   "cell_type": "markdown",
   "metadata": {},
   "source": []
  }
 ],
 "metadata": {
  "kernelspec": {
   "display_name": "Python 2",
   "language": "python",
   "name": "python2"
  },
  "language_info": {
   "codemirror_mode": {
    "name": "ipython",
    "version": 2
   },
   "file_extension": ".py",
   "mimetype": "text/x-python",
   "name": "python",
   "nbconvert_exporter": "python",
   "pygments_lexer": "ipython2",
   "version": "2.7.9"
  }
 },
 "nbformat": 4,
 "nbformat_minor": 2
}
