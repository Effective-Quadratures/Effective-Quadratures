{
 "cells": [
  {
   "cell_type": "code",
   "execution_count": 1,
   "metadata": {},
   "outputs": [],
   "source": [
    "%matplotlib inline\n",
    "from equadratures import *\n",
    "import numpy as np"
   ]
  },
  {
   "cell_type": "markdown",
   "metadata": {},
   "source": [
    "Let us begin by defining our parameters and basis"
   ]
  },
  {
   "cell_type": "code",
   "execution_count": 2,
   "metadata": {},
   "outputs": [],
   "source": [
    "x1 = Parameter(distribution='Uniform', order=9, lower=-1., upper=1.)\n",
    "x2 = Parameter(distribution='Uniform', order=9, lower=-1., upper=1.)\n",
    "totalorder = Basis('Total order')"
   ]
  },
  {
   "cell_type": "markdown",
   "metadata": {},
   "source": [
    "Consider the following function and its gradient:\n",
    "$$f(x_1, x_2) = exp( 2 x_1 + x_2),$$\n",
    "$$\\nabla f=\\left(\\begin{array}{c}\n",
    "2 exp( 2 x_1 + x_2) \\\\\n",
    "exp( 2 x_1 + x_2) \n",
    "\\end{array}\\right).$$"
   ]
  },
  {
   "cell_type": "code",
   "execution_count": 3,
   "metadata": {},
   "outputs": [],
   "source": [
    "def fun(x):\n",
    "    return np.exp(2*x[0] + x[1])"
   ]
  },
  {
   "cell_type": "code",
   "execution_count": 4,
   "metadata": {},
   "outputs": [],
   "source": [
    "def gradfun(x):\n",
    "    return [2*np.exp(2*x[0] + x[1]), np.exp(2*x[0] + x[1])]"
   ]
  },
  {
   "cell_type": "markdown",
   "metadata": {},
   "source": [
    "Now lets set up the calculation without gradients! Sample from the given mesh using an optimization strategy and with some level of oversampling."
   ]
  },
  {
   "cell_type": "code",
   "execution_count": 5,
   "metadata": {},
   "outputs": [
    {
     "name": "stdout",
     "output_type": "stream",
     "text": [
      "Iterating...system rank: 3, and the # of rows in Az: 1\n",
      "Iterating...system rank: 6, and the # of rows in Az: 2\n",
      "Iterating...system rank: 9, and the # of rows in Az: 3\n",
      "Iterating...system rank: 12, and the # of rows in Az: 4\n",
      "Iterating...system rank: 15, and the # of rows in Az: 5\n",
      "Iterating...system rank: 18, and the # of rows in Az: 6\n",
      "Iterating...system rank: 21, and the # of rows in Az: 7\n",
      "Iterating...system rank: 24, and the # of rows in Az: 8\n",
      "Iterating...system rank: 27, and the # of rows in Az: 9\n",
      "Iterating...system rank: 30, and the # of rows in Az: 10\n",
      "Iterating...system rank: 33, and the # of rows in Az: 11\n",
      "Iterating...system rank: 36, and the # of rows in Az: 12\n",
      "Iterating...system rank: 38, and the # of rows in Az: 13\n",
      "Iterating...system rank: 41, and the # of rows in Az: 14\n",
      "Iterating...system rank: 44, and the # of rows in Az: 15\n",
      "Iterating...system rank: 47, and the # of rows in Az: 16\n",
      "Iterating...system rank: 50, and the # of rows in Az: 17\n",
      "Iterating...system rank: 53, and the # of rows in Az: 18\n",
      "Iterating...system rank: 54, and the # of rows in Az: 19\n",
      "Iterating...system rank: 55, and the # of rows in Az: 20\n",
      "[[-0.97390653 -0.97390653]\n",
      " [-0.97390653  0.97390653]\n",
      " [ 0.97390653 -0.97390653]\n",
      " [ 0.97390653  0.97390653]\n",
      " [-0.97390653  0.43339539]\n",
      " [-0.43339539 -0.97390653]\n",
      " [ 0.97390653 -0.14887434]\n",
      " [ 0.67940957  0.97390653]\n",
      " [ 0.67940957 -0.97390653]\n",
      " [ 0.14887434  0.97390653]\n",
      " [-0.97390653 -0.43339539]\n",
      " [-0.43339539  0.97390653]\n",
      " [ 0.14887434 -0.97390653]\n",
      " [ 0.97390653  0.67940957]\n",
      " [ 0.97390653 -0.67940957]\n",
      " [ 0.86506337  0.86506337]\n",
      " [ 0.86506337 -0.86506337]\n",
      " [ 0.67940957 -0.67940957]\n",
      " [ 0.67940957  0.67940957]\n",
      " [ 0.43339539 -0.43339539]\n",
      " [-0.43339539 -0.43339539]\n",
      " [-0.43339539  0.43339539]\n",
      " [ 0.43339539  0.43339539]\n",
      " [ 0.43339539 -0.86506337]]\n"
     ]
    }
   ],
   "source": [
    "OBJECT = Polylsq(parameters=[x1, x2], \n",
    "            basis=totalorder, \n",
    "            mesh='tensor', \n",
    "            optimization='greedy-qr',\n",
    "            oversampling=1.2, gradients=True)\n",
    "print OBJECT.quadraturePoints"
   ]
  },
  {
   "cell_type": "code",
   "execution_count": 6,
   "metadata": {
    "scrolled": true
   },
   "outputs": [
    {
     "data": {
      "image/png": "[encoded data removed]",
      "text/plain": [
       "<matplotlib.figure.Figure at 0x10ac05dd0>"
      ]
     },
     "metadata": {},
     "output_type": "display_data"
    }
   ],
   "source": [
    "OBJECT.computeCoefficients(fun, gradfun, 'weighted')\n",
    "coeffplot2D(OBJECT.coefficients, OBJECT.basis.elements, 'i_1', 'i_2')"
   ]
  },
  {
   "cell_type": "code",
   "execution_count": 7,
   "metadata": {},
   "outputs": [
    {
     "data": {
      "image/png": "[encoded data removed]",
      "text/plain": [
       "<matplotlib.figure.Figure at 0x10ad30550>"
      ]
     },
     "metadata": {},
     "output_type": "display_data"
    }
   ],
   "source": [
    "OBJECT.computeCoefficients(fun, gradfun, 'null-space')\n",
    "coeffplot2D(OBJECT.coefficients, OBJECT.basis.elements, 'i_1', 'i_2')"
   ]
  },
  {
   "cell_type": "code",
   "execution_count": 8,
   "metadata": {},
   "outputs": [
    {
     "data": {
      "image/png": "[encoded data removed]",
      "text/plain": [
       "<matplotlib.figure.Figure at 0x10ad24f10>"
      ]
     },
     "metadata": {},
     "output_type": "display_data"
    }
   ],
   "source": [
    "OBJECT.computeCoefficients(fun, gradfun, 'direct-elimination')\n",
    "coeffplot2D(OBJECT.coefficients, OBJECT.basis.elements, 'i_1', 'i_2')"
   ]
  },
  {
   "cell_type": "code",
   "execution_count": 9,
   "metadata": {},
   "outputs": [
    {
     "name": "stdout",
     "output_type": "stream",
     "text": [
      "[[0. 0.]\n",
      " [0. 1.]\n",
      " [1. 0.]\n",
      " [1. 1.]\n",
      " [0. 2.]\n",
      " [2. 0.]\n",
      " [1. 2.]\n",
      " [2. 1.]\n",
      " [2. 2.]\n",
      " [0. 3.]\n",
      " [3. 0.]\n",
      " [1. 3.]\n",
      " [3. 1.]\n",
      " [3. 2.]\n",
      " [2. 3.]\n",
      " [3. 3.]\n",
      " [0. 4.]\n",
      " [4. 0.]\n",
      " [1. 4.]\n",
      " [4. 1.]\n",
      " [4. 2.]\n",
      " [2. 4.]\n",
      " [4. 3.]\n",
      " [3. 4.]\n",
      " [4. 4.]\n",
      " [0. 5.]\n",
      " [5. 0.]\n",
      " [5. 1.]\n",
      " [1. 5.]\n",
      " [2. 5.]\n",
      " [5. 2.]\n",
      " [5. 3.]\n",
      " [3. 5.]\n",
      " [4. 5.]\n",
      " [5. 4.]\n",
      " [6. 0.]\n",
      " [0. 6.]\n",
      " [6. 1.]\n",
      " [1. 6.]\n",
      " [2. 6.]\n",
      " [6. 2.]\n",
      " [6. 3.]\n",
      " [3. 6.]\n",
      " [0. 7.]\n",
      " [7. 0.]\n",
      " [1. 7.]\n",
      " [7. 1.]\n",
      " [7. 2.]\n",
      " [2. 7.]\n",
      " [0. 8.]\n",
      " [8. 0.]\n",
      " [1. 8.]\n",
      " [8. 1.]\n",
      " [0. 9.]\n",
      " [9. 0.]]\n"
     ]
    }
   ],
   "source": [
    "print OBJECT.basis.elements"
   ]
  },
  {
   "cell_type": "code",
   "execution_count": null,
   "metadata": {},
   "outputs": [],
   "source": []
  }
 ],
 "metadata": {
  "kernelspec": {
   "display_name": "Python 2",
   "language": "python",
   "name": "python2"
  },
  "language_info": {
   "codemirror_mode": {
    "name": "ipython",
    "version": 2
   },
   "file_extension": ".py",
   "mimetype": "text/x-python",
   "name": "python",
   "nbconvert_exporter": "python",
   "pygments_lexer": "ipython2",
   "version": "2.7.14"
  }
 },
 "nbformat": 4,
 "nbformat_minor": 2
}
