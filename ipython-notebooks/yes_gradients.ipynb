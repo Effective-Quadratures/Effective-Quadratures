{
 "cells": [
  {
   "cell_type": "code",
   "execution_count": 1,
   "metadata": {},
   "outputs": [],
   "source": [
    "%matplotlib inline\n",
    "from equadratures import *\n",
    "import numpy as np"
   ]
  },
  {
   "cell_type": "markdown",
   "metadata": {},
   "source": [
    "Let us begin by defining our parameters and basis"
   ]
  },
  {
   "cell_type": "code",
   "execution_count": 2,
   "metadata": {},
   "outputs": [],
   "source": [
    "x1 = Parameter(param_type='Uniform', order=9, lower=-1., upper=1.)\n",
    "x2 = Parameter(param_type='Uniform', order=9, lower=-1., upper=1.)\n",
    "totalorder = Basis('Total order')"
   ]
  },
  {
   "cell_type": "markdown",
   "metadata": {},
   "source": [
    "Consider the following function and its gradient:\n",
    "$$f(x_1, x_2) = exp( 2 x_1 + x_2),$$\n",
    "$$\\nabla f=\\left(\\begin{array}{c}\n",
    "2 exp( 2 x_1 + x_2) \\\\\n",
    "exp( 2 x_1 + x_2) \n",
    "\\end{array}\\right).$$"
   ]
  },
  {
   "cell_type": "code",
   "execution_count": 3,
   "metadata": {},
   "outputs": [],
   "source": [
    "def fun(x):\n",
    "    return np.exp(2*x[0] + x[1])"
   ]
  },
  {
   "cell_type": "code",
   "execution_count": 4,
   "metadata": {},
   "outputs": [],
   "source": [
    "def gradfun(x):\n",
    "    return [2*np.exp(2*x[0] + x[1]), np.exp(2*x[0] + x[1])]"
   ]
  },
  {
   "cell_type": "markdown",
   "metadata": {},
   "source": [
    "Now lets set up the calculation without gradients! Sample from the given mesh using an optimization strategy and with some level of oversampling."
   ]
  },
  {
   "cell_type": "code",
   "execution_count": 9,
   "metadata": {},
   "outputs": [
    {
     "name": "stdout",
     "output_type": "stream",
     "text": [
      "Iterating...system rank: 3, and the # of rows in Az: 1\n",
      "Iterating...system rank: 6, and the # of rows in Az: 2\n",
      "Iterating...system rank: 9, and the # of rows in Az: 3\n",
      "Iterating...system rank: 12, and the # of rows in Az: 4\n",
      "Iterating...system rank: 15, and the # of rows in Az: 5\n",
      "Iterating...system rank: 18, and the # of rows in Az: 6\n",
      "Iterating...system rank: 21, and the # of rows in Az: 7\n",
      "Iterating...system rank: 24, and the # of rows in Az: 8\n",
      "Iterating...system rank: 27, and the # of rows in Az: 9\n",
      "Iterating...system rank: 30, and the # of rows in Az: 10\n",
      "Iterating...system rank: 33, and the # of rows in Az: 11\n",
      "Iterating...system rank: 36, and the # of rows in Az: 12\n",
      "Iterating...system rank: 37, and the # of rows in Az: 13\n",
      "Iterating...system rank: 39, and the # of rows in Az: 14\n",
      "Iterating...system rank: 42, and the # of rows in Az: 15\n",
      "Iterating...system rank: 45, and the # of rows in Az: 16\n",
      "Iterating...system rank: 47, and the # of rows in Az: 17\n",
      "Iterating...system rank: 50, and the # of rows in Az: 18\n",
      "Iterating...system rank: 53, and the # of rows in Az: 19\n",
      "Iterating...system rank: 55, and the # of rows in Az: 20\n",
      "[[-0.97822866 -0.97822866]\n",
      " [-0.97822866  0.97822866]\n",
      " [ 0.97822866 -0.97822866]\n",
      " [ 0.97822866  0.97822866]\n",
      " [-0.97822866  0.73015201]\n",
      " [-0.73015201 -0.97822866]\n",
      " [ 0.97822866 -0.51909613]\n",
      " [ 0.51909613  0.97822866]\n",
      " [-0.97822866  0.26954316]\n",
      " [-0.97822866 -0.73015201]\n",
      " [-0.73015201  0.97822866]\n",
      " [ 0.97822866  0.        ]\n",
      " [-0.97822866 -0.26954316]\n",
      " [ 0.97822866  0.51909613]\n",
      " [ 0.51909613 -0.97822866]\n",
      " [-0.26954316 -0.97822866]\n",
      " [-0.26954316  0.97822866]\n",
      " [-0.8870626   0.8870626 ]\n",
      " [-0.8870626  -0.8870626 ]\n",
      " [ 0.8870626  -0.26954316]\n",
      " [ 0.8870626   0.26954316]\n",
      " [-0.8870626   0.        ]\n",
      " [-0.8870626   0.51909613]\n",
      " [-0.8870626  -0.51909613]]\n"
     ]
    }
   ],
   "source": [
    "OBJECT = Polylsq(parameters=[x1, x2], \n",
    "            basis=totalorder, \n",
    "            mesh='tensor', \n",
    "            optimization='greedy-qr',\n",
    "            oversampling=1.2, gradients=True)\n",
    "print OBJECT.pts"
   ]
  },
  {
   "cell_type": "code",
   "execution_count": 6,
   "metadata": {
    "scrolled": true
   },
   "outputs": [
    {
     "data": {
      "image/png": "[encoded data removed]",
      "text/plain": [
       "<matplotlib.figure.Figure at 0x105f91a10>"
      ]
     },
     "metadata": {},
     "output_type": "display_data"
    }
   ],
   "source": [
    "OBJECT.computeCoefficients(fun, gradfun, 'weighted')\n",
    "coeffplot2D(OBJECT.coefficients, OBJECT.basis.elements, 'i_1', 'i_2')"
   ]
  },
  {
   "cell_type": "code",
   "execution_count": 7,
   "metadata": {},
   "outputs": [
    {
     "data": {
      "image/png": "[encoded data removed]",
      "text/plain": [
       "<matplotlib.figure.Figure at 0x10a6cf7d0>"
      ]
     },
     "metadata": {},
     "output_type": "display_data"
    }
   ],
   "source": [
    "OBJECT.computeCoefficients(fun, gradfun, 'null-space')\n",
    "coeffplot2D(OBJECT.coefficients, OBJECT.basis.elements, 'i_1', 'i_2')"
   ]
  },
  {
   "cell_type": "code",
   "execution_count": 8,
   "metadata": {},
   "outputs": [
    {
     "data": {
      "image/png": "[encoded data removed]",
      "text/plain": [
       "<matplotlib.figure.Figure at 0x10a66af90>"
      ]
     },
     "metadata": {},
     "output_type": "display_data"
    }
   ],
   "source": [
    "OBJECT.computeCoefficients(fun, gradfun, 'direct-elimination')\n",
    "coeffplot2D(OBJECT.coefficients, OBJECT.basis.elements, 'i_1', 'i_2')"
   ]
  },
  {
   "cell_type": "code",
   "execution_count": null,
   "metadata": {},
   "outputs": [],
   "source": []
  }
 ],
 "metadata": {
  "kernelspec": {
   "display_name": "Python 2",
   "language": "python",
   "name": "python2"
  },
  "language_info": {
   "codemirror_mode": {
    "name": "ipython",
    "version": 2
   },
   "file_extension": ".py",
   "mimetype": "text/x-python",
   "name": "python",
   "nbconvert_exporter": "python",
   "pygments_lexer": "ipython2",
   "version": "2.7.14"
  }
 },
 "nbformat": 4,
 "nbformat_minor": 2
}
