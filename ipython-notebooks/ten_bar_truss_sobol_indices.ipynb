{
 "cells": [
  {
   "cell_type": "markdown",
   "metadata": {},
   "source": [
    "<h1> Computing Sensitivity (Sobol') Indices For a 10-bar Truss Structure"
   ]
  },
  {
   "cell_type": "markdown",
   "metadata": {},
   "source": [
    "In this notebook, we will use two different polynomial techniques for estimating the first and second order Sobol'  indices associated with a 10-bar statics truss structure, shown below."
   ]
  },
  {
   "cell_type": "markdown",
   "metadata": {},
   "source": [
    "<img src=\"truss.png\" width=\"50%\">"
   ]
  },
  {
   "cell_type": "markdown",
   "metadata": {
    "collapsed": true
   },
   "source": [
    "This notebook is a replication of a similar study carried out by Ghisu and Shahpar in [1]  (we use different values here). In total there are 15 uncertainties in this case study.\n",
    "$$\\begin{array}{ll} \\hline\n",
    "Uncertain \\; parameter & Distribution \\\\ \\hline\n",
    "A_i \\; (\\text{for} \\; i=1, \\ldots, 10) & U[0.00009, 0.0011] \\; m^2 \\\\ \n",
    "L  & U[0.90, 1.10] \\; m \\\\ \n",
    "P_1  & U[72,000, 88,000] \\; N \\\\\n",
    "P_2  & U[90,000, 110,000] \\; N \\\\\n",
    "P_3  & U[90,000, 110,000] \\; N \\\\\n",
    "E  & U[90.1e9, 90.2e9] \\; Pa \\\\\n",
    "\\hline\n",
    "\\end{array}$$\n",
    "The prefix $U$ denotes a uniform distribution over the support. For a given choice of these variables (over their ranges), a finite element code is run to determine the displacement of point 2 in Figure. "
   ]
  },
  {
   "cell_type": "code",
   "execution_count": 1,
   "metadata": {},
   "outputs": [],
   "source": [
    "from equadratures import *\n",
    "import numpy as np"
   ]
  },
  {
   "cell_type": "markdown",
   "metadata": {},
   "source": [
    "As before, we begin by defining each parameter and its range using four points for each variable."
   ]
  },
  {
   "cell_type": "code",
   "execution_count": 3,
   "metadata": {},
   "outputs": [],
   "source": [
    "order_parameters = 3\n",
    "A1 = Parameter(distribution='uniform', lower=0.0009, upper=0.0011, order=order_parameters)\n",
    "A2 = Parameter(distribution='uniform', lower=0.0009, upper=0.0011, order=order_parameters)\n",
    "A3 = Parameter(distribution='uniform', lower=0.0009, upper=0.0011, order=order_parameters)\n",
    "A4 = Parameter(distribution='uniform', lower=0.0009, upper=0.0011, order=order_parameters)\n",
    "A5 = Parameter(distribution='uniform', lower=0.0009, upper=0.0011, order=order_parameters)\n",
    "A6 = Parameter(distribution='uniform', lower=0.0009, upper=0.0011, order=order_parameters)\n",
    "A7 = Parameter(distribution='uniform', lower=0.0009, upper=0.0011, order=order_parameters)\n",
    "A8 = Parameter(distribution='uniform', lower=0.0009, upper=0.0011, order=order_parameters)\n",
    "A9 = Parameter(distribution='uniform', lower=0.0009, upper=0.0011, order=order_parameters)\n",
    "A10 = Parameter(distribution='uniform',lower=0.0009, upper=0.0011, order=order_parameters)\n",
    "L = Parameter(distribution='uniform',  lower=0.90, upper=1.10, order=order_parameters)\n",
    "P1 = Parameter(distribution='uniform', lower=72000.0, upper=88000.0, order=order_parameters)\n",
    "P2 = Parameter(distribution='uniform', lower=90000.0, upper=110000.0, order=order_parameters)\n",
    "P3 = Parameter(distribution='uniform', lower=90000.0, upper=110000.0, order=order_parameters)\n",
    "E = Parameter(distribution='uniform', lower=90.1E+9, upper=90.2E+9, order=order_parameters)\n",
    "parameters = [A1, A2, A3, A4, A5, A6, A7, A8, A9, A10, L, P1, P2, P3, E]"
   ]
  },
  {
   "cell_type": "markdown",
   "metadata": {},
   "source": [
    "Now, a word on the costs of this simulation is in order. Trying to utilize a tensor grid would require $3^{15}=14,348,907$ evaluates of our finite element model---clearly out of the question! Instead we will use the polynomial least squares (i.e., *Polylsq*) and sparse grid integration (i.e., *Polyint*) modules. "
   ]
  },
  {
   "cell_type": "code",
   "execution_count": 4,
   "metadata": {},
   "outputs": [],
   "source": [
    "mybasis = Basis('Total order')\n",
    "myPoly = Polylsq(parameters, mybasis, mesh='tensor', optimization='random', oversampling=2.0)"
   ]
  },
  {
   "cell_type": "markdown",
   "metadata": {},
   "source": [
    "Now (and this is the important part), we wish to ascertain how many model evaluations will be required for computing these sensitivities. The objective is for these to be orders of magnitude lower than other methods for computing Sobol' indices."
   ]
  },
  {
   "cell_type": "code",
   "execution_count": 5,
   "metadata": {},
   "outputs": [
    {
     "name": "stdout",
     "output_type": "stream",
     "text": [
      "1632\n"
     ]
    }
   ],
   "source": [
    "print len(myPoly.quadraturePoints)"
   ]
  },
  {
   "cell_type": "markdown",
   "metadata": {},
   "source": [
    "Now, let us print these points out to a file, so they may be read-in by the finite element code. "
   ]
  },
  {
   "cell_type": "code",
   "execution_count": 6,
   "metadata": {},
   "outputs": [],
   "source": [
    "np.savetxt('data/truss_problem/quadrature_points.out', myPoly.quadraturePoints, delimiter=',') "
   ]
  },
  {
   "cell_type": "markdown",
   "metadata": {},
   "source": [
    "After running the finite element model, we saved the deflections in a file; we now call that file."
   ]
  },
  {
   "cell_type": "code",
   "execution_count": 7,
   "metadata": {},
   "outputs": [],
   "source": [
    "deflections = np.loadtxt('data/truss_problem/deflections.out')"
   ]
  },
  {
   "cell_type": "code",
   "execution_count": 8,
   "metadata": {},
   "outputs": [],
   "source": [
    "myPoly.computeCoefficients(deflections)\n",
    "Sleastsquares = myPoly.getStatistics()"
   ]
  },
  {
   "cell_type": "markdown",
   "metadata": {},
   "source": [
    "We plot estimates of the first order Sobol' indices below, followed by estimates of the second order Sobol' indices."
   ]
  },
  {
   "cell_type": "code",
   "execution_count": 9,
   "metadata": {},
   "outputs": [
    {
     "data": {
      "image/png": "[encoded data removed]",
      "text/plain": [
       "<matplotlib.figure.Figure at 0x10bfb6bd0>"
      ]
     },
     "metadata": {},
     "output_type": "display_data"
    }
   ],
   "source": [
    "data = Sleastsquares.getSobol(1).values()\n",
    "fig = plt.figure()\n",
    "ax = fig.add_subplot(1,1,1)\n",
    "for i in range(0, len(data)):\n",
    "    plt.bar(i,float(data[i]) , color='orangered')\n",
    "plt.ylim([10**(-6), 1])\n",
    "plt.xlabel('Parameters', fontsize=13)\n",
    "plt.ylabel('First order Sobol indices', fontsize=13)\n",
    "plt.xlim([-0.50, 15])\n",
    "plt.ylim([0, 0.5])\n",
    "adjust_spines(ax, ['left', 'bottom'])\n",
    "plt.show()"
   ]
  },
  {
   "cell_type": "code",
   "execution_count": 11,
   "metadata": {},
   "outputs": [
    {
     "data": {
      "image/png": "[encoded data removed]",
      "text/plain": [
       "<matplotlib.figure.Figure at 0x10a4f1810>"
      ]
     },
     "metadata": {},
     "output_type": "display_data"
    }
   ],
   "source": [
    "data = Sleastsquares.getSobol(2).values()\n",
    "fig = plt.figure()\n",
    "ax = fig.add_subplot(1,1,1)\n",
    "for i in range(0, len(data)):\n",
    "    plt.bar(i,float(data[i]) , color='limegreen')\n",
    "plt.ylim([10**(-6), 1])\n",
    "plt.xlabel('Parameters', fontsize=13)\n",
    "plt.ylabel('Second order Sobol indices', fontsize=13)\n",
    "plt.ylim([0, 0.002])\n",
    "adjust_spines(ax, ['left', 'bottom'])\n",
    "plt.show()"
   ]
  },
  {
   "cell_type": "markdown",
   "metadata": {},
   "source": [
    "We observe virtually no second order interactions, but strong first order effects."
   ]
  },
  {
   "cell_type": "markdown",
   "metadata": {},
   "source": [
    "<h3> References"
   ]
  },
  {
   "cell_type": "markdown",
   "metadata": {},
   "source": [
    "1. Ghisu, T., Shahpar, S., (2017) \"Towards affordable uncertainty quantification for industrial problems - part I: theory and validation\", Proceedings of the ASME Turbo Expo 2017. "
   ]
  }
 ],
 "metadata": {
  "anaconda-cloud": {},
  "kernelspec": {
   "display_name": "Python 2",
   "language": "python",
   "name": "python2"
  },
  "language_info": {
   "codemirror_mode": {
    "name": "ipython",
    "version": 2
   },
   "file_extension": ".py",
   "mimetype": "text/x-python",
   "name": "python",
   "nbconvert_exporter": "python",
   "pygments_lexer": "ipython2",
   "version": "2.7.14"
  }
 },
 "nbformat": 4,
 "nbformat_minor": 1
}
