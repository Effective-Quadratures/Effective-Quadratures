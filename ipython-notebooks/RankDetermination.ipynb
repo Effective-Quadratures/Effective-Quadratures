{
 "cells": [
  {
   "cell_type": "markdown",
   "metadata": {},
   "source": [
    "<h1> Rank Determination"
   ]
  },
  {
   "cell_type": "markdown",
   "metadata": {},
   "source": [
    "In this two part tutorial, we demonstrate how we can construct polynomial approximants using effectively subsampled quadratures with gradient evaluations of a model. "
   ]
  },
  {
   "cell_type": "code",
   "execution_count": 1,
   "metadata": {
    "collapsed": false
   },
   "outputs": [],
   "source": [
    "%matplotlib inline\n",
    "from effective_quadratures.parameter import Parameter\n",
    "from effective_quadratures.polynomial import Polynomial\n",
    "from effective_quadratures.indexset import IndexSet\n",
    "from effective_quadratures.computestats import Statistics\n",
    "from effective_quadratures.effectivequads import EffectiveSubsampling\n",
    "from effective_quadratures.utils import meshgrid, twoDgrid, evalfunction, evalgradients\n",
    "import numpy as np\n",
    "import matplotlib.pyplot as plt\n",
    "import math\n",
    "np.set_printoptions(precision=3)"
   ]
  },
  {
   "cell_type": "markdown",
   "metadata": {},
   "source": []
  },
  {
   "cell_type": "markdown",
   "metadata": {},
   "source": []
  },
  {
   "cell_type": "code",
   "execution_count": 2,
   "metadata": {
    "collapsed": true
   },
   "outputs": [],
   "source": [
    "cond = np.zeros((8, 100))\n",
    "for i in range(2, 10):\n",
    "    value = i\n",
    "    x1 = Parameter(param_type=\"Uniform\", lower=-1, upper=1, points=value, derivative_flag=1)\n",
    "    x2 = Parameter(param_type=\"Uniform\", lower=-1, upper=1, points=value, derivative_flag=1)\n",
    "    parameters = [x1, x2]\n",
    "    hyperbolic_cross = IndexSet(\"Hyperbolic basis\", orders=[value-1,points-1], q=1.0)\n",
    "    \n",
    "    # Create ESQ object\n",
    "    esq = EffectiveSubsampling(parameters, hyperbolic_cross)\n",
    "    esq.set_no_of_evals(evals)\n",
    "    cond[i, j] = np.linalg.matrix_rank(np.mat( np.vstack([esq.A_subsampled, esq.C_subsampled]), dtype='float64') )\n",
    "    "
   ]
  },
  {
   "cell_type": "code",
   "execution_count": 3,
   "metadata": {
    "collapsed": false
   },
   "outputs": [],
   "source": []
  },
  {
   "cell_type": "markdown",
   "metadata": {},
   "source": [
    "Now select a hyperbolic basis"
   ]
  },
  {
   "cell_type": "code",
   "execution_count": 4,
   "metadata": {
    "collapsed": false
   },
   "outputs": [],
   "source": []
  },
  {
   "cell_type": "markdown",
   "metadata": {},
   "source": [
    "The total number of basis terms in this basis is:"
   ]
  },
  {
   "cell_type": "code",
   "execution_count": 5,
   "metadata": {
    "collapsed": false
   },
   "outputs": [
    {
     "name": "stdout",
     "output_type": "stream",
     "text": [
      "120\n"
     ]
    }
   ],
   "source": []
  },
  {
   "cell_type": "markdown",
   "metadata": {},
   "source": [
    "Now, first lets assume that we are permitted \"terms\" function evaluations (as many as the number of basis terms). In that case, we wish to determine our coefficient vector. This will be used for an error analysis later on!"
   ]
  },
  {
   "cell_type": "code",
   "execution_count": 21,
   "metadata": {
    "collapsed": false
   },
   "outputs": [],
   "source": [
    "esq.set_no_of_evals(terms)\n",
    "x =  esq.computeCoefficients(fun)"
   ]
  },
  {
   "cell_type": "markdown",
   "metadata": {},
   "source": [
    "Now, assuming we have gradient evaluations, what is the least number of function evaluations we will require? "
   ]
  },
  {
   "cell_type": "code",
   "execution_count": 18,
   "metadata": {
    "collapsed": false,
    "scrolled": true
   },
   "outputs": [
    {
     "name": "stdout",
     "output_type": "stream",
     "text": [
      "51\n",
      "51\n",
      "97\n",
      "120\n",
      "********\n"
     ]
    }
   ],
   "source": [
    "evals = 51\n",
    "print evals\n",
    "esq.set_no_of_evals(evals)\n",
    "print np.linalg.matrix_rank(np.mat( np.vstack([esq.A_subsampled, esq.C_subsampled]), dtype='float64') )\n",
    "print '********'\n",
    "x1 =  esq.computeCoefficients(fun, fungrad,'weighted')\n",
    "x1b =  esq.computeCoefficients(fun, fungrad,'equality')\n",
    "weighted_error = np.linalg.norm(x-x1, 2)\n",
    "equality_error = np.linalg.norm(x-x1b, 2)"
   ]
  },
  {
   "cell_type": "code",
   "execution_count": 19,
   "metadata": {
    "collapsed": false
   },
   "outputs": [
    {
     "name": "stdout",
     "output_type": "stream",
     "text": [
      "2.25639578224e-09 2.25980496072e-09\n"
     ]
    }
   ],
   "source": [
    "print weighted_error, equality_error"
   ]
  },
  {
   "cell_type": "markdown",
   "metadata": {},
   "source": [
    "Now start pruning down the columns"
   ]
  },
  {
   "cell_type": "code",
   "execution_count": 20,
   "metadata": {
    "collapsed": false
   },
   "outputs": [
    {
     "name": "stdout",
     "output_type": "stream",
     "text": [
      "3.02515944567e-10 3.02485036368e-10\n"
     ]
    }
   ],
   "source": [
    "esq.set_no_of_evals(evals)\n",
    "cols_to_prune = 5\n",
    "esq.prune(cols_to_prune)\n",
    "x1 =  esq.computeCoefficients(fun, fungrad,'weighted')\n",
    "x1b =  esq.computeCoefficients(fun, fungrad,'equality')\n",
    "xnew =  x[0:(terms-cols_to_prune)]\n",
    "weighted_error = np.linalg.norm(xnew-x1, 2)\n",
    "equality_error = np.linalg.norm(xnew-x1b, 2)\n",
    "print weighted_error, equality_error"
   ]
  },
  {
   "cell_type": "code",
   "execution_count": null,
   "metadata": {
    "collapsed": true
   },
   "outputs": [],
   "source": []
  }
 ],
 "metadata": {
  "anaconda-cloud": {},
  "kernelspec": {
   "display_name": "Python [conda root]",
   "language": "python",
   "name": "conda-root-py"
  },
  "language_info": {
   "codemirror_mode": {
    "name": "ipython",
    "version": 2
   },
   "file_extension": ".py",
   "mimetype": "text/x-python",
   "name": "python",
   "nbconvert_exporter": "python",
   "pygments_lexer": "ipython2",
   "version": "2.7.12"
  }
 },
 "nbformat": 4,
 "nbformat_minor": 0
}
