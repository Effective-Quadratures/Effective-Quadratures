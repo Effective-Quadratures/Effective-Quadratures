{
 "cells": [
  {
   "cell_type": "code",
   "execution_count": 1,
   "metadata": {
    "collapsed": false
   },
   "outputs": [],
   "source": [
    "%matplotlib inline\n",
    "from effective_quadratures.PolyParams import PolynomialParam\n",
    "from effective_quadratures.PolyParentFile import PolyParent\n",
    "from effective_quadratures.IndexSets import IndexSet\n",
    "from effective_quadratures.Utils import column, evalfunction\n",
    "import effective_quadratures.MatrixRoutines as mat\n",
    "import effective_quadratures.ComputeStats as stats\n",
    "from effective_quadratures.EffectiveQuadSubsampling import EffectiveSubsampling\n",
    "import numpy as np\n",
    "import matplotlib.pyplot as plt\n",
    "from mpl_toolkits.mplot3d import Axes3D"
   ]
  },
  {
   "cell_type": "markdown",
   "metadata": {},
   "source": [
    "<h1> Vegetation UQ with Effective-Quadratures"
   ]
  },
  {
   "cell_type": "markdown",
   "metadata": {},
   "source": [
    "Consider a uniform variation in the following parameters:\n",
    "    \n",
    "$$\\begin{array}{lll} \\hline\n",
    "Variable & Range & Description \\\\ \\hline\n",
    "\\rho_{shoot} & [38.2, 250.4] & Shoot \\; density \\; (/m^2)\\\\ \n",
    "L & [15.7, 31.3] & Piston \\; blade \\; length \\; (cm)\\\\ \n",
    "d & [2, 10] & Diameter \\;  (mm)\\\\ \n",
    "t & [0.2, 1.0] & Thickness \\; (mm)\\\\  \\hline\n",
    "\\end{array}$$"
   ]
  },
  {
   "cell_type": "markdown",
   "metadata": {},
   "source": [
    "Being by setting up the ranges for the four parameters"
   ]
  },
  {
   "cell_type": "code",
   "execution_count": 15,
   "metadata": {
    "collapsed": true
   },
   "outputs": [],
   "source": [
    "quadratic_pts = 3\n",
    "x1 = PolynomialParam(\"Uniform\", 38.2, 250.4, [], [], [], 3)\n",
    "x2 = PolynomialParam(\"Uniform\", 15.7, 31.3, [], [], [], 3)\n",
    "x3 = PolynomialParam(\"Uniform\", 2.0, 10.0, [], [], [], 3)\n",
    "x4 = PolynomialParam(\"Uniform\", 0.2, 1.0, [], [], [], 3)\n",
    "orders = [2,2,2,2]\n",
    "x1x2x3x4 = [x1, x2, x3, x4]"
   ]
  },
  {
   "cell_type": "markdown",
   "metadata": {},
   "source": [
    "Set the polynomial basis; this will dictate how many function evaluations we will require. Bear in mind that a quadratic in 4 dimensions requires $3^4=81$ points. To reduce the cost we will opt for a total order basis."
   ]
  },
  {
   "cell_type": "code",
   "execution_count": 18,
   "metadata": {
    "collapsed": false
   },
   "outputs": [
    {
     "name": "stdout",
     "output_type": "stream",
     "text": [
      "[[ 0.  0.  0.  0.]\n",
      " [ 0.  0.  0.  1.]\n",
      " [ 0.  0.  0.  2.]\n",
      " [ 0.  0.  1.  0.]\n",
      " [ 0.  0.  1.  1.]\n",
      " [ 0.  0.  2.  0.]\n",
      " [ 0.  1.  0.  0.]\n",
      " [ 0.  1.  0.  1.]\n",
      " [ 0.  1.  1.  0.]\n",
      " [ 0.  2.  0.  0.]\n",
      " [ 1.  0.  0.  0.]\n",
      " [ 1.  0.  0.  1.]\n",
      " [ 1.  0.  1.  0.]\n",
      " [ 1.  1.  0.  0.]\n",
      " [ 2.  0.  0.  0.]]\n",
      "15\n"
     ]
    }
   ],
   "source": [
    "polybasis = IndexSet(\"total order\", orders)\n",
    "print IndexSet.getIndexSet(polybasis)\n",
    "maximum_number_of_evals = IndexSet.getCardinality(polybasis)\n",
    "print maximum_number_of_evals"
   ]
  },
  {
   "cell_type": "code",
   "execution_count": 19,
   "metadata": {
    "collapsed": false
   },
   "outputs": [
    {
     "name": "stdout",
     "output_type": "stream",
     "text": [
      "[[ 144.3          23.5           6.            0.6       ]\n",
      " [  62.11529339   17.45814598    2.90161332    0.6       ]\n",
      " [ 226.48470661   29.54185402    6.            0.29016133]\n",
      " [  62.11529339   23.5           9.09838668    0.90983867]\n",
      " [ 226.48470661   23.5           2.90161332    0.90983867]\n",
      " [ 226.48470661   17.45814598    6.            0.29016133]\n",
      " [  62.11529339   29.54185402    6.            0.29016133]\n",
      " [ 226.48470661   23.5           9.09838668    0.90983867]\n",
      " [ 144.3          29.54185402    6.            0.90983867]\n",
      " [ 144.3          23.5           9.09838668    0.29016133]\n",
      " [ 144.3          17.45814598    6.            0.90983867]\n",
      " [ 144.3          23.5           2.90161332    0.29016133]\n",
      " [  62.11529339   17.45814598    6.            0.29016133]\n",
      " [ 144.3          17.45814598    9.09838668    0.6       ]\n",
      " [  62.11529339   23.5           2.90161332    0.90983867]]\n"
     ]
    }
   ],
   "source": [
    "effectiveQuads = EffectiveSubsampling(x1x2x3x4, polybasis, 0)\n",
    "A, esquad_pts, W, indices = EffectiveSubsampling.getAsubsampled(effectiveQuads, maximum_number_of_evals)\n",
    "print esquad_pts"
   ]
  },
  {
   "cell_type": "code",
   "execution_count": null,
   "metadata": {
    "collapsed": true
   },
   "outputs": [],
   "source": []
  }
 ],
 "metadata": {
  "kernelspec": {
   "display_name": "Python 2",
   "language": "python",
   "name": "python2"
  },
  "language_info": {
   "codemirror_mode": {
    "name": "ipython",
    "version": 2
   },
   "file_extension": ".py",
   "mimetype": "text/x-python",
   "name": "python",
   "nbconvert_exporter": "python",
   "pygments_lexer": "ipython2",
   "version": "2.7.10"
  }
 },
 "nbformat": 4,
 "nbformat_minor": 0
}
