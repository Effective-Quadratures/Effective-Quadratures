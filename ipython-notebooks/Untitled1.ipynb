{
 "cells": [
  {
   "cell_type": "code",
   "execution_count": 1,
   "metadata": {
    "collapsed": true
   },
   "outputs": [],
   "source": [
    "%matplotlib inline\n",
    "from effective_quadratures.parameter import Parameter\n",
    "from effective_quadratures.indexset import IndexSet\n",
    "from effective_quadratures.effectivequads import EffectiveSubsampling\n",
    "import numpy as np"
   ]
  },
  {
   "cell_type": "code",
   "execution_count": 2,
   "metadata": {
    "collapsed": true
   },
   "outputs": [],
   "source": [
    "def fun(x):\n",
    "            return 1.0/(1 + 50*(x[0]- 0.9)**2 + 50*(x[1] + 0.9)**2 )"
   ]
  },
  {
   "cell_type": "code",
   "execution_count": 3,
   "metadata": {
    "collapsed": true
   },
   "outputs": [],
   "source": [
    "no_of_subsamples = 10\n",
    "x1 = Parameter(param_type=\"Uniform\", lower=-1, upper=1, points=no_of_subsamples)\n",
    "x2 = Parameter(param_type=\"Uniform\", lower=-1, upper=1, points=no_of_subsamples)\n",
    "parameters = [x1, x2]\n",
    "Hyperbolic = IndexSet(\"Hyperbolic basis\", orders=[no_of_subsamples-1,no_of_subsamples-1], q=0.3)\n",
    "esq = EffectiveSubsampling(parameters, Hyperbolic)\n",
    "minimum_subsamples = esq.least_no_of_subsamples_reqd() \n",
    "esq.set_no_of_evals(minimum_subsamples)"
   ]
  },
  {
   "cell_type": "code",
   "execution_count": 4,
   "metadata": {
    "collapsed": true
   },
   "outputs": [],
   "source": [
    "x, cond = esq.computeCoefficients(fun)"
   ]
  },
  {
   "cell_type": "code",
   "execution_count": 5,
   "metadata": {
    "collapsed": false
   },
   "outputs": [
    {
     "name": "stdout",
     "output_type": "stream",
     "text": [
      "0.0107872858461\n",
      "3.10448153315e-05\n",
      "[ 0.57380852  0.42619148]\n"
     ]
    },
    {
     "data": {
      "image/png": "[encoded data removed]",
      "text/plain": [
       "<matplotlib.figure.Figure at 0x10464db50>"
      ]
     },
     "metadata": {},
     "output_type": "display_data"
    }
   ],
   "source": [
    "statistics = esq.stats(fun)\n",
    "print statistics.mean\n",
    "print statistics.variance\n",
    "print statistics.fosi\n",
    "statistics.plot()"
   ]
  },
  {
   "cell_type": "code",
   "execution_count": null,
   "metadata": {
    "collapsed": true
   },
   "outputs": [],
   "source": []
  },
  {
   "cell_type": "code",
   "execution_count": null,
   "metadata": {
    "collapsed": true
   },
   "outputs": [],
   "source": []
  }
 ],
 "metadata": {
  "anaconda-cloud": {},
  "kernelspec": {
   "display_name": "Python [default]",
   "language": "python",
   "name": "python2"
  },
  "language_info": {
   "codemirror_mode": {
    "name": "ipython",
    "version": 2
   },
   "file_extension": ".py",
   "mimetype": "text/x-python",
   "name": "python",
   "nbconvert_exporter": "python",
   "pygments_lexer": "ipython2",
   "version": "2.7.12"
  }
 },
 "nbformat": 4,
 "nbformat_minor": 1
}
