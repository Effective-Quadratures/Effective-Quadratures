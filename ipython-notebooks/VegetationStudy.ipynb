{
 "cells": [
  {
   "cell_type": "code",
   "execution_count": 1,
   "metadata": {
    "collapsed": false
   },
   "outputs": [],
   "source": [
    "%matplotlib inline\n",
    "from effective_quadratures.PolyParams import PolynomialParam\n",
    "from effective_quadratures.PolyParentFile import PolyParent\n",
    "from effective_quadratures.IndexSets import IndexSet\n",
    "from effective_quadratures.Utils import column, evalfunction\n",
    "import effective_quadratures.MatrixRoutines as mat\n",
    "import effective_quadratures.ComputeStats as stats\n",
    "from effective_quadratures.EffectiveQuadSubsampling import EffectiveSubsampling\n",
    "import numpy as np\n",
    "import matplotlib.pyplot as plt\n",
    "from mpl_toolkits.mplot3d import Axes3D"
   ]
  },
  {
   "cell_type": "markdown",
   "metadata": {},
   "source": [
    "<h1> Vegetation UQ with Effective-Quadratures"
   ]
  },
  {
   "cell_type": "markdown",
   "metadata": {},
   "source": [
    "Consider a uniform variation in the following parameters:\n",
    "    \n",
    "$$\\begin{array}{lll} \\hline\n",
    "Variable & Range & Description \\\\ \\hline\n",
    "\\rho_{shoot} & [38.2, 250.4] & Shoot \\; density \\; (/m^2)\\\\ \n",
    "L & [0.157, 0.313] & Piston \\; blade \\; length \\; (m)\\\\ \n",
    "d & [0.002, 0.01] & Diameter \\;  (m)\\\\ \n",
    "t & [0.0002, 0.001] & Thickness \\; (m)\\\\  \\hline\n",
    "\\end{array}$$"
   ]
  },
  {
   "cell_type": "markdown",
   "metadata": {},
   "source": [
    "Being by setting up the ranges for the four parameters"
   ]
  },
  {
   "cell_type": "code",
   "execution_count": 2,
   "metadata": {
    "collapsed": true
   },
   "outputs": [],
   "source": [
    "quadratic_pts = 3\n",
    "x1 = PolynomialParam(\"Uniform\", 38.2, 250.4, [], [], [], 3)\n",
    "x2 = PolynomialParam(\"Uniform\", 0.157, 0.313, [], [], [], 3)\n",
    "x3 = PolynomialParam(\"Uniform\", 0.002, 0.01, [], [], [], 3)\n",
    "x4 = PolynomialParam(\"Uniform\", 0.0002, 0.001, [], [], [], 3)\n",
    "orders = [2,2,2,2]\n",
    "x1x2x3x4 = [x1, x2, x3, x4]"
   ]
  },
  {
   "cell_type": "markdown",
   "metadata": {},
   "source": [
    "Set the polynomial basis; this will dictate how many function evaluations we will require. Bear in mind that a quadratic in 4 dimensions requires $3^4=81$ points. To reduce the cost we will opt for a total order basis."
   ]
  },
  {
   "cell_type": "code",
   "execution_count": 3,
   "metadata": {
    "collapsed": false
   },
   "outputs": [
    {
     "name": "stdout",
     "output_type": "stream",
     "text": [
      "[[ 0.  0.  0.  0.]\n",
      " [ 0.  0.  0.  1.]\n",
      " [ 0.  0.  0.  2.]\n",
      " [ 0.  0.  1.  0.]\n",
      " [ 0.  0.  1.  1.]\n",
      " [ 0.  0.  2.  0.]\n",
      " [ 0.  1.  0.  0.]\n",
      " [ 0.  1.  0.  1.]\n",
      " [ 0.  1.  1.  0.]\n",
      " [ 0.  2.  0.  0.]\n",
      " [ 1.  0.  0.  0.]\n",
      " [ 1.  0.  0.  1.]\n",
      " [ 1.  0.  1.  0.]\n",
      " [ 1.  1.  0.  0.]\n",
      " [ 2.  0.  0.  0.]]\n",
      "15\n"
     ]
    }
   ],
   "source": [
    "polybasis = IndexSet(\"total order\", orders)\n",
    "print IndexSet.getIndexSet(polybasis)\n",
    "maximum_number_of_evals = IndexSet.getCardinality(polybasis)\n",
    "print maximum_number_of_evals"
   ]
  },
  {
   "cell_type": "code",
   "execution_count": 4,
   "metadata": {
    "collapsed": false
   },
   "outputs": [
    {
     "name": "stdout",
     "output_type": "stream",
     "text": [
      "[[  1.44300000e+02   2.35000000e-01   6.00000000e-03   6.00000000e-04]\n",
      " [  6.21152934e+01   1.74581460e-01   2.90161332e-03   6.00000000e-04]\n",
      " [  2.26484707e+02   2.95418540e-01   6.00000000e-03   2.90161332e-04]\n",
      " [  1.44300000e+02   1.74581460e-01   9.09838668e-03   9.09838668e-04]\n",
      " [  1.44300000e+02   2.95418540e-01   2.90161332e-03   9.09838668e-04]\n",
      " [  6.21152934e+01   2.95418540e-01   6.00000000e-03   2.90161332e-04]\n",
      " [  2.26484707e+02   1.74581460e-01   6.00000000e-03   2.90161332e-04]\n",
      " [  1.44300000e+02   2.95418540e-01   9.09838668e-03   9.09838668e-04]\n",
      " [  1.44300000e+02   2.35000000e-01   9.09838668e-03   2.90161332e-04]\n",
      " [  2.26484707e+02   2.35000000e-01   6.00000000e-03   9.09838668e-04]\n",
      " [  1.44300000e+02   2.35000000e-01   2.90161332e-03   2.90161332e-04]\n",
      " [  6.21152934e+01   2.35000000e-01   6.00000000e-03   9.09838668e-04]\n",
      " [  6.21152934e+01   1.74581460e-01   6.00000000e-03   2.90161332e-04]\n",
      " [  6.21152934e+01   2.35000000e-01   9.09838668e-03   6.00000000e-04]\n",
      " [  1.44300000e+02   1.74581460e-01   2.90161332e-03   9.09838668e-04]]\n"
     ]
    }
   ],
   "source": [
    "effectiveQuads = EffectiveSubsampling(x1x2x3x4, polybasis, 0)\n",
    "A, esquad_pts, W, indices = EffectiveSubsampling.getAsubsampled(effectiveQuads, maximum_number_of_evals)\n",
    "print esquad_pts"
   ]
  },
  {
   "cell_type": "markdown",
   "metadata": {
    "collapsed": true
   },
   "source": [
    "Taking the output from the text file, we have:"
   ]
  },
  {
   "cell_type": "code",
   "execution_count": 13,
   "metadata": {
    "collapsed": false
   },
   "outputs": [],
   "source": [
    "Output = [15.9881,   16.5091 ,  16.0162   ,15.9950,   16.0310  , 16.4592  , 16.0958  , 15.8507 ,  16.0757  , 15.9252  , 16.4301 ,  16.1259 ,  16.4682 ,  16.0501  , 16.2200]\n",
    "Output = np.mat(Output)"
   ]
  },
  {
   "cell_type": "code",
   "execution_count": 14,
   "metadata": {
    "collapsed": false
   },
   "outputs": [],
   "source": [
    "Output = Output.T\n",
    "b = W * Output\n",
    "A, normalizations = mat.rowNormalize(A)\n",
    "b = np.dot(normalizations, b)"
   ]
  },
  {
   "cell_type": "code",
   "execution_count": 17,
   "metadata": {
    "collapsed": false
   },
   "outputs": [],
   "source": [
    "xn = mat.solveLeastSquares(A, b)\n",
    "mean, variance = stats.compute_mean_variance(xn.T, IndexSet.getIndexSet(polybasis))\n",
    "Sobol = stats.compute_first_order_Sobol_indices(xn.T, IndexSet.getIndexSet(polybasis))"
   ]
  },
  {
   "cell_type": "code",
   "execution_count": null,
   "metadata": {
    "collapsed": true
   },
   "outputs": [],
   "source": []
  }
 ],
 "metadata": {
  "kernelspec": {
   "display_name": "Python 2",
   "language": "python",
   "name": "python2"
  },
  "language_info": {
   "codemirror_mode": {
    "name": "ipython",
    "version": 2
   },
   "file_extension": ".py",
   "mimetype": "text/x-python",
   "name": "python",
   "nbconvert_exporter": "python",
   "pygments_lexer": "ipython2",
   "version": "2.7.10"
  }
 },
 "nbformat": 4,
 "nbformat_minor": 0
}
