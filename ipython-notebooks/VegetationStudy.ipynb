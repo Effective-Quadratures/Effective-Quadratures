{
 "cells": [
  {
   "cell_type": "code",
   "execution_count": 1,
   "metadata": {
    "collapsed": false
   },
   "outputs": [],
   "source": [
    "%matplotlib inline\n",
    "from effective_quadratures.parameter import Parameter\n",
    "from effective_quadratures.polynomial import Polynomial\n",
    "from effective_quadratures.indexset import IndexSet\n",
    "from effective_quadratures.effectivequads import EffectiveSubsampling\n",
    "from effective_quadratures.computestats import Statistics\n",
    "import numpy as np"
   ]
  },
  {
   "cell_type": "markdown",
   "metadata": {},
   "source": [
    "<h1> Vegetation UQ with Effective-Quadratures"
   ]
  },
  {
   "cell_type": "markdown",
   "metadata": {},
   "source": [
    "Consider a uniform variation in the following parameters:\n",
    "    \n",
    "$$\\begin{array}{lll} \\hline\n",
    "Variable & Range & Description \\\\ \\hline\n",
    "\\rho_{shoot} & [38.2, 250.4] & Shoot \\; density \\; (/m^2)\\\\ \n",
    "L & [0.157, 0.313] & Plant \\; length \\; (m)\\\\ \n",
    "d & [0.002, 0.01] & Diameter \\;  (m)\\\\ \n",
    "t & [0.0002, 0.001] & Thickness \\; (m)\\\\  \\hline\n",
    "\\end{array}$$"
   ]
  },
  {
   "cell_type": "markdown",
   "metadata": {},
   "source": [
    "Being by setting up the ranges for the four parameters"
   ]
  },
  {
   "cell_type": "code",
   "execution_count": 2,
   "metadata": {
    "collapsed": false
   },
   "outputs": [],
   "source": [
    "x1 = Parameter(lower=38.2, upper=250.4, points=3)\n",
    "x2 = Parameter(lower=0.157, upper=0.313, points=3)\n",
    "x3 = Parameter(lower=0.002, upper=0.01,  points=3)\n",
    "x4 = Parameter(lower=0.0002, upper=0.001, points=3)\n",
    "parameters = [x1, x2, x3, x4]"
   ]
  },
  {
   "cell_type": "markdown",
   "metadata": {},
   "source": [
    "Set the polynomial basis; this will dictate how many function evaluations we will require. Bear in mind that a quadratic in 4 dimensions requires $3^4=81$ points. To reduce the cost we will opt for a total order basis."
   ]
  },
  {
   "cell_type": "code",
   "execution_count": 3,
   "metadata": {
    "collapsed": false
   },
   "outputs": [],
   "source": [
    "orders = [2, 2, 2, 2]\n",
    "polybasis = IndexSet(\"total order\", orders)\n",
    "maximum_number_of_evals = polybasis.getCardinality()"
   ]
  },
  {
   "cell_type": "markdown",
   "metadata": {},
   "source": [
    "We print out the design-of-experiment required to compute the polynomial model"
   ]
  },
  {
   "cell_type": "code",
   "execution_count": 4,
   "metadata": {
    "collapsed": false
   },
   "outputs": [
    {
     "name": "stdout",
     "output_type": "stream",
     "text": [
      "[[  1.44300000e+02   2.35000000e-01   6.00000000e-03   6.00000000e-04]\n",
      " [  6.21152934e+01   1.74581460e-01   2.90161332e-03   6.00000000e-04]\n",
      " [  2.26484707e+02   2.95418540e-01   6.00000000e-03   2.90161332e-04]\n",
      " [  1.44300000e+02   1.74581460e-01   9.09838668e-03   9.09838668e-04]\n",
      " [  1.44300000e+02   2.95418540e-01   2.90161332e-03   9.09838668e-04]\n",
      " [  6.21152934e+01   2.95418540e-01   6.00000000e-03   2.90161332e-04]\n",
      " [  2.26484707e+02   1.74581460e-01   6.00000000e-03   2.90161332e-04]\n",
      " [  1.44300000e+02   2.95418540e-01   9.09838668e-03   9.09838668e-04]\n",
      " [  1.44300000e+02   2.35000000e-01   9.09838668e-03   2.90161332e-04]\n",
      " [  2.26484707e+02   2.35000000e-01   6.00000000e-03   9.09838668e-04]\n",
      " [  1.44300000e+02   2.35000000e-01   2.90161332e-03   2.90161332e-04]\n",
      " [  6.21152934e+01   2.35000000e-01   6.00000000e-03   9.09838668e-04]\n",
      " [  6.21152934e+01   1.74581460e-01   6.00000000e-03   2.90161332e-04]\n",
      " [  6.21152934e+01   2.35000000e-01   9.09838668e-03   6.00000000e-04]\n",
      " [  1.44300000e+02   1.74581460e-01   2.90161332e-03   9.09838668e-04]]\n"
     ]
    }
   ],
   "source": [
    "esq = EffectiveSubsampling(parameters, polybasis)\n",
    "points = esq.getPointsToEvaluate(maximum_number_of_evals)\n",
    "print points"
   ]
  },
  {
   "cell_type": "markdown",
   "metadata": {
    "collapsed": true
   },
   "source": [
    "Taking the output from the text file for dissipation, we have:"
   ]
  },
  {
   "cell_type": "code",
   "execution_count": 9,
   "metadata": {
    "collapsed": false
   },
   "outputs": [],
   "source": [
    "Output = [15.9881,16.5091,16.0162,15.9950,16.0310,16.4592,16.0958,15.8507,16.0757,15.9252,16.4301,16.1259,16.4682,16.0501,16.2200]\n",
    "Output = np.mat(Output)"
   ]
  },
  {
   "cell_type": "markdown",
   "metadata": {},
   "source": [
    "Now we solve the least squares problem, using the esq object"
   ]
  },
  {
   "cell_type": "code",
   "execution_count": 10,
   "metadata": {
    "collapsed": false
   },
   "outputs": [],
   "source": [
    "x = esq.solveLeastSquares(maximum_number_of_evals, Output.T)"
   ]
  },
  {
   "cell_type": "markdown",
   "metadata": {},
   "source": [
    "Having solved for the coefficients for the polynomial expansion, we can now compute statistics!"
   ]
  },
  {
   "cell_type": "code",
   "execution_count": 11,
   "metadata": {
    "collapsed": false
   },
   "outputs": [],
   "source": [
    "vegeUQ = Statistics(x, polybasis)\n",
    "mean = vegeUQ.getMean()\n",
    "variance = vegeUQ.getVariance()\n",
    "sobol = vegeUQ.getFirstOrderSobol()"
   ]
  },
  {
   "cell_type": "markdown",
   "metadata": {},
   "source": [
    "Yay! We are done. Now let's print out the outputs."
   ]
  },
  {
   "cell_type": "code",
   "execution_count": 12,
   "metadata": {
    "collapsed": false
   },
   "outputs": [
    {
     "name": "stdout",
     "output_type": "stream",
     "text": [
      "16.1055166667 0.039443688708\n",
      "[ 0.34801859  0.03922184  0.29234309  0.24367443]\n"
     ]
    }
   ],
   "source": [
    "print mean, variance\n",
    "print sobol"
   ]
  }
 ],
 "metadata": {
  "kernelspec": {
   "display_name": "Python 2",
   "language": "python",
   "name": "python2"
  },
  "language_info": {
   "codemirror_mode": {
    "name": "ipython",
    "version": 2
   },
   "file_extension": ".py",
   "mimetype": "text/x-python",
   "name": "python",
   "nbconvert_exporter": "python",
   "pygments_lexer": "ipython2",
   "version": "2.7.10"
  }
 },
 "nbformat": 4,
 "nbformat_minor": 0
}
