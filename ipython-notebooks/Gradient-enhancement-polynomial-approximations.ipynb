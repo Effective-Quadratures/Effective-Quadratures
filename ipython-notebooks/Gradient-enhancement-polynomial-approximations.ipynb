{
 "cells": [
  {
   "cell_type": "code",
   "execution_count": 1,
   "metadata": {},
   "outputs": [],
   "source": [
    "%matplotlib inline\n",
    "from equadratures import *\n",
    "import numpy as np"
   ]
  },
  {
   "cell_type": "markdown",
   "metadata": {},
   "source": [
    "<h1> On the use of Gradients </h1>"
   ]
  },
  {
   "cell_type": "code",
   "execution_count": 2,
   "metadata": {},
   "outputs": [],
   "source": [
    "x1 = Parameter(distribution='Uniform', order=14, lower=-1., upper=1.)\n",
    "x2 = Parameter(distribution='Uniform', order=14, lower=-1., upper=1.)\n",
    "totalorder = Basis('Total order')"
   ]
  },
  {
   "cell_type": "markdown",
   "metadata": {},
   "source": [
    "Consider the following function and its gradient:\n",
    "$$f(x_1, x_2) = exp( 2 x_1 + x_2),$$\n",
    "$$\\nabla f=\\left(\\begin{array}{c}\n",
    "2 exp( 2 x_1 + x_2) \\\\\n",
    "exp( 2 x_1 + x_2) \n",
    "\\end{array}\\right).$$"
   ]
  },
  {
   "cell_type": "code",
   "execution_count": 3,
   "metadata": {},
   "outputs": [],
   "source": [
    "def fun(x):\n",
    "    return np.exp(2*x[0] + x[1])"
   ]
  },
  {
   "cell_type": "code",
   "execution_count": 4,
   "metadata": {},
   "outputs": [],
   "source": [
    "def gradfun(x):\n",
    "    return [2*np.exp(2*x[0] + x[1]), np.exp(2*x[0] + x[1])]"
   ]
  },
  {
   "cell_type": "markdown",
   "metadata": {},
   "source": [
    "Now lets set up the calculation without gradients! Sample from the given mesh using an optimization strategy and with some level of oversampling."
   ]
  },
  {
   "cell_type": "code",
   "execution_count": 5,
   "metadata": {},
   "outputs": [
    {
     "name": "stdout",
     "output_type": "stream",
     "text": [
      "Iterating...system rank: 3, and the # of rows in Az: 1\n",
      "Iterating...system rank: 6, and the # of rows in Az: 2\n",
      "Iterating...system rank: 9, and the # of rows in Az: 3\n",
      "Iterating...system rank: 12, and the # of rows in Az: 4\n",
      "Iterating...system rank: 15, and the # of rows in Az: 5\n",
      "Iterating...system rank: 18, and the # of rows in Az: 6\n",
      "Iterating...system rank: 21, and the # of rows in Az: 7\n",
      "Iterating...system rank: 24, and the # of rows in Az: 8\n",
      "Iterating...system rank: 27, and the # of rows in Az: 9\n",
      "Iterating...system rank: 30, and the # of rows in Az: 10\n",
      "Iterating...system rank: 33, and the # of rows in Az: 11\n",
      "Iterating...system rank: 36, and the # of rows in Az: 12\n",
      "Iterating...system rank: 39, and the # of rows in Az: 13\n",
      "Iterating...system rank: 42, and the # of rows in Az: 14\n",
      "Iterating...system rank: 45, and the # of rows in Az: 15\n",
      "Iterating...system rank: 48, and the # of rows in Az: 16\n",
      "Iterating...system rank: 51, and the # of rows in Az: 17\n",
      "Iterating...system rank: 54, and the # of rows in Az: 18\n",
      "Iterating...system rank: 57, and the # of rows in Az: 19\n",
      "Iterating...system rank: 60, and the # of rows in Az: 20\n",
      "Iterating...system rank: 63, and the # of rows in Az: 21\n",
      "Iterating...system rank: 66, and the # of rows in Az: 22\n",
      "Iterating...system rank: 69, and the # of rows in Az: 23\n",
      "Iterating...system rank: 72, and the # of rows in Az: 24\n",
      "Iterating...system rank: 75, and the # of rows in Az: 25\n",
      "Iterating...system rank: 78, and the # of rows in Az: 26\n",
      "Iterating...system rank: 81, and the # of rows in Az: 27\n",
      "Iterating...system rank: 84, and the # of rows in Az: 28\n",
      "Iterating...system rank: 87, and the # of rows in Az: 29\n",
      "Iterating...system rank: 90, and the # of rows in Az: 30\n",
      "Iterating...system rank: 93, and the # of rows in Az: 31\n",
      "Iterating...system rank: 95, and the # of rows in Az: 32\n",
      "Iterating...system rank: 97, and the # of rows in Az: 33\n",
      "Iterating...system rank: 98, and the # of rows in Az: 34\n",
      "Iterating...system rank: 99, and the # of rows in Az: 35\n",
      "Iterating...system rank: 100, and the # of rows in Az: 36\n",
      "Iterating...system rank: 101, and the # of rows in Az: 37\n",
      "Iterating...system rank: 102, and the # of rows in Az: 38\n",
      "Iterating...system rank: 103, and the # of rows in Az: 39\n",
      "Iterating...system rank: 106, and the # of rows in Az: 40\n",
      "Iterating...system rank: 107, and the # of rows in Az: 41\n",
      "Iterating...system rank: 108, and the # of rows in Az: 42\n",
      "Iterating...system rank: 111, and the # of rows in Az: 43\n",
      "Iterating...system rank: 112, and the # of rows in Az: 44\n",
      "Iterating...system rank: 113, and the # of rows in Az: 45\n",
      "Iterating...system rank: 116, and the # of rows in Az: 46\n",
      "Iterating...system rank: 117, and the # of rows in Az: 47\n",
      "Iterating...system rank: 117, and the # of rows in Az: 48\n",
      "Iterating...system rank: 117, and the # of rows in Az: 49\n",
      "Iterating...system rank: 117, and the # of rows in Az: 50\n",
      "Iterating...system rank: 120, and the # of rows in Az: 51\n",
      "[[ 9.87992518e-01  9.87992518e-01]\n",
      " [-9.87992518e-01  9.87992518e-01]\n",
      " [ 9.87992518e-01 -9.87992518e-01]\n",
      " [-9.87992518e-01 -9.87992518e-01]\n",
      " [ 9.87992518e-01  7.24417731e-01]\n",
      " [ 9.87992518e-01 -7.24417731e-01]\n",
      " [-9.87992518e-01 -5.70972173e-01]\n",
      " [-9.87992518e-01  5.70972173e-01]\n",
      " [ 2.71524719e-17  9.87992518e-01]\n",
      " [ 2.01194094e-01 -9.87992518e-01]\n",
      " [ 9.87992518e-01  2.01194094e-01]\n",
      " [-8.48206583e-01 -9.87992518e-01]\n",
      " [-8.48206583e-01  9.87992518e-01]\n",
      " [-9.87992518e-01  2.71524719e-17]\n",
      " [-3.94151347e-01 -9.87992518e-01]\n",
      " [ 7.24417731e-01 -9.87992518e-01]\n",
      " [ 7.24417731e-01  9.87992518e-01]\n",
      " [ 9.87992518e-01 -3.94151347e-01]\n",
      " [-3.94151347e-01  9.87992518e-01]\n",
      " [ 3.94151347e-01  9.87992518e-01]\n",
      " [-9.87992518e-01 -8.48206583e-01]\n",
      " [-9.87992518e-01  8.48206583e-01]\n",
      " [-9.37273392e-01 -9.37273392e-01]\n",
      " [-9.37273392e-01  9.37273392e-01]\n",
      " [ 2.71524719e-17  2.71524719e-17]\n",
      " [-8.48206583e-01  8.48206583e-01]\n",
      " [-8.48206583e-01 -8.48206583e-01]\n",
      " [ 7.24417731e-01 -7.24417731e-01]\n",
      " [ 7.24417731e-01  7.24417731e-01]\n",
      " [-5.70972173e-01 -5.70972173e-01]\n",
      " [ 5.70972173e-01 -5.70972173e-01]\n",
      " [ 2.01194094e-01  2.01194094e-01]\n",
      " [ 2.01194094e-01 -2.01194094e-01]\n",
      " [-3.94151347e-01 -3.94151347e-01]\n",
      " [-3.94151347e-01  3.94151347e-01]\n",
      " [-2.01194094e-01 -2.01194094e-01]\n",
      " [-2.01194094e-01  2.01194094e-01]\n",
      " [-7.24417731e-01 -7.24417731e-01]\n",
      " [ 3.94151347e-01 -3.94151347e-01]\n",
      " [-2.01194094e-01  9.37273392e-01]\n",
      " [ 9.37273392e-01  9.37273392e-01]\n",
      " [ 8.48206583e-01 -8.48206583e-01]\n",
      " [-9.37273392e-01 -7.24417731e-01]\n",
      " [ 3.94151347e-01  3.94151347e-01]\n",
      " [-5.70972173e-01  5.70972173e-01]\n",
      " [-9.37273392e-01  7.24417731e-01]\n",
      " [ 5.70972173e-01  5.70972173e-01]\n",
      " [-7.24417731e-01  7.24417731e-01]\n",
      " [ 9.37273392e-01 -9.37273392e-01]\n",
      " [ 8.48206583e-01  8.48206583e-01]\n",
      " [-3.94151347e-01  2.71524719e-17]\n",
      " [-7.24417731e-01 -3.94151347e-01]\n",
      " [-5.70972173e-01 -2.01194094e-01]\n",
      " [-5.70972173e-01  2.01194094e-01]\n",
      " [-7.24417731e-01  2.71524719e-17]\n",
      " [-3.94151347e-01 -7.24417731e-01]\n",
      " [ 5.70972173e-01 -8.48206583e-01]\n",
      " [ 2.71524719e-17 -3.94151347e-01]\n",
      " [-8.48206583e-01 -2.01194094e-01]\n",
      " [ 3.94151347e-01 -7.24417731e-01]\n",
      " [ 2.01194094e-01 -5.70972173e-01]]\n"
     ]
    }
   ],
   "source": [
    "OBJECT = Polylsq(parameters=[x1, x2], \n",
    "            basis=totalorder, \n",
    "            mesh='tensor', \n",
    "            optimization='greedy-qr',\n",
    "            oversampling=1.2, gradients=True)\n",
    "print OBJECT.quadraturePoints"
   ]
  },
  {
   "cell_type": "code",
   "execution_count": 6,
   "metadata": {
    "scrolled": true
   },
   "outputs": [
    {
     "data": {
      "image/png": "[encoded data removed]",
      "text/plain": [
       "<matplotlib.figure.Figure at 0x10ac07f10>"
      ]
     },
     "metadata": {},
     "output_type": "display_data"
    }
   ],
   "source": [
    "OBJECT.computeCoefficients(fun, gradfun, 'weighted')\n",
    "coeffplot2D(OBJECT.coefficients, OBJECT.basis.elements, 'i_1', 'i_2')"
   ]
  },
  {
   "cell_type": "code",
   "execution_count": 7,
   "metadata": {},
   "outputs": [
    {
     "data": {
      "image/png": "[encoded data removed]",
      "text/plain": [
       "<matplotlib.figure.Figure at 0x10ac39350>"
      ]
     },
     "metadata": {},
     "output_type": "display_data"
    }
   ],
   "source": [
    "OBJECT.computeCoefficients(fun, gradfun, 'null-space')\n",
    "coeffplot2D(OBJECT.coefficients, OBJECT.basis.elements, 'i_1', 'i_2')"
   ]
  },
  {
   "cell_type": "code",
   "execution_count": 8,
   "metadata": {},
   "outputs": [
    {
     "data": {
      "image/png": "[encoded data removed]",
      "text/plain": [
       "<matplotlib.figure.Figure at 0x10bef5210>"
      ]
     },
     "metadata": {},
     "output_type": "display_data"
    }
   ],
   "source": [
    "OBJECT.computeCoefficients(fun, gradfun, 'direct-elimination')\n",
    "coeffplot2D(OBJECT.coefficients, OBJECT.basis.elements, 'i_1', 'i_2')"
   ]
  },
  {
   "cell_type": "code",
   "execution_count": 9,
   "metadata": {},
   "outputs": [
    {
     "name": "stdout",
     "output_type": "stream",
     "text": [
      "[[ 0.  0.]\n",
      " [ 0.  1.]\n",
      " [ 1.  0.]\n",
      " [ 1.  1.]\n",
      " [ 0.  2.]\n",
      " [ 2.  0.]\n",
      " [ 1.  2.]\n",
      " [ 2.  1.]\n",
      " [ 2.  2.]\n",
      " [ 0.  3.]\n",
      " [ 3.  0.]\n",
      " [ 3.  1.]\n",
      " [ 1.  3.]\n",
      " [ 2.  3.]\n",
      " [ 3.  2.]\n",
      " [ 3.  3.]\n",
      " [ 0.  4.]\n",
      " [ 4.  0.]\n",
      " [ 1.  4.]\n",
      " [ 4.  1.]\n",
      " [ 4.  2.]\n",
      " [ 2.  4.]\n",
      " [ 4.  3.]\n",
      " [ 3.  4.]\n",
      " [ 4.  4.]\n",
      " [ 0.  5.]\n",
      " [ 5.  0.]\n",
      " [ 1.  5.]\n",
      " [ 5.  1.]\n",
      " [ 2.  5.]\n",
      " [ 5.  2.]\n",
      " [ 3.  5.]\n",
      " [ 5.  3.]\n",
      " [ 4.  5.]\n",
      " [ 5.  4.]\n",
      " [ 5.  5.]\n",
      " [ 6.  0.]\n",
      " [ 0.  6.]\n",
      " [ 1.  6.]\n",
      " [ 6.  1.]\n",
      " [ 2.  6.]\n",
      " [ 6.  2.]\n",
      " [ 6.  3.]\n",
      " [ 3.  6.]\n",
      " [ 6.  4.]\n",
      " [ 4.  6.]\n",
      " [ 6.  5.]\n",
      " [ 5.  6.]\n",
      " [ 6.  6.]\n",
      " [ 0.  7.]\n",
      " [ 7.  0.]\n",
      " [ 7.  1.]\n",
      " [ 1.  7.]\n",
      " [ 7.  2.]\n",
      " [ 2.  7.]\n",
      " [ 7.  3.]\n",
      " [ 3.  7.]\n",
      " [ 7.  4.]\n",
      " [ 4.  7.]\n",
      " [ 7.  5.]\n",
      " [ 5.  7.]\n",
      " [ 6.  7.]\n",
      " [ 7.  6.]\n",
      " [ 7.  7.]\n",
      " [ 0.  8.]\n",
      " [ 8.  0.]\n",
      " [ 1.  8.]\n",
      " [ 8.  1.]\n",
      " [ 2.  8.]\n",
      " [ 8.  2.]\n",
      " [ 8.  3.]\n",
      " [ 3.  8.]\n",
      " [ 8.  4.]\n",
      " [ 4.  8.]\n",
      " [ 5.  8.]\n",
      " [ 8.  5.]\n",
      " [ 6.  8.]\n",
      " [ 8.  6.]\n",
      " [ 0.  9.]\n",
      " [ 9.  0.]\n",
      " [ 9.  1.]\n",
      " [ 1.  9.]\n",
      " [ 2.  9.]\n",
      " [ 9.  2.]\n",
      " [ 3.  9.]\n",
      " [ 9.  3.]\n",
      " [ 9.  4.]\n",
      " [ 4.  9.]\n",
      " [ 9.  5.]\n",
      " [ 5.  9.]\n",
      " [10.  0.]\n",
      " [ 0. 10.]\n",
      " [ 1. 10.]\n",
      " [10.  1.]\n",
      " [10.  2.]\n",
      " [ 2. 10.]\n",
      " [ 3. 10.]\n",
      " [10.  3.]\n",
      " [10.  4.]\n",
      " [ 4. 10.]\n",
      " [11.  0.]\n",
      " [ 0. 11.]\n",
      " [ 1. 11.]\n",
      " [11.  1.]\n",
      " [ 2. 11.]\n",
      " [11.  2.]\n",
      " [11.  3.]\n",
      " [ 3. 11.]\n",
      " [12.  0.]\n",
      " [ 0. 12.]\n",
      " [ 1. 12.]\n",
      " [12.  1.]\n",
      " [ 2. 12.]\n",
      " [12.  2.]\n",
      " [ 0. 13.]\n",
      " [13.  0.]\n",
      " [ 1. 13.]\n",
      " [13.  1.]\n",
      " [ 0. 14.]\n",
      " [14.  0.]]\n"
     ]
    }
   ],
   "source": [
    "print OBJECT.basis.elements"
   ]
  },
  {
   "cell_type": "code",
   "execution_count": null,
   "metadata": {},
   "outputs": [],
   "source": []
  }
 ],
 "metadata": {
  "kernelspec": {
   "display_name": "Python 2",
   "language": "python",
   "name": "python2"
  },
  "language_info": {
   "codemirror_mode": {
    "name": "ipython",
    "version": 2
   },
   "file_extension": ".py",
   "mimetype": "text/x-python",
   "name": "python",
   "nbconvert_exporter": "python",
   "pygments_lexer": "ipython2",
   "version": "2.7.14"
  }
 },
 "nbformat": 4,
 "nbformat_minor": 2
}
