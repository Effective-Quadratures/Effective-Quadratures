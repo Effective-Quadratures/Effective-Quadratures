{
 "cells": [
  {
   "cell_type": "markdown",
   "metadata": {},
   "source": [
    "<h1> Gradient Enhanced Effective Quadratures I"
   ]
  },
  {
   "cell_type": "markdown",
   "metadata": {},
   "source": [
    "In this two part tutorial, we demonstrate how we can construct polynomial approximants using effectively subsampled quadratures with gradient evaluations of a model. "
   ]
  },
  {
   "cell_type": "code",
   "execution_count": 1,
   "metadata": {
    "collapsed": false
   },
   "outputs": [
    {
     "ename": "ImportError",
     "evalue": "cannot import name twoDgrid",
     "output_type": "error",
     "traceback": [
      "\u001b[0;31m---------------------------------------------------------------------------\u001b[0m",
      "\u001b[0;31mImportError\u001b[0m                               Traceback (most recent call last)",
      "\u001b[0;32m<ipython-input-1-e5d37ec8c7d1>\u001b[0m in \u001b[0;36m<module>\u001b[0;34m()\u001b[0m\n\u001b[1;32m      5\u001b[0m \u001b[1;32mfrom\u001b[0m \u001b[0meffective_quadratures\u001b[0m\u001b[1;33m.\u001b[0m\u001b[0mcomputestats\u001b[0m \u001b[1;32mimport\u001b[0m \u001b[0mStatistics\u001b[0m\u001b[1;33m\u001b[0m\u001b[0m\n\u001b[1;32m      6\u001b[0m \u001b[1;32mfrom\u001b[0m \u001b[0meffective_quadratures\u001b[0m\u001b[1;33m.\u001b[0m\u001b[0meffectivequads\u001b[0m \u001b[1;32mimport\u001b[0m \u001b[0mEffectiveSubsampling\u001b[0m\u001b[1;33m\u001b[0m\u001b[0m\n\u001b[0;32m----> 7\u001b[0;31m \u001b[1;32mfrom\u001b[0m \u001b[0meffective_quadratures\u001b[0m\u001b[1;33m.\u001b[0m\u001b[0mutils\u001b[0m \u001b[1;32mimport\u001b[0m \u001b[0mmeshgrid\u001b[0m\u001b[1;33m,\u001b[0m \u001b[0mtwoDgrid\u001b[0m\u001b[1;33m,\u001b[0m \u001b[0mevalfunction\u001b[0m\u001b[1;33m,\u001b[0m \u001b[0mevalgradients\u001b[0m\u001b[1;33m\u001b[0m\u001b[0m\n\u001b[0m\u001b[1;32m      8\u001b[0m \u001b[1;32mimport\u001b[0m \u001b[0mnumpy\u001b[0m \u001b[1;32mas\u001b[0m \u001b[0mnp\u001b[0m\u001b[1;33m\u001b[0m\u001b[0m\n\u001b[1;32m      9\u001b[0m \u001b[1;32mimport\u001b[0m \u001b[0mmatplotlib\u001b[0m\u001b[1;33m.\u001b[0m\u001b[0mpyplot\u001b[0m \u001b[1;32mas\u001b[0m \u001b[0mplt\u001b[0m\u001b[1;33m\u001b[0m\u001b[0m\n",
      "\u001b[0;31mImportError\u001b[0m: cannot import name twoDgrid"
     ]
    }
   ],
   "source": [
    "%matplotlib inline\n",
    "from effective_quadratures.parameter import Parameter\n",
    "from effective_quadratures.polynomial import Polynomial\n",
    "from effective_quadratures.indexset import IndexSet\n",
    "from effective_quadratures.computestats import Statistics\n",
    "from effective_quadratures.effectivequads import EffectiveSubsampling\n",
    "from effective_quadratures.utils import meshgrid, twoDgrid, evalfunction, evalgradients\n",
    "import numpy as np\n",
    "import matplotlib.pyplot as plt\n",
    "import math\n",
    "np.set_printoptions(precision=3)"
   ]
  },
  {
   "cell_type": "markdown",
   "metadata": {},
   "source": [
    "Consider the following function and its gradient:\n",
    "$$f(x_1, x_2) = exp( x_1 + x_2),$$\n",
    "$$\\nabla f=\\left(\\begin{array}{c}\n",
    "exp( x_1 + x_2) + \\gamma\\\\\n",
    "exp( x_1 + x_2) + \\gamma\n",
    "\\end{array}\\right).$$"
   ]
  },
  {
   "cell_type": "markdown",
   "metadata": {},
   "source": [
    "We start by defining our computational model:"
   ]
  },
  {
   "cell_type": "code",
   "execution_count": null,
   "metadata": {
    "collapsed": true
   },
   "outputs": [],
   "source": [
    "def fun(x):\n",
    "    return np.exp(x[0] + x[1])\n",
    "\n",
    "def fungrad(x):\n",
    "    return [np.exp(x[0] + x[1]), np.exp(x[0] + x[1])] \n",
    "\n",
    "def fungradnoised(x):\n",
    "    return [np.exp(x[0] + x[1]) - 0.001*np.random.rand(1), np.exp(x[0] + x[1])- 0.001*np.random.rand(1)] "
   ]
  },
  {
   "cell_type": "code",
   "execution_count": null,
   "metadata": {
    "collapsed": false
   },
   "outputs": [],
   "source": [
    "value = 11\n",
    "x1 = Parameter(param_type=\"Uniform\", lower=-1, upper=1, points=value, derivative_flag=1)\n",
    "x2 = Parameter(param_type=\"Uniform\", lower=-1, upper=1, points=value, derivative_flag=1)\n",
    "parameters = [x1, x2]\n",
    "hyperbolic_cross = IndexSet(\"Hyperbolic basis\", orders=[value-1,value-1], q=1.0)\n",
    "\n",
    "# Without gradients!\n",
    "esq = EffectiveSubsampling(parameters, hyperbolic_cross)\n",
    "esq.set_no_of_evals(esq.no_of_basis_terms) # in effect making it a square system!\n",
    "x = esq.computeCoefficients(fun, 'weighted')\n",
    "\n",
    "# Now with gradients\n",
    "print esq.no_of_basis_terms\n",
    "esq.set_no_of_evals(20)\n",
    "x1 =  esq.computeCoefficients(fun, fungrad,'weighted')\n",
    "x1b =  esq.computeCoefficients(fun, fungrad,'equality')\n",
    "weighted_error = np.linalg.norm(x-x1, 2)\n",
    "equality_error = np.linalg.norm(x-x1b, 2)"
   ]
  },
  {
   "cell_type": "code",
   "execution_count": null,
   "metadata": {
    "collapsed": false
   },
   "outputs": [],
   "source": [
    "print weighted_error, equality_error"
   ]
  },
  {
   "cell_type": "markdown",
   "metadata": {},
   "source": [
    "The total number of basis terms in this basis is:"
   ]
  },
  {
   "cell_type": "code",
   "execution_count": null,
   "metadata": {
    "collapsed": false
   },
   "outputs": [],
   "source": [
    "#esq.set_no_of_evals(evals)\n",
    "#cols_to_prune = 5\n",
    "#esq.prune(cols_to_prune)\n",
    "#x1 =  esq.computeCoefficients(fun, fungrad,'weighted')\n",
    "#x1b =  esq.computeCoefficients(fun, fungrad,'equality')\n",
    "#xnew =  x[0:(terms-cols_to_prune)]\n",
    "#weighted_error = np.linalg.norm(xnew-x1, 2)\n",
    "#equality_error = np.linalg.norm(xnew-x1b, 2)\n",
    "#print weighted_error, equality_error"
   ]
  }
 ],
 "metadata": {
  "anaconda-cloud": {},
  "kernelspec": {
   "display_name": "Python [conda root]",
   "language": "python",
   "name": "conda-root-py"
  },
  "language_info": {
   "codemirror_mode": {
    "name": "ipython",
    "version": 2
   },
   "file_extension": ".py",
   "mimetype": "text/x-python",
   "name": "python",
   "nbconvert_exporter": "python",
   "pygments_lexer": "ipython2",
   "version": "2.7.12"
  }
 },
 "nbformat": 4,
 "nbformat_minor": 0
}
