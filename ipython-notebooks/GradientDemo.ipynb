{
 "cells": [
  {
   "cell_type": "markdown",
   "metadata": {},
   "source": [
    "<h1> On Gradients with Effective-Quadratures"
   ]
  },
  {
   "cell_type": "code",
   "execution_count": 1,
   "metadata": {
    "collapsed": false
   },
   "outputs": [],
   "source": [
    "%matplotlib inline\n",
    "from effective_quadratures.parameter import Parameter\n",
    "from effective_quadratures.polynomial import Polynomial\n",
    "from effective_quadratures.indexset import IndexSet\n",
    "from effective_quadratures.computestats import Statistics\n",
    "from effective_quadratures.effectivequads import EffectiveSubsampling\n",
    "from effective_quadratures.utils import meshgrid, twoDgrid, evalfunction, evalgradients\n",
    "import numpy as np\n",
    "import matplotlib.pyplot as plt"
   ]
  },
  {
   "cell_type": "markdown",
   "metadata": {},
   "source": [
    "Consider the following function and its gradient:\n",
    "$$f(x_1, x_2) = cos(x_1) + sin(2x_2),$$\n",
    "$$\\nabla f=\\left(\\begin{array}{c}\n",
    "-sin(x_{1})\\\\\n",
    "2cos(2x_{2})\n",
    "\\end{array}\\right).$$"
   ]
  },
  {
   "cell_type": "markdown",
   "metadata": {},
   "source": [
    "We start by defining our computational model:"
   ]
  },
  {
   "cell_type": "code",
   "execution_count": 2,
   "metadata": {
    "collapsed": true
   },
   "outputs": [],
   "source": [
    "def fun(x):\n",
    "    return np.cos(x[0]) + np.sin(2*x[1])\n",
    "\n",
    "def fungrad(x):\n",
    "    return [-np.sin(x[0]),2*np.cos(2*x[1])] "
   ]
  },
  {
   "cell_type": "code",
   "execution_count": 3,
   "metadata": {
    "collapsed": false
   },
   "outputs": [],
   "source": [
    "x1 = Parameter(param_type=\"Uniform\", lower=-1, upper=1, points=4, derivative_flag=1)\n",
    "x2 = Parameter(param_type=\"Uniform\", lower=-1, upper=1, points=4, derivative_flag=1)\n",
    "parameters = [x1, x2]"
   ]
  },
  {
   "cell_type": "markdown",
   "metadata": {},
   "source": [
    "Now select a hyperbolic basis"
   ]
  },
  {
   "cell_type": "code",
   "execution_count": 4,
   "metadata": {
    "collapsed": false
   },
   "outputs": [],
   "source": [
    "hyperbolic_cross = IndexSet(\"Hyperbolic basis\", orders=[3,3], q=1.0)\n",
    "maximum_number_of_evals = hyperbolic_cross.getCardinality()"
   ]
  },
  {
   "cell_type": "markdown",
   "metadata": {},
   "source": [
    "Some useful text goes here..."
   ]
  },
  {
   "cell_type": "code",
   "execution_count": 5,
   "metadata": {
    "collapsed": false
   },
   "outputs": [
    {
     "name": "stdout",
     "output_type": "stream",
     "text": [
      "10\n"
     ]
    }
   ],
   "source": [
    "esq = EffectiveSubsampling(parameters, hyperbolic_cross)\n",
    "print esq.no_of_basis_terms"
   ]
  },
  {
   "cell_type": "markdown",
   "metadata": {},
   "source": [
    "Now we set the number of function evaluations to be equivalent to the number of basis terms. "
   ]
  },
  {
   "cell_type": "code",
   "execution_count": 6,
   "metadata": {
    "collapsed": false
   },
   "outputs": [],
   "source": [
    "esq.set_no_of_evals(10)"
   ]
  },
  {
   "cell_type": "code",
   "execution_count": 7,
   "metadata": {
    "collapsed": false,
    "scrolled": true
   },
   "outputs": [
    {
     "name": "stdout",
     "output_type": "stream",
     "text": [
      "[[  8.41470844e-01]\n",
      " [  7.54356559e-01]\n",
      " [  1.66533454e-16]\n",
      " [ -1.69415887e-01]\n",
      " [ -5.55111512e-17]\n",
      " [  2.77555756e-17]\n",
      " [  1.38777878e-16]\n",
      " [ -1.38688449e-01]\n",
      " [ -1.66533454e-16]\n",
      " [ -2.77555756e-17]]\n"
     ]
    }
   ],
   "source": [
    "#print esq.A_subsampled\n",
    "#print '\\n'\n",
    "#print esq.C_subsampled\n",
    "print esq.computeCoefficients(fun)\n",
    "#print '***********'\n",
    "#print esq.computeCoefficients(fun, fungrad,'stacked')\n",
    "#print '\\n'\n",
    "#print esq.computeCoefficients(fun, fungrad, 'equality')"
   ]
  }
 ],
 "metadata": {
  "anaconda-cloud": {},
  "kernelspec": {
   "display_name": "Python [conda root]",
   "language": "python",
   "name": "conda-root-py"
  },
  "language_info": {
   "codemirror_mode": {
    "name": "ipython",
    "version": 2
   },
   "file_extension": ".py",
   "mimetype": "text/x-python",
   "name": "python",
   "nbconvert_exporter": "python",
   "pygments_lexer": "ipython2",
   "version": "2.7.12"
  }
 },
 "nbformat": 4,
 "nbformat_minor": 0
}
