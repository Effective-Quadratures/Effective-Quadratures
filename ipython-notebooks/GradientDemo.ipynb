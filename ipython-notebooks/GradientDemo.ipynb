{
 "cells": [
  {
   "cell_type": "markdown",
   "metadata": {},
   "source": [
    "<h1> On Gradients with Effective-Quadratures"
   ]
  },
  {
   "cell_type": "code",
   "execution_count": 1,
   "metadata": {
    "collapsed": false
   },
   "outputs": [],
   "source": [
    "%matplotlib inline\n",
    "from effective_quadratures.parameter import Parameter\n",
    "from effective_quadratures.polynomial import Polynomial\n",
    "from effective_quadratures.indexset import IndexSet\n",
    "from effective_quadratures.computestats import Statistics\n",
    "from effective_quadratures.effectivequads import EffectiveSubsampling\n",
    "from effective_quadratures.utils import meshgrid, twoDgrid, evalfunction, evalgradients\n",
    "import numpy as np\n",
    "import matplotlib.pyplot as plt"
   ]
  },
  {
   "cell_type": "markdown",
   "metadata": {},
   "source": [
    "Consider the following function and its gradient:\n",
    "$$f(x_1, x_2) = cos(x_1) + sin(2x_2),$$\n",
    "$$\\nabla f=\\left(\\begin{array}{c}\n",
    "-sin(x_{1})\\\\\n",
    "2cos(2x_{2})\n",
    "\\end{array}\\right).$$"
   ]
  },
  {
   "cell_type": "markdown",
   "metadata": {},
   "source": [
    "We start by defining our computational model:"
   ]
  },
  {
   "cell_type": "code",
   "execution_count": 2,
   "metadata": {
    "collapsed": true
   },
   "outputs": [],
   "source": [
    "def fun(x):\n",
    "    return np.cos(x[0]) + np.sin(2*x[1])\n",
    "\n",
    "def fungrad(x):\n",
    "    return [-np.sin(x[0]),2*np.cos(2*x[1])] "
   ]
  },
  {
   "cell_type": "code",
   "execution_count": 3,
   "metadata": {
    "collapsed": false
   },
   "outputs": [],
   "source": [
    "x1 = Parameter(param_type=\"Uniform\", lower=-1, upper=1, points=6, derivative_flag=1)\n",
    "x2 = Parameter(param_type=\"Uniform\", lower=-1, upper=1, points=6, derivative_flag=1)\n",
    "parameters = [x1, x2]"
   ]
  },
  {
   "cell_type": "markdown",
   "metadata": {},
   "source": [
    "Now select a hyperbolic basis"
   ]
  },
  {
   "cell_type": "code",
   "execution_count": 4,
   "metadata": {
    "collapsed": false
   },
   "outputs": [],
   "source": [
    "hyperbolic_cross = IndexSet(\"Hyperbolic basis\", orders=[5,5], q=1.0)\n",
    "maximum_number_of_evals = hyperbolic_cross.getCardinality()"
   ]
  },
  {
   "cell_type": "markdown",
   "metadata": {},
   "source": [
    "Some useful text goes here..."
   ]
  },
  {
   "cell_type": "code",
   "execution_count": 5,
   "metadata": {
    "collapsed": false
   },
   "outputs": [
    {
     "name": "stdout",
     "output_type": "stream",
     "text": [
      "21\n"
     ]
    }
   ],
   "source": [
    "esq = EffectiveSubsampling(parameters, hyperbolic_cross)\n",
    "print esq.no_of_basis_terms"
   ]
  },
  {
   "cell_type": "markdown",
   "metadata": {},
   "source": [
    "Now we set the number of function evaluations to be equivalent to the number of basis terms. "
   ]
  },
  {
   "cell_type": "code",
   "execution_count": 6,
   "metadata": {
    "collapsed": false
   },
   "outputs": [],
   "source": [
    "esq.set_no_of_evals(13)"
   ]
  },
  {
   "cell_type": "code",
   "execution_count": 7,
   "metadata": {
    "collapsed": false,
    "scrolled": true
   },
   "outputs": [
    {
     "name": "stdout",
     "output_type": "stream",
     "text": [
      "***********\n",
      "[[  8.41770821e-01]\n",
      " [  7.54013572e-01]\n",
      " [ -2.22753735e-04]\n",
      " [ -1.60557650e-01]\n",
      " [  7.52238913e-05]\n",
      " [  8.47469379e-03]\n",
      " [  1.21255162e-05]\n",
      " [  1.00263684e-05]\n",
      " [ -3.46912663e-06]\n",
      " [  6.42208133e-07]\n",
      " [ -3.12599670e-06]\n",
      " [ -1.38778837e-01]\n",
      " [ -1.85863393e-05]\n",
      " [ -9.60878641e-06]\n",
      " [ -2.23407060e-05]\n",
      " [  7.66581560e-06]\n",
      " [ -1.14560719e-05]\n",
      " [  7.34763351e-06]\n",
      " [  3.02844609e-03]\n",
      " [  2.60062475e-05]\n",
      " [ -7.23807164e-06]]\n"
     ]
    }
   ],
   "source": [
    "#print esq.A_subsampled\n",
    "#print '\\n'\n",
    "#print esq.C_subsampled\n",
    "#print esq.computeCoefficients(fun)\n",
    "print '***********'\n",
    "print esq.computeCoefficients(fun, fungrad,'stacked')\n",
    "#print '\\n'\n",
    "#print esq.computeCoefficients(fun, fungrad, 'equality')"
   ]
  }
 ],
 "metadata": {
  "anaconda-cloud": {},
  "kernelspec": {
   "display_name": "Python [conda root]",
   "language": "python",
   "name": "conda-root-py"
  },
  "language_info": {
   "codemirror_mode": {
    "name": "ipython",
    "version": 2
   },
   "file_extension": ".py",
   "mimetype": "text/x-python",
   "name": "python",
   "nbconvert_exporter": "python",
   "pygments_lexer": "ipython2",
   "version": "2.7.12"
  }
 },
 "nbformat": 4,
 "nbformat_minor": 0
}
