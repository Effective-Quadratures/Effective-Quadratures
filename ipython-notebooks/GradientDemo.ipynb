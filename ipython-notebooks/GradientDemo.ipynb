{
 "cells": [
  {
   "cell_type": "markdown",
   "metadata": {},
   "source": [
    "<h1> Gradient Enhanced Effective Quadratures I"
   ]
  },
  {
   "cell_type": "markdown",
   "metadata": {},
   "source": [
    "In this two part tutorial, we demonstrate how we can construct polynomial approximants using effectively subsampled quadratures with gradient evaluations of a model. "
   ]
  },
  {
   "cell_type": "code",
   "execution_count": 3,
   "metadata": {
    "collapsed": false
   },
   "outputs": [],
   "source": [
    "%matplotlib inline\n",
    "from effective_quadratures.parameter import Parameter\n",
    "from effective_quadratures.polynomial import Polynomial\n",
    "from effective_quadratures.indexset import IndexSet\n",
    "from effective_quadratures.effectivequads import EffectiveSubsampling\n",
    "from effective_quadratures.plotting import coeffplot2D\n",
    "import numpy as np\n"
   ]
  },
  {
   "cell_type": "markdown",
   "metadata": {},
   "source": [
    "Consider the following function and its gradient:\n",
    "$$f(x_1, x_2) = exp( 2 x_1 + x_2),$$\n",
    "$$\\nabla f=\\left(\\begin{array}{c}\n",
    "2 exp( 2 x_1 + x_2) \\\\\n",
    "exp( 2 x_1 + x_2) \n",
    "\\end{array}\\right).$$"
   ]
  },
  {
   "cell_type": "markdown",
   "metadata": {},
   "source": [
    "We start by defining our computational model:"
   ]
  },
  {
   "cell_type": "code",
   "execution_count": 4,
   "metadata": {
    "collapsed": true
   },
   "outputs": [],
   "source": [
    "def fun(x):\n",
    "    return np.exp(2*x[0] + x[1])\n",
    "\n",
    "def fungrad(x):\n",
    "    return [2 * np.exp(2 * x[0] + x[1]), np.exp(2 * x[0] + x[1])] "
   ]
  },
  {
   "cell_type": "code",
   "execution_count": 8,
   "metadata": {
    "collapsed": false
   },
   "outputs": [
    {
     "data": {
      "image/png": "[encoded data removed]",
      "text/plain": [
       "<matplotlib.figure.Figure at 0x10bacc7d0>"
      ]
     },
     "metadata": {},
     "output_type": "display_data"
    }
   ],
   "source": [
    "value = 11\n",
    "x1 = Parameter(param_type=\"Uniform\", lower=-1, upper=1, points=value, derivative_flag=0)\n",
    "x2 = Parameter(param_type=\"Uniform\", lower=-1, upper=1, points=value, derivative_flag=0)\n",
    "parameters = [x1, x2]\n",
    "hyperbolic_cross = IndexSet(\"Total order\", orders=[value-1,value-1])\n",
    "\n",
    "# Without gradients!\n",
    "esq = EffectiveSubsampling(parameters, hyperbolic_cross)\n",
    "esq.set_no_of_evals(esq.no_of_basis_terms) # in effect making it a square system!\n",
    "x, cond = esq.computeCoefficients(fun)\n",
    "\n",
    "coeffplot2D(x, hyperbolic_cross.elements, '$i_1$', '$i_2$')\n",
    "# Now with gradients\n",
    "#print esq.no_of_basis_terms\n",
    "#esq.set_no_of_evals(20)\n",
    "#x1 =  esq.computeCoefficients(fun, fungrad,'weighted')"
   ]
  },
  {
   "cell_type": "code",
   "execution_count": null,
   "metadata": {
    "collapsed": false
   },
   "outputs": [],
   "source": [
    "x1 = Parameter(param_type=\"Uniform\", lower=-1, upper=1, points=value, derivative_flag=0)\n",
    "x2 = Parameter(param_type=\"Uniform\", lower=-1, upper=1, points=value, derivative_flag=0)\n",
    "parameters = [x1, x2]\n",
    "hyperbolic_cross = IndexSet(\"Total order\", orders=[value-1,value-1])\n",
    "\n",
    "# Without gradients!\n",
    "esq = EffectiveSubsampling(parameters, hyperbolic_cross)\n",
    "esq.set_no_of_evals(esq.no_of_basis_terms) # in effect making it a square system!\n",
    "x, cond = esq.computeCoefficients(fun)\n",
    "\n",
    "coeffplot2D(x, hyperbolic_cross.elements, '$i_1$', '$i_2$')"
   ]
  },
  {
   "cell_type": "markdown",
   "metadata": {},
   "source": [
    "The total number of basis terms in this basis is:"
   ]
  },
  {
   "cell_type": "code",
   "execution_count": null,
   "metadata": {
    "collapsed": false
   },
   "outputs": [],
   "source": [
    "#esq.set_no_of_evals(evals)\n",
    "#cols_to_prune = 5\n",
    "#esq.prune(cols_to_prune)\n",
    "#x1 =  esq.computeCoefficients(fun, fungrad,'weighted')\n",
    "#x1b =  esq.computeCoefficients(fun, fungrad,'equality')\n",
    "#xnew =  x[0:(terms-cols_to_prune)]\n",
    "#weighted_error = np.linalg.norm(xnew-x1, 2)\n",
    "#equality_error = np.linalg.norm(xnew-x1b, 2)\n",
    "#print weighted_error, equality_error"
   ]
  }
 ],
 "metadata": {
  "anaconda-cloud": {},
  "kernelspec": {
   "display_name": "Python [default]",
   "language": "python",
   "name": "python2"
  },
  "language_info": {
   "codemirror_mode": {
    "name": "ipython",
    "version": 2
   },
   "file_extension": ".py",
   "mimetype": "text/x-python",
   "name": "python",
   "nbconvert_exporter": "python",
   "pygments_lexer": "ipython2",
   "version": "2.7.12"
  }
 },
 "nbformat": 4,
 "nbformat_minor": 0
}
