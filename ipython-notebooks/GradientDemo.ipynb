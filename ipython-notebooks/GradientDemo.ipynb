{
 "cells": [
  {
   "cell_type": "markdown",
   "metadata": {},
   "source": [
    "<h1> Gradient Enhanced Effective Quadratures I"
   ]
  },
  {
   "cell_type": "markdown",
   "metadata": {},
   "source": [
    "In this two part tutorial, we demonstrate how we can construct polynomial approximants using effectively subsampled quadratures with gradient evaluations of a model. "
   ]
  },
  {
   "cell_type": "code",
   "execution_count": 1,
   "metadata": {
    "collapsed": false
   },
   "outputs": [],
   "source": [
    "%matplotlib inline\n",
    "from effective_quadratures.parameter import Parameter\n",
    "from effective_quadratures.polynomial import Polynomial\n",
    "from effective_quadratures.indexset import IndexSet\n",
    "from effective_quadratures.computestats import Statistics\n",
    "from effective_quadratures.effectivequads import EffectiveSubsampling\n",
    "from effective_quadratures.utils import meshgrid, evalfunction, evalgradients\n",
    "import numpy as np\n",
    "import matplotlib.pyplot as plt\n",
    "import math\n",
    "np.set_printoptions(precision=3)"
   ]
  },
  {
   "cell_type": "markdown",
   "metadata": {},
   "source": [
    "Consider the following function and its gradient:\n",
    "$$f(x_1, x_2) = exp( x_1 + x_2),$$\n",
    "$$\\nabla f=\\left(\\begin{array}{c}\n",
    "exp( x_1 + x_2) + \\gamma\\\\\n",
    "exp( x_1 + x_2) + \\gamma\n",
    "\\end{array}\\right).$$"
   ]
  },
  {
   "cell_type": "markdown",
   "metadata": {},
   "source": [
    "We start by defining our computational model:"
   ]
  },
  {
   "cell_type": "code",
   "execution_count": 2,
   "metadata": {
    "collapsed": true
   },
   "outputs": [],
   "source": [
    "def fun(x):\n",
    "    return np.exp(x[0] + x[1])\n",
    "\n",
    "def fungrad(x):\n",
    "    return [np.exp(x[0] + x[1]), np.exp(x[0] + x[1])] \n",
    "\n",
    "def fungradnoised(x):\n",
    "    return [np.exp(x[0] + x[1]) - 0.001*np.random.rand(1), np.exp(x[0] + x[1])- 0.001*np.random.rand(1)] "
   ]
  },
  {
   "cell_type": "code",
   "execution_count": 3,
   "metadata": {
    "collapsed": false
   },
   "outputs": [
    {
     "ename": "AttributeError",
     "evalue": "'str' object has no attribute 'shape'",
     "output_type": "error",
     "traceback": [
      "\u001b[0;31m---------------------------------------------------------------------------\u001b[0m",
      "\u001b[0;31mAttributeError\u001b[0m                            Traceback (most recent call last)",
      "\u001b[0;32m<ipython-input-3-84da330f9e39>\u001b[0m in \u001b[0;36m<module>\u001b[0;34m()\u001b[0m\n\u001b[1;32m      8\u001b[0m \u001b[0mesq\u001b[0m \u001b[0;34m=\u001b[0m \u001b[0mEffectiveSubsampling\u001b[0m\u001b[0;34m(\u001b[0m\u001b[0mparameters\u001b[0m\u001b[0;34m,\u001b[0m \u001b[0mhyperbolic_cross\u001b[0m\u001b[0;34m)\u001b[0m\u001b[0;34m\u001b[0m\u001b[0m\n\u001b[1;32m      9\u001b[0m \u001b[0mesq\u001b[0m\u001b[0;34m.\u001b[0m\u001b[0mset_no_of_evals\u001b[0m\u001b[0;34m(\u001b[0m\u001b[0mesq\u001b[0m\u001b[0;34m.\u001b[0m\u001b[0mno_of_basis_terms\u001b[0m\u001b[0;34m)\u001b[0m \u001b[0;31m# in effect making it a square system!\u001b[0m\u001b[0;34m\u001b[0m\u001b[0m\n\u001b[0;32m---> 10\u001b[0;31m \u001b[0mx\u001b[0m \u001b[0;34m=\u001b[0m \u001b[0mesq\u001b[0m\u001b[0;34m.\u001b[0m\u001b[0mcomputeCoefficients\u001b[0m\u001b[0;34m(\u001b[0m\u001b[0mfun\u001b[0m\u001b[0;34m,\u001b[0m \u001b[0;34m'weighted'\u001b[0m\u001b[0;34m)\u001b[0m\u001b[0;34m\u001b[0m\u001b[0m\n\u001b[0m\u001b[1;32m     11\u001b[0m \u001b[0;34m\u001b[0m\u001b[0m\n\u001b[1;32m     12\u001b[0m \u001b[0;31m# Now with gradients\u001b[0m\u001b[0;34m\u001b[0m\u001b[0;34m\u001b[0m\u001b[0m\n",
      "\u001b[0;32m//anaconda/lib/python2.7/site-packages/effective_quadratures-4.0-py2.7.egg/effective_quadratures/effectivequads.pyc\u001b[0m in \u001b[0;36mcomputeCoefficients\u001b[0;34m(self, function_values, gradient_values, technique)\u001b[0m\n\u001b[1;32m    219\u001b[0m                 \u001b[0mgrad_values\u001b[0m \u001b[0;34m=\u001b[0m \u001b[0mgradient_values\u001b[0m\u001b[0;34m\u001b[0m\u001b[0m\n\u001b[1;32m    220\u001b[0m \u001b[0;34m\u001b[0m\u001b[0m\n\u001b[0;32m--> 221\u001b[0;31m             \u001b[0mp\u001b[0m\u001b[0;34m,\u001b[0m \u001b[0mq\u001b[0m \u001b[0;34m=\u001b[0m \u001b[0mgrad_values\u001b[0m\u001b[0;34m.\u001b[0m\u001b[0mshape\u001b[0m\u001b[0;34m\u001b[0m\u001b[0m\n\u001b[0m\u001b[1;32m    222\u001b[0m             \u001b[0md\u001b[0m \u001b[0;34m=\u001b[0m \u001b[0mnp\u001b[0m\u001b[0;34m.\u001b[0m\u001b[0mzeros\u001b[0m\u001b[0;34m(\u001b[0m\u001b[0;34m(\u001b[0m\u001b[0mp\u001b[0m\u001b[0;34m*\u001b[0m\u001b[0mq\u001b[0m\u001b[0;34m,\u001b[0m\u001b[0;36m1\u001b[0m\u001b[0;34m)\u001b[0m\u001b[0;34m)\u001b[0m\u001b[0;34m\u001b[0m\u001b[0m\n\u001b[1;32m    223\u001b[0m             \u001b[0mcounter\u001b[0m \u001b[0;34m=\u001b[0m \u001b[0;36m0\u001b[0m\u001b[0;34m\u001b[0m\u001b[0m\n",
      "\u001b[0;31mAttributeError\u001b[0m: 'str' object has no attribute 'shape'"
     ]
    }
   ],
   "source": [
    "value = 11\n",
    "x1 = Parameter(param_type=\"Uniform\", lower=-1, upper=1, points=value, derivative_flag=1)\n",
    "x2 = Parameter(param_type=\"Uniform\", lower=-1, upper=1, points=value, derivative_flag=1)\n",
    "parameters = [x1, x2]\n",
    "hyperbolic_cross = IndexSet(\"Hyperbolic basis\", orders=[value-1,value-1], q=1.0)\n",
    "\n",
    "# Without gradients!\n",
    "esq = EffectiveSubsampling(parameters, hyperbolic_cross)\n",
    "esq.set_no_of_evals(esq.no_of_basis_terms) # in effect making it a square system!\n",
    "x = esq.computeCoefficients(fun, 'weighted')\n",
    "\n",
    "# Now with gradients\n",
    "print esq.no_of_basis_terms\n",
    "esq.set_no_of_evals(20)\n",
    "x1 =  esq.computeCoefficients(fun, fungrad,'weighted')\n",
    "print x1\n",
    "x1b =  esq.computeCoefficients(fun, fungrad,'equality')\n",
    "weighted_error = np.linalg.norm(x-x1, 2)\n",
    "equality_error = np.linalg.norm(x-x1b, 2)"
   ]
  },
  {
   "cell_type": "code",
   "execution_count": null,
   "metadata": {
    "collapsed": false
   },
   "outputs": [],
   "source": [
    "print weighted_error, equality_error"
   ]
  },
  {
   "cell_type": "markdown",
   "metadata": {},
   "source": [
    "The total number of basis terms in this basis is:"
   ]
  },
  {
   "cell_type": "code",
   "execution_count": null,
   "metadata": {
    "collapsed": false
   },
   "outputs": [],
   "source": [
    "#esq.set_no_of_evals(evals)\n",
    "#cols_to_prune = 5\n",
    "#esq.prune(cols_to_prune)\n",
    "#x1 =  esq.computeCoefficients(fun, fungrad,'weighted')\n",
    "#x1b =  esq.computeCoefficients(fun, fungrad,'equality')\n",
    "#xnew =  x[0:(terms-cols_to_prune)]\n",
    "#weighted_error = np.linalg.norm(xnew-x1, 2)\n",
    "#equality_error = np.linalg.norm(xnew-x1b, 2)\n",
    "#print weighted_error, equality_error"
   ]
  }
 ],
 "metadata": {
  "anaconda-cloud": {},
  "kernelspec": {
   "display_name": "Python 2",
   "language": "python",
   "name": "python2"
  },
  "language_info": {
   "codemirror_mode": {
    "name": "ipython",
    "version": 2
   },
   "file_extension": ".py",
   "mimetype": "text/x-python",
   "name": "python",
   "nbconvert_exporter": "python",
   "pygments_lexer": "ipython2",
   "version": "2.7.4"
  }
 },
 "nbformat": 4,
 "nbformat_minor": 0
}
