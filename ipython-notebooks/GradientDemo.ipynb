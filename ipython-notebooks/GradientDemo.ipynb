{
 "cells": [
  {
   "cell_type": "markdown",
   "metadata": {},
   "source": [
    "<h1> On Gradients with Effective-Quadratures"
   ]
  },
  {
   "cell_type": "code",
   "execution_count": 1,
   "metadata": {
    "collapsed": false
   },
   "outputs": [],
   "source": [
    "%matplotlib inline\n",
    "from effective_quadratures.parameter import Parameter\n",
    "from effective_quadratures.polynomial import Polynomial\n",
    "from effective_quadratures.indexset import IndexSet\n",
    "from effective_quadratures.computestats import Statistics\n",
    "from effective_quadratures.effectivequads import EffectiveSubsampling\n",
    "from effective_quadratures.utils import meshgrid, twoDgrid, evalfunction, evalgradients\n",
    "import numpy as np\n",
    "import matplotlib.pyplot as plt\n",
    "import math\n",
    "np.set_printoptions(precision=3)"
   ]
  },
  {
   "cell_type": "markdown",
   "metadata": {},
   "source": [
    "Consider the following function and its gradient:\n",
    "$$f(x_1, x_2) = exp( x_1 + x_2),$$\n",
    "$$\\nabla f=\\left(\\begin{array}{c}\n",
    "exp( x_1 + x_2) + \\gamma\\\\\n",
    "exp( x_1 + x_2) + \\gamma\n",
    "\\end{array}\\right).$$"
   ]
  },
  {
   "cell_type": "markdown",
   "metadata": {},
   "source": [
    "We start by defining our computational model:"
   ]
  },
  {
   "cell_type": "code",
   "execution_count": 2,
   "metadata": {
    "collapsed": true
   },
   "outputs": [],
   "source": [
    "def fun(x):\n",
    "    return exp(x[0] + x[1])\n",
    "\n",
    "def fungrad(x):\n",
    "    return [exp(x[0] + x[1]) + 0.1*np.random.rand(1), exp(x[0] + x[1]) + 0.1*np.random.rand(1)] \n",
    "\n",
    "def fungrad_noiseless(x):\n",
    "    return [exp(x[0] + x[1]), exp(x[0] + x[1])] "
   ]
  },
  {
   "cell_type": "code",
   "execution_count": 3,
   "metadata": {
    "collapsed": false
   },
   "outputs": [],
   "source": [
    "value = 6\n",
    "x1 = Parameter(param_type=\"Uniform\", lower=-1, upper=1, points=value, derivative_flag=1)\n",
    "x2 = Parameter(param_type=\"Uniform\", lower=-1, upper=1, points=value, derivative_flag=1)\n",
    "parameters = [x1, x2]"
   ]
  },
  {
   "cell_type": "markdown",
   "metadata": {},
   "source": [
    "Now select a hyperbolic basis"
   ]
  },
  {
   "cell_type": "code",
   "execution_count": 4,
   "metadata": {
    "collapsed": false
   },
   "outputs": [],
   "source": [
    "hyperbolic_cross = IndexSet(\"Hyperbolic basis\", orders=[value-1,value-1], q=1.0)\n",
    "maximum_number_of_evals = hyperbolic_cross.getCardinality()"
   ]
  },
  {
   "cell_type": "markdown",
   "metadata": {},
   "source": [
    "Some useful text goes here..."
   ]
  },
  {
   "cell_type": "code",
   "execution_count": 5,
   "metadata": {
    "collapsed": false
   },
   "outputs": [],
   "source": [
    "esq = EffectiveSubsampling(parameters, hyperbolic_cross)\n",
    "terms = esq.no_of_basis_terms"
   ]
  },
  {
   "cell_type": "markdown",
   "metadata": {},
   "source": [
    "Now we set the number of function evaluations to be equivalent to the number of basis terms. "
   ]
  },
  {
   "cell_type": "code",
   "execution_count": 6,
   "metadata": {
    "collapsed": false
   },
   "outputs": [],
   "source": [
    "esq.set_no_of_evals(terms)\n",
    "x =  esq.computeCoefficients(fun)"
   ]
  },
  {
   "cell_type": "code",
   "execution_count": 7,
   "metadata": {
    "collapsed": false,
    "scrolled": false
   },
   "outputs": [
    {
     "name": "stdout",
     "output_type": "stream",
     "text": [
      "10\n"
     ]
    }
   ],
   "source": [
    "evals = int(terms/2)\n",
    "print evals\n",
    "esq.set_no_of_evals(evals)\n",
    "x1 =  esq.computeCoefficients(fun, fungrad,'weighted')\n",
    "x1b =  esq.computeCoefficients(fun, fungrad,'equality')\n",
    "x2 =  esq.computeCoefficients(fun, fungrad_noiseless,'weighted')\n",
    "weighted_error = np.linalg.norm(x-x1, 2)\n",
    "equality_error = np.linalg.norm(x-x1b, 2)\n",
    "weighted_error_noiseless = np.linalg.norm(x-x2, 2)"
   ]
  },
  {
   "cell_type": "code",
   "execution_count": 8,
   "metadata": {
    "collapsed": false
   },
   "outputs": [
    {
     "name": "stdout",
     "output_type": "stream",
     "text": [
      "0.0550700301519 0.0497520212556 1.03492000795e-14\n"
     ]
    }
   ],
   "source": [
    "print weighted_error, equality_error, weighted_error_noiseless"
   ]
  },
  {
   "cell_type": "markdown",
   "metadata": {},
   "source": [
    "Now start pruning down the columns"
   ]
  },
  {
   "cell_type": "code",
   "execution_count": 9,
   "metadata": {
    "collapsed": false
   },
   "outputs": [
    {
     "name": "stdout",
     "output_type": "stream",
     "text": [
      "0.0420764503631 1.63883844104e-14 2.44558458464e-14\n"
     ]
    }
   ],
   "source": [
    "esq.set_no_of_evals(evals)\n",
    "cols_to_prune = 3\n",
    "esq.prune(cols_to_prune)\n",
    "x1 =  esq.computeCoefficients(fun, fungrad,'weighted')\n",
    "x1b =  esq.computeCoefficients(fun, fungrad_noiseless,'equality')\n",
    "x2 =  esq.computeCoefficients(fun, fungrad_noiseless,'weighted')\n",
    "xnew =  x[0:(terms-cols_to_prune)]\n",
    "weighted_error = np.linalg.norm(xnew-x1, 2)\n",
    "equality_error = np.linalg.norm(xnew-x1b, 2)\n",
    "weighted_error_noiseless = np.linalg.norm(xnew-x2, 2)\n",
    "print weighted_error, equality_error, weighted_error_noiseless"
   ]
  },
  {
   "cell_type": "code",
   "execution_count": null,
   "metadata": {
    "collapsed": true
   },
   "outputs": [],
   "source": []
  }
 ],
 "metadata": {
  "anaconda-cloud": {},
  "kernelspec": {
   "display_name": "Python [conda root]",
   "language": "python",
   "name": "conda-root-py"
  },
  "language_info": {
   "codemirror_mode": {
    "name": "ipython",
    "version": 2
   },
   "file_extension": ".py",
   "mimetype": "text/x-python",
   "name": "python",
   "nbconvert_exporter": "python",
   "pygments_lexer": "ipython2",
   "version": "2.7.12"
  }
 },
 "nbformat": 4,
 "nbformat_minor": 0
}
