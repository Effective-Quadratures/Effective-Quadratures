{
 "cells": [
  {
   "cell_type": "markdown",
   "metadata": {},
   "source": [
    "<h1> Monte Carlo vs. Polynomial Chaos </h1>"
   ]
  },
  {
   "cell_type": "markdown",
   "metadata": {},
   "source": [
    "This notebook raises a very important question. Why bother using polynomials for estimating moments? What exactly is the advantage? Moreover, are we guaranteed that we will converge to the Monte Carlo solution? The answer is a resounding yes! Infact this is precisely what Dongbin Xiu and George Karniandakis showed in their seminal paper [1]. "
   ]
  },
  {
   "cell_type": "markdown",
   "metadata": {},
   "source": [
    "As always we begin with some definitions: Parameter, Polynomial and IndexSet. We will also incorporate the Statistics class. "
   ]
  },
  {
   "cell_type": "code",
   "execution_count": 2,
   "metadata": {
    "collapsed": false
   },
   "outputs": [],
   "source": [
    "%matplotlib inline\n",
    "from effective_quadratures.parameter import Parameter\n",
    "from effective_quadratures.polynomial import Polynomial\n",
    "from effective_quadratures.indexset import IndexSet\n",
    "from effective_quadratures.computestats import Statistics\n",
    "#from effective_quadratures.utils import meshgrid, twoDgrid, evalfunction\n",
    "import numpy as np"
   ]
  },
  {
   "cell_type": "markdown",
   "metadata": {},
   "source": [
    "For our model problem, let's consider Rosenbrock's function\n",
    "$$f(x_1, x_2) = (1 - x_1)^2 + 100(x_1 - x_2^2)^2, $$\n",
    "where we will assume that $x_1$ and $x_2$ are two uncertainties. We will assume that both parameters are Gaussians with $\\mu=1$ and $\\sigma=2$. Our objective is to compute the mean and variance in the output $f$: $\\mu(f)$ and $\\sigma(f)$."
   ]
  },
  {
   "cell_type": "code",
   "execution_count": null,
   "metadata": {
    "collapsed": true
   },
   "outputs": [],
   "source": []
  },
  {
   "cell_type": "markdown",
   "metadata": {},
   "source": [
    "Assume we have a computational model -- in this case Rosenbrock's function -- that has two uncertainties. Thus\n",
    "$$f(x_1, x_2) = (1 - x_1)^2 + 100(x_1 - x_2^2)^2$$\n",
    "where\n",
    "$x_1$ and $x_2$ are  Ok cool -- let's begin!"
   ]
  },
  {
   "cell_type": "markdown",
   "metadata": {},
   "source": [
    "We start by defining our computational model, and call it fun(x)"
   ]
  },
  {
   "cell_type": "code",
   "execution_count": null,
   "metadata": {
    "collapsed": true
   },
   "outputs": [],
   "source": [
    "def rosenbrock_fun(x):\n",
    "    return (1 - x[0])**2 + 100*(x[1] - x[0]**2)**2"
   ]
  },
  {
   "cell_type": "markdown",
   "metadata": {},
   "source": [
    "Next, we set the number of evaluation points in each direction. Lets opt for 4 points in the first direction $(x_1)$ and 7 points in the second direction $(x_2)$. Using a tensor grid, this results in 28 points."
   ]
  },
  {
   "cell_type": "code",
   "execution_count": null,
   "metadata": {
    "collapsed": false
   },
   "outputs": [],
   "source": [
    "no_pts_x1 = 5\n",
    "no_pts_x2 = 5\n",
    "mu = 1\n",
    "sigma = 2\n",
    "variance = sigma**2\n",
    "x1 = Parameter(param_type=\"Gaussian\", shape_parameter_A=mu, shape_parameter_B=variance, points=no_pts_x1)\n",
    "x2 = Parameter(param_type=\"Gaussian\", shape_parameter_A=mu, shape_parameter_B=variance, points=no_pts_x2)\n",
    "parameters = [x1, x2]"
   ]
  },
  {
   "cell_type": "markdown",
   "metadata": {},
   "source": [
    "Now, just to be sure we are getting the right distributions, we can plot the Gaussian (with 300 points):"
   ]
  },
  {
   "cell_type": "code",
   "execution_count": null,
   "metadata": {
    "collapsed": false
   },
   "outputs": [],
   "source": [
    "x, w = x1.getPDF(N=300, graph=1)"
   ]
  },
  {
   "cell_type": "code",
   "execution_count": null,
   "metadata": {
    "collapsed": false
   },
   "outputs": [],
   "source": [
    "basis = IndexSet('Tensor grid',[no_pts_x1, no_pts_x2])\n",
    "uqProblem = Polynomial(parameters, basis)\n",
    "pts, wts = uqProblem.getPointsAndWeights()\n",
    "# Now plot the points!\n",
    "plt.scatter(pts[:,0], pts[:,1], s=70, c='r', marker='o');\n",
    "plt.xlabel('x1');\n",
    "plt.ylabel('x2');\n",
    "plt.title('Tensor grid');"
   ]
  },
  {
   "cell_type": "markdown",
   "metadata": {},
   "source": [
    "Now, we evaluate Rosenbrocks function at these points and compute the pseudospectral coefficients:"
   ]
  },
  {
   "cell_type": "code",
   "execution_count": null,
   "metadata": {
    "collapsed": false
   },
   "outputs": [],
   "source": [
    "coefficients, indices, not_used = uqProblem.getPolynomialCoefficients(rosenbrock_fun)\n",
    "\n",
    "# Create an instance of the Statistics class\n",
    "stats = Statistics(coefficients, indices)\n",
    "mean =  stats.getMean()\n",
    "variance = stats.getVariance()"
   ]
  },
  {
   "cell_type": "markdown",
   "metadata": {},
   "source": [
    "We wrap up with some print statements:"
   ]
  },
  {
   "cell_type": "code",
   "execution_count": null,
   "metadata": {
    "collapsed": false
   },
   "outputs": [],
   "source": [
    "print 'MEAN & VARIANCE:'\n",
    "print str(mean)+'\\t'+str(variance)"
   ]
  },
  {
   "cell_type": "markdown",
   "metadata": {},
   "source": [
    "Now we compare this result with brute-force Monte Carlo."
   ]
  },
  {
   "cell_type": "code",
   "execution_count": null,
   "metadata": {
    "collapsed": false
   },
   "outputs": [],
   "source": [
    "large_number = 200000\n",
    "s = sigma * np.random.randn(large_number,2) + mu\n",
    "f = np.zeros((large_number,1))\n",
    "for i in range(0, large_number):\n",
    "    f[i,0] = rosenbrock_fun([s[i,0], s[i,1]])"
   ]
  },
  {
   "cell_type": "code",
   "execution_count": null,
   "metadata": {
    "collapsed": false
   },
   "outputs": [],
   "source": [
    "print 'MONTE CARLO MEAN & VARIANCE:'\n",
    "print str(np.mean(f))+'\\t'+str(np.var(f))"
   ]
  },
  {
   "cell_type": "markdown",
   "metadata": {},
   "source": [
    "They seem pretty close! yay! Now we can do the same using a sparse grid using the sparse pseudospectral approximation method. The steps above remain the same with the exception of the choice of method:"
   ]
  },
  {
   "cell_type": "code",
   "execution_count": null,
   "metadata": {
    "collapsed": false
   },
   "outputs": [],
   "source": [
    "basis = IndexSet(\"Sparse grid\", level=4, growth_rule='linear', dimension=2)\n",
    "uqProblem = Polynomial(parameters, basis)"
   ]
  },
  {
   "cell_type": "markdown",
   "metadata": {},
   "source": [
    "Now lets plot the points associated with this sparse grid"
   ]
  },
  {
   "cell_type": "code",
   "execution_count": null,
   "metadata": {
    "collapsed": false
   },
   "outputs": [],
   "source": [
    "coefficients, index_set, pts = uqProblem.getPolynomialCoefficients(rosenbrock_fun)\n",
    "plt.scatter(pts[:,0], pts[:,1], s=70, c='b', marker='o');\n",
    "plt.xlabel('x1');\n",
    "plt.ylabel('x2');\n",
    "plt.title('Sparse grid');\n",
    "plt.savefig('destination_path.png', format='png', dpi=500)"
   ]
  },
  {
   "cell_type": "markdown",
   "metadata": {
    "collapsed": true
   },
   "source": [
    "And we can also visualize the coefficients. "
   ]
  },
  {
   "cell_type": "code",
   "execution_count": null,
   "metadata": {
    "collapsed": false
   },
   "outputs": [],
   "source": [
    "x,y,z, max_order = twoDgrid(coefficients, index_set)\n",
    "z = np.log10(np.abs(z))\n",
    "\n",
    "# Plot of the pseudospectral coefficients\n",
    "Zm = np.ma.masked_where(np.isnan(z),z)\n",
    "plt.pcolor(y,x, Zm, cmap='jet', vmin=-12, vmax=5)\n",
    "plt.title('SPAM coefficients')\n",
    "plt.xlabel('i1')\n",
    "plt.ylabel('i2')\n",
    "plt.colorbar()\n",
    "plt.xlim(0,max_order)\n",
    "plt.ylim(0,max_order)"
   ]
  },
  {
   "cell_type": "markdown",
   "metadata": {},
   "source": [
    "And finally we compute the mean and variance use the sparse pseudospectral approximation method. Note the code is identical to the tensor grid case, with the exception of our new definition for \"uqProblem\":"
   ]
  },
  {
   "cell_type": "code",
   "execution_count": null,
   "metadata": {
    "collapsed": false
   },
   "outputs": [],
   "source": [
    "# Create an instance of the Statistics class\n",
    "stats = Statistics(coefficients, index_set)\n",
    "mean =  stats.getMean()\n",
    "variance = stats.getVariance()\n",
    "print 'MEAN & VARIANCE:'\n",
    "print str(mean)+'\\t'+str(variance)"
   ]
  }
 ],
 "metadata": {
  "anaconda-cloud": {},
  "kernelspec": {
   "display_name": "Python [default]",
   "language": "python",
   "name": "python2"
  },
  "language_info": {
   "codemirror_mode": {
    "name": "ipython",
    "version": 2
   },
   "file_extension": ".py",
   "mimetype": "text/x-python",
   "name": "python",
   "nbconvert_exporter": "python",
   "pygments_lexer": "ipython2",
   "version": "2.7.12"
  }
 },
 "nbformat": 4,
 "nbformat_minor": 0
}
