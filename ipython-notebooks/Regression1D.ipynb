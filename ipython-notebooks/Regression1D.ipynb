{
 "cells": [
  {
   "cell_type": "markdown",
   "metadata": {},
   "source": [
    "<h1> Polynomial regression in 1D"
   ]
  },
  {
   "cell_type": "markdown",
   "metadata": {},
   "source": [
    "So you have some data, and you'd like to get a \"best-fit\" curve through the data. No problem. That's pretty much what this guide seeks to do. So let's get started; consider the data set below."
   ]
  },
  {
   "cell_type": "markdown",
   "metadata": {},
   "source": [
    "$$\\begin{array}{cc} \\hline\n",
    "  & X &  Y  \\\\ \\hline\n",
    "         0  &  6.8053 \\\\\n",
    "    0.0714  & -1.5184 \\\\\n",
    "    0.1429  &  1.6416 \\\\\n",
    "    0.2143  &  7.0774 \\\\\n",
    "    0.2857  &  6.3543 \\\\\n",
    "    0.3571  &  14.3442 \\\\\n",
    "    0.4286  & 16.4426 \\\\\n",
    "    0.5000  &  17.6663 \\\\\n",
    "    0.5714  &  18.1953 \\\\\n",
    "    0.6429  &  28.9913 \\\\\n",
    "    0.7143  &  27.2246 \\\\\n",
    "    0.7857  &  40.3759 \\\\\n",
    "    0.8571  &  49.8868 \\\\\n",
    "    0.9286  &  55.3726 \\\\\n",
    "    1.0000  &  66.5187 \\\\ \\hline\n",
    "\\end{array}$$\n",
    "\n",
    "Our goal is to compute the best fit quadratic polynomial approximation through this data set. We begin by calling two classes from the code. The first class is the Parameter class, that handles all the information regarding the independent variable, or parameter. The second class is the Polynomial class, which actually generates the \"best-fit\" curve using the information in the parameter. "
   ]
  },
  {
   "cell_type": "code",
   "execution_count": 1,
   "metadata": {
    "collapsed": false
   },
   "outputs": [],
   "source": [
    "%matplotlib inline\n",
    "from effective_quadratures.parameter import Parameter\n",
    "from effective_quadratures.polynomial import Polynomial\n",
    "import numpy as np"
   ]
  },
  {
   "cell_type": "markdown",
   "metadata": {},
   "source": [
    "The first step is to set the limits on the x's. We can assume that x is defined on [0,1]."
   ]
  },
  {
   "cell_type": "code",
   "execution_count": 5,
   "metadata": {
    "collapsed": false
   },
   "outputs": [],
   "source": [
    "x = Parameter(lower=0, upper=1)"
   ]
  },
  {
   "cell_type": "markdown",
   "metadata": {},
   "source": [
    "Now, compile our data into a matrix form:"
   ]
  },
  {
   "cell_type": "code",
   "execution_count": 3,
   "metadata": {
    "collapsed": false
   },
   "outputs": [],
   "source": [
    "x_train = [0,0.0714,0.1429,0.2143,0.2857,0.3571,0.4286,0.5000,0.5714,0.6429,0.7143,0.7857,0.8571,0.9286,1.0000]\n",
    "y_train = [6.8053,-1.5184,1.6416,7.0774,6.3543,14.3442,16.4426,17.6663,18.1953,28.9913,27.2246,40.3759,49.8868,55.3726,66.5187]"
   ]
  },
  {
   "cell_type": "markdown",
   "metadata": {},
   "source": [
    "Now, we call the \"poly"
   ]
  },
  {
   "cell_type": "code",
   "execution_count": 4,
   "metadata": {
    "collapsed": false
   },
   "outputs": [
    {
     "ename": "NameError",
     "evalue": "name 'EffectiveSubsampling' is not defined",
     "output_type": "error",
     "traceback": [
      "\u001b[0;31m---------------------------------------------------------------------------\u001b[0m",
      "\u001b[0;31mNameError\u001b[0m                                 Traceback (most recent call last)",
      "\u001b[0;32m<ipython-input-4-aad942166c15>\u001b[0m in \u001b[0;36m<module>\u001b[0;34m()\u001b[0m\n\u001b[0;32m----> 1\u001b[0;31m \u001b[0mesq\u001b[0m \u001b[0;34m=\u001b[0m \u001b[0mEffectiveSubsampling\u001b[0m\u001b[0;34m(\u001b[0m\u001b[0mparameters\u001b[0m\u001b[0;34m,\u001b[0m \u001b[0mpolybasis\u001b[0m\u001b[0;34m)\u001b[0m\u001b[0;34m\u001b[0m\u001b[0m\n\u001b[0m\u001b[1;32m      2\u001b[0m \u001b[0mpoints\u001b[0m \u001b[0;34m=\u001b[0m \u001b[0mesq\u001b[0m\u001b[0;34m.\u001b[0m\u001b[0mgetEffectivelySubsampledPoints\u001b[0m\u001b[0;34m(\u001b[0m\u001b[0mmaximum_number_of_evals\u001b[0m\u001b[0;34m)\u001b[0m\u001b[0;34m\u001b[0m\u001b[0m\n\u001b[1;32m      3\u001b[0m \u001b[0mx\u001b[0m \u001b[0;34m=\u001b[0m \u001b[0mesq\u001b[0m\u001b[0;34m.\u001b[0m\u001b[0msolveLeastSquares\u001b[0m\u001b[0;34m(\u001b[0m\u001b[0mmaximum_number_of_evals\u001b[0m\u001b[0;34m,\u001b[0m \u001b[0mpiston\u001b[0m\u001b[0;34m)\u001b[0m\u001b[0;34m\u001b[0m\u001b[0m\n",
      "\u001b[0;31mNameError\u001b[0m: name 'EffectiveSubsampling' is not defined"
     ]
    }
   ],
   "source": [
    "esq = EffectiveSubsampling(parameters, polybasis)\n",
    "points = esq.getEffectivelySubsampledPoints(maximum_number_of_evals)\n",
    "x = esq.solveLeastSquares(maximum_number_of_evals, piston)"
   ]
  },
  {
   "cell_type": "markdown",
   "metadata": {},
   "source": [
    "Printing the output to the screen:"
   ]
  },
  {
   "cell_type": "code",
   "execution_count": null,
   "metadata": {
    "collapsed": false
   },
   "outputs": [],
   "source": [
    "pistonUQ = Statistics(x, polybasis)\n",
    "mean = pistonUQ.getMean()\n",
    "variance = pistonUQ.getVariance()\n",
    "sobol = pistonUQ.getFirstOrderSobol()\n",
    "\n",
    "print 'VARIANCE'\n",
    "print variance\n",
    "print '\\n'\n",
    "print 'FIRST ORDER SOBOL INDICES:'\n",
    "print sobol\n",
    "print '\\n'\n",
    "print 'NORMALIZED INDICES'\n",
    "print sobol * variance * 10**2"
   ]
  },
  {
   "cell_type": "markdown",
   "metadata": {},
   "source": [
    "These values closely match those in Owen et al. [3]. "
   ]
  },
  {
   "cell_type": "markdown",
   "metadata": {},
   "source": [
    "<h3> References"
   ]
  },
  {
   "cell_type": "markdown",
   "metadata": {},
   "source": [
    "1. Blatman, Géraud, and Bruno Sudret. \"Adaptive sparse polynomial chaos expansion based on least angle regression.\" Journal of Computational Physics 230.6 (2011): 2345-2367.\n",
    "2. Kenett, Ron, Shelemyahu Zacks, and Daniele Amberti. Modern Industrial Statistics: with applications in R, MINITAB and JMP. John Wiley & Sons, 2013.\n",
    "3. Owen, Art B., Josef Dick, and Su Chen. \"Higher order Sobol'indices.\" Information and Inference 3.1 (2014): 59-81."
   ]
  }
 ],
 "metadata": {
  "anaconda-cloud": {},
  "kernelspec": {
   "display_name": "Python [default]",
   "language": "python",
   "name": "python2"
  },
  "language_info": {
   "codemirror_mode": {
    "name": "ipython",
    "version": 2
   },
   "file_extension": ".py",
   "mimetype": "text/x-python",
   "name": "python",
   "nbconvert_exporter": "python",
   "pygments_lexer": "ipython2",
   "version": "2.7.12"
  }
 },
 "nbformat": 4,
 "nbformat_minor": 0
}
