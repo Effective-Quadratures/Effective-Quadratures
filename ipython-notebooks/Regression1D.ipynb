{
 "cells": [
  {
   "cell_type": "markdown",
   "metadata": {},
   "source": [
    "<h1> Polynomial regression in 1D"
   ]
  },
  {
   "cell_type": "markdown",
   "metadata": {},
   "source": [
    "So you have some data, and you'd like to get a \"best-fit\" curve through the data. No problem. That's pretty much what this guide seeks to do. So let's get started; consider the data set below."
   ]
  },
  {
   "cell_type": "markdown",
   "metadata": {},
   "source": [
    "$$\\begin{array}{cc} \\hline\n",
    "  & X &  Y  \\\\ \\hline\n",
    "         0  &  6.8053 \\\\\n",
    "    0.0714  & -1.5184 \\\\\n",
    "    0.1429  &  1.6416 \\\\\n",
    "    0.2857  &  6.3543 \\\\\n",
    "    0.3571  &  14.3442 \\\\\n",
    "    0.4286  & 16.4426 \\\\\n",
    "    0.5714  &  18.1953 \\\\\n",
    "    0.6429  &  28.9913 \\\\\n",
    "    0.7143  &  27.2246 \\\\\n",
    "    0.7857  &  40.3759 \\\\\n",
    "    0.9286  &  55.3726 \\\\\n",
    "    1.0000  &  66.5187 \\\\ \\hline\n",
    "\\end{array}$$\n",
    "\n",
    "Our goal is to compute the best fit quadratic polynomial approximation through this data set. We begin by calling two classes from the code. The first class is the Parameter class, that handles all the information regarding the independent variable, or parameter. The second class is the Polynomial class, which actually generates the \"best-fit\" curve using the information in the parameter. "
   ]
  },
  {
   "cell_type": "code",
   "execution_count": 1,
   "metadata": {
    "collapsed": false
   },
   "outputs": [],
   "source": [
    "%matplotlib inline\n",
    "from effective_quadratures.polynomial import PolyFit\n",
    "import numpy as np"
   ]
  },
  {
   "cell_type": "code",
   "execution_count": 2,
   "metadata": {
    "collapsed": false
   },
   "outputs": [
    {
     "name": "stdout",
     "output_type": "stream",
     "text": [
      "[[ 0.    ]\n",
      " [ 0.0714]\n",
      " [ 0.1429]\n",
      " [ 0.2857]\n",
      " [ 0.3571]\n",
      " [ 0.4286]\n",
      " [ 0.5714]\n",
      " [ 0.6429]\n",
      " [ 0.7143]\n",
      " [ 0.7857]\n",
      " [ 0.9286]\n",
      " [ 1.    ]]\n",
      "[[  6.8053]\n",
      " [ -1.5184]\n",
      " [  1.6416]\n",
      " [  6.3543]\n",
      " [ 14.3442]\n",
      " [ 16.4426]\n",
      " [ 18.1953]\n",
      " [ 28.9913]\n",
      " [ 27.2246]\n",
      " [ 40.3759]\n",
      " [ 55.3726]\n",
      " [ 66.5187]]\n",
      "got here!\n"
     ]
    }
   ],
   "source": [
    "x_train = np.mat([0,0.0714,0.1429,0.2857,0.3571,0.4286,0.5714,0.6429,0.7143,0.7857,0.9286,1.0000], dtype='float64')\n",
    "y_train = np.mat([6.8053,-1.5184,1.6416,6.3543,14.3442,16.4426,18.1953,28.9913,27.2246,40.3759,55.3726,66.5187], dtype='float64')\n",
    "print x_train.T\n",
    "print y_train.T\n",
    "poly2 = PolyFit(x_train.T, y_train.T, 'linear')"
   ]
  },
  {
   "cell_type": "markdown",
   "metadata": {},
   "source": [
    "Now we now test our model"
   ]
  },
  {
   "cell_type": "code",
   "execution_count": 3,
   "metadata": {
    "collapsed": false
   },
   "outputs": [
    {
     "name": "stdout",
     "output_type": "stream",
     "text": [
      "[[ -6.41367618]\n",
      " [ 60.33669233]]\n",
      "[ 60.33669233]\n",
      "[]\n",
      "********\n"
     ]
    }
   ],
   "source": [
    "x_test = np.mat(np.arange(0.0, 1.0, 0.001), dtype='float64')\n",
    "y_test = poly2.testPolynomial(x_test)"
   ]
  }
 ],
 "metadata": {
  "anaconda-cloud": {},
  "kernelspec": {
   "display_name": "Python [default]",
   "language": "python",
   "name": "python2"
  },
  "language_info": {
   "codemirror_mode": {
    "name": "ipython",
    "version": 2
   },
   "file_extension": ".py",
   "mimetype": "text/x-python",
   "name": "python",
   "nbconvert_exporter": "python",
   "pygments_lexer": "ipython2",
   "version": "2.7.12"
  }
 },
 "nbformat": 4,
 "nbformat_minor": 0
}
