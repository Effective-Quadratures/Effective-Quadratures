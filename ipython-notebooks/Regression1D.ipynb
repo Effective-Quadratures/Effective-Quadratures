{
 "cells": [
  {
   "cell_type": "markdown",
   "metadata": {},
   "source": [
    "<h1> Polynomial regression in 1D"
   ]
  },
  {
   "cell_type": "markdown",
   "metadata": {},
   "source": []
  },
  {
   "cell_type": "markdown",
   "metadata": {},
   "source": [
    "So you have some data, and you'd like to get a \"best-fit\" curve through the data. No problem. That's pretty much what this guide seeks to do. So let's get started; consider the data set below."
   ]
  },
  {
   "cell_type": "markdown",
   "metadata": {},
   "source": [
    "$$\\begin{array}{cc} \\hline\n",
    "  X &  Y  \\\\ \\hline\n",
    "         0  &  6.8053 \\\\\n",
    "    0.0714  & -1.5184 \\\\\n",
    "    0.1429  &  1.6416 \\\\\n",
    "    0.2857  &  6.3543 \\\\\n",
    "    0.3571  &  14.3442 \\\\\n",
    "    0.4286  & 16.4426 \\\\\n",
    "    0.5714  &  18.1953 \\\\\n",
    "    0.6429  &  28.9913 \\\\\n",
    "    0.7143  &  27.2246 \\\\\n",
    "    0.7857  &  40.3759 \\\\\n",
    "    0.9286  &  55.3726 \\\\\n",
    "    1.0000  &  72.0 \\\\ \\hline\n",
    "\\end{array}$$\n",
    "\n",
    "Our goal is to compute the best fit quadratic polynomial approximation through this data set. We begin by calling two classes from the code. The first class is the Parameter class, that handles all the information regarding the independent variable, or parameter. The second class is the Polynomial class, which actually generates the \"best-fit\" curve using the information in the parameter. "
   ]
  },
  {
   "cell_type": "code",
   "execution_count": 1,
   "metadata": {
    "collapsed": false
   },
   "outputs": [],
   "source": [
    "%matplotlib inline\n",
    "import effective_quadratures as eq\n"
   ]
  },
  {
   "cell_type": "markdown",
   "metadata": {},
   "source": [
    "We write the X and Y values above as matrices, and refer to them as the 'training' data set."
   ]
  },
  {
   "cell_type": "code",
   "execution_count": 2,
   "metadata": {
    "collapsed": false
   },
   "outputs": [
    {
     "ename": "NameError",
     "evalue": "name 'Polyreg' is not defined",
     "output_type": "error",
     "traceback": [
      "\u001b[0;31m---------------------------------------------------------------------------\u001b[0m",
      "\u001b[0;31mNameError\u001b[0m                                 Traceback (most recent call last)",
      "\u001b[0;32m<ipython-input-2-394094a9529f>\u001b[0m in \u001b[0;36m<module>\u001b[0;34m()\u001b[0m\n\u001b[1;32m      3\u001b[0m \u001b[0mx_train\u001b[0m \u001b[0;34m=\u001b[0m \u001b[0mx_train\u001b[0m\u001b[0;34m.\u001b[0m\u001b[0mT\u001b[0m\u001b[0;34m\u001b[0m\u001b[0m\n\u001b[1;32m      4\u001b[0m \u001b[0my_train\u001b[0m \u001b[0;34m=\u001b[0m \u001b[0my_train\u001b[0m\u001b[0;34m.\u001b[0m\u001b[0mT\u001b[0m\u001b[0;34m\u001b[0m\u001b[0m\n\u001b[0;32m----> 5\u001b[0;31m \u001b[0mpoly1\u001b[0m \u001b[0;34m=\u001b[0m \u001b[0mPolyreg\u001b[0m\u001b[0;34m(\u001b[0m\u001b[0mx_train\u001b[0m\u001b[0;34m,\u001b[0m \u001b[0my_train\u001b[0m\u001b[0;34m,\u001b[0m \u001b[0;34m'linear'\u001b[0m\u001b[0;34m)\u001b[0m\u001b[0;34m\u001b[0m\u001b[0m\n\u001b[0m",
      "\u001b[0;31mNameError\u001b[0m: name 'Polyreg' is not defined"
     ]
    }
   ],
   "source": [
    "x_train = np.mat([0,0.0714,0.1429,0.2857,0.3571,0.4286,0.5714,0.6429,0.7143,0.7857,0.9286,1.0000], dtype='float64')\n",
    "y_train = np.mat([6.8053,-1.5184,1.6416,6.3543,14.3442,16.4426,18.1953,28.9913,27.2246,40.3759,55.3726,72.0], dtype='float64')\n",
    "x_train = x_train.T\n",
    "y_train = y_train.T\n",
    "poly1 = Polyreg(x_train, y_train, 'linear')"
   ]
  },
  {
   "cell_type": "markdown",
   "metadata": {},
   "source": [
    "Now we now test our model"
   ]
  },
  {
   "cell_type": "code",
   "execution_count": null,
   "metadata": {
    "collapsed": false,
    "scrolled": true
   },
   "outputs": [],
   "source": [
    "x_test = np.arange(0.0, 1.0, 0.01)\n",
    "poly1.plot(x_test)"
   ]
  },
  {
   "cell_type": "markdown",
   "metadata": {},
   "source": [
    "Now, what if we wish to fit a quadratic model to this data set? Simple, just replace the 'linear' option above, with the 'quadratic' one, i.e., "
   ]
  },
  {
   "cell_type": "code",
   "execution_count": null,
   "metadata": {
    "collapsed": false
   },
   "outputs": [],
   "source": [
    "poly2 = Polyreg(x_train, y_train, 'quadratic')\n",
    "poly2.plot(x_test)"
   ]
  },
  {
   "cell_type": "markdown",
   "metadata": {},
   "source": [
    "This concludes this simple notebook on 1D polynomial regression!"
   ]
  }
 ],
 "metadata": {
  "anaconda-cloud": {},
  "kernelspec": {
   "display_name": "Python 2",
   "language": "python",
   "name": "python2"
  },
  "language_info": {
   "codemirror_mode": {
    "name": "ipython",
    "version": 2
   },
   "file_extension": ".py",
   "mimetype": "text/x-python",
   "name": "python",
   "nbconvert_exporter": "python",
   "pygments_lexer": "ipython2",
   "version": "2.7.4"
  }
 },
 "nbformat": 4,
 "nbformat_minor": 0
}
